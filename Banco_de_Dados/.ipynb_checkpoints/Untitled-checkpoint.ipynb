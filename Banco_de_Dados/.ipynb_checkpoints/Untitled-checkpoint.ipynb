{
 "cells": [
  {
   "cell_type": "markdown",
   "metadata": {},
   "source": [
    "# Análise de dados das meninas na computação\n",
    "\n",
    "\n",
    "- Lucas Mafra - \n",
    "- Luíza Aguiar Hansen - 140026711"
   ]
  },
  {
   "cell_type": "markdown",
   "metadata": {},
   "source": [
    "## 1. Data preprocessing"
   ]
  },
  {
   "cell_type": "markdown",
   "metadata": {},
   "source": [
    "### Import libraries"
   ]
  },
  {
   "cell_type": "code",
   "execution_count": 4,
   "metadata": {
    "collapsed": true
   },
   "outputs": [],
   "source": [
    "from numpy import *\n",
    "import csv\n",
    "import sqlite3"
   ]
  },
  {
   "cell_type": "markdown",
   "metadata": {},
   "source": [
    "### Read dataset into matrix of float values"
   ]
  },
  {
   "cell_type": "markdown",
   "metadata": {},
   "source": [
    "lê os dados com as notas do enem/vestibular"
   ]
  },
  {
   "cell_type": "code",
   "execution_count": 7,
   "metadata": {},
   "outputs": [
    {
     "name": "stdout",
     "output_type": "stream",
     "text": [
      "['450908', '2010/1', 'VESTIBULAR', '10/06/1991', '18', 'M', 'Sistema Universal', 'Gestão de Saúde                                                                 ', 'Diurno', 'Campus UnB — Ceilândia / DF', '3.01', '159.70', '-', '-', '-', '-', '-']\n"
     ]
    }
   ],
   "source": [
    "def read_input(filename):\n",
    "    data = []\n",
    "    with open(filename) as file:\n",
    "        data = [i.strip('\\n').split(';')[:-1] for i in file.readlines()]\n",
    "    return data\n",
    "\n",
    "S1 = read_input('input/Dados_ingressantes_unb-2010_a_2016.csv')\n",
    "print(S1[2])"
   ]
  },
  {
   "cell_type": "code",
   "execution_count": 8,
   "metadata": {},
   "outputs": [
    {
     "name": "stdout",
     "output_type": "stream",
     "text": [
      "281025 25\n",
      "['ID Aluno', 'Sexo', 'Data de Nascimento', 'UF de Nascimento', 'Cotista', 'Tipo de Escola', 'Raça', 'Curso', 'Opção', 'Período de Ingresso na Unb', 'Período de ingresso na opção', 'Forma de Ingresso na UnB', 'Período de saída da opção', 'Forma de saída da opção', 'Ano e Semestre', 'Média do período', 'Mín. Créd. Formatura', 'Créditos cursados no total', 'Créditos integralizados no total', 'Créditos a integralizar no total', 'Créditos cursados no semestre(com aprovação)', 'Código da disciplina', 'Nome da disciplina', 'Créditos disciplina', 'Menção na disciplina']\n"
     ]
    }
   ],
   "source": [
    "def read_input(filename):\n",
    "    data = []\n",
    "    with open(filename) as file:\n",
    "        data = [i.strip('\\n').split('\\t') for i in file.readlines()]\n",
    "    return data\n",
    "\n",
    "S2 = read_input('input/novos_dados.csv')\n",
    "print(len(S2), len(S2[0]))\n",
    "print(S2[0])"
   ]
  },
  {
   "cell_type": "code",
   "execution_count": 9,
   "metadata": {
    "collapsed": true
   },
   "outputs": [],
   "source": [
    "# Transformar curso em binário"
   ]
  },
  {
   "cell_type": "markdown",
   "metadata": {},
   "source": [
    "transformar curso em binário \n",
    "CiênciadaComputação -> 0000001 ->1 \n",
    "Computação -> 0000010 -> 2 \n",
    "EngenhariaMecatrônica -> 0000100 -> 4 \n",
    "EngenhariadeComputação -> 0001000 -> 8 \n",
    "EngenhariadeRedesdeComunicação -> 0010000 -> 16 \n",
    "EngenhariadeSoftware -> 0100000 -> 32 \n",
    "Informática -> 1000000 -> 64 "
   ]
  },
  {
   "cell_type": "markdown",
   "metadata": {},
   "source": [
    "separa uma matriz contendo só os cursos"
   ]
  },
  {
   "cell_type": "code",
   "execution_count": 11,
   "metadata": {},
   "outputs": [
    {
     "name": "stdout",
     "output_type": "stream",
     "text": [
      "['Novo Vestibular']\n",
      "['Computação']\n",
      "['Df']\n",
      "['Não']\n",
      "['Não Informada']\n",
      "['Parda']\n",
      "['Vestibular']\n"
     ]
    }
   ],
   "source": [
    "def separa_dados(matriz, num):\n",
    "    data = []\n",
    "    for y in range(0, len(matriz)):\n",
    "        data.append([])\n",
    "        data[y].append(0)\n",
    "        data[y][0] = matriz[y][num].rstrip().title()\n",
    "    return data\n",
    "\n",
    "\n",
    "sexo = separa_dados(S2, 1)\n",
    "curso = separa_dados(S2, 7)\n",
    "opcao = separa_dados(S2, 8)\n",
    "del(opcao[0])\n",
    "cidade = separa_dados(S2, 3)\n",
    "cotista = separa_dados(S2, 4)\n",
    "tipo_escola = separa_dados(S2, 5)\n",
    "raca = separa_dados(S2, 6)\n",
    "forma_ingresso = separa_dados(S2, 11)\n",
    "forma_saida = separa_dados(S2, 13)\n",
    "\n",
    "cursos = curso + opcao\n",
    "\n",
    "print(forma_saida[1])\n",
    "print(cursos[1])\n",
    "print(cidade[1])\n",
    "print(cotista[1])\n",
    "print(tipo_escola[1])\n",
    "print(raca[1])\n",
    "print(forma_ingresso[1])\n",
    "\n"
   ]
  },
  {
   "cell_type": "markdown",
   "metadata": {},
   "source": [
    "coloca em ordem alfabética"
   ]
  },
  {
   "cell_type": "code",
   "execution_count": 13,
   "metadata": {},
   "outputs": [
    {
     "name": "stdout",
     "output_type": "stream",
     "text": [
      "['Ab']\n",
      "['Ciência Da Computação']\n",
      "['Ciência Da Computação']\n",
      "['Ciência Da Computação']\n",
      "['Ciência Da Computação']\n",
      "['Ciência Da Computação']\n",
      "['Ciência Da Computação']\n",
      "['Ciência Da Computação']\n",
      "['Ciência Da Computação']\n",
      "['Ciência Da Computação']\n",
      "['Ciência Da Computação']\n",
      "['Ciência Da Computação']\n",
      "['Ciência Da Computação']\n",
      "['Ciência Da Computação']\n",
      "['Ciência Da Computação']\n",
      "['Ciência Da Computação']\n",
      "['Ciência Da Computação']\n",
      "['Ciência Da Computação']\n",
      "['Ciência Da Computação']\n",
      "['Ciência Da Computação']\n",
      "['']\n",
      "['']\n",
      "['']\n",
      "['']\n",
      "['']\n",
      "['']\n",
      "['']\n",
      "['']\n",
      "['']\n",
      "['']\n",
      "['']\n",
      "['']\n",
      "['']\n",
      "['']\n",
      "['']\n",
      "['']\n",
      "['']\n",
      "['']\n",
      "['']\n",
      "['']\n",
      "['Ab']\n",
      "['Não']\n",
      "['Não']\n",
      "['Não']\n",
      "['Não']\n",
      "['Não']\n",
      "['Não']\n",
      "['Não']\n",
      "['Não']\n",
      "['Não']\n",
      "['Não']\n",
      "['Não']\n",
      "['Não']\n",
      "['Não']\n",
      "['Não']\n",
      "['Não']\n",
      "['Não']\n",
      "['Não']\n",
      "['Não']\n",
      "['Não']\n",
      "['Ab']\n",
      "['Não Informada']\n",
      "['Não Informada']\n",
      "['Não Informada']\n",
      "['Não Informada']\n",
      "['Não Informada']\n",
      "['Não Informada']\n",
      "['Não Informada']\n",
      "['Não Informada']\n",
      "['Não Informada']\n",
      "['Não Informada']\n",
      "['Não Informada']\n",
      "['Não Informada']\n",
      "['Não Informada']\n",
      "['Não Informada']\n",
      "['Não Informada']\n",
      "['Não Informada']\n",
      "['Não Informada']\n",
      "['Não Informada']\n",
      "['Não Informada']\n",
      "['Ab']\n",
      "['Amarela']\n",
      "['Amarela']\n",
      "['Amarela']\n",
      "['Amarela']\n",
      "['Amarela']\n",
      "['Amarela']\n",
      "['Amarela']\n",
      "['Amarela']\n",
      "['Amarela']\n",
      "['Amarela']\n",
      "['Amarela']\n",
      "['Amarela']\n",
      "['Amarela']\n",
      "['Amarela']\n",
      "['Amarela']\n",
      "['Amarela']\n",
      "['Amarela']\n",
      "['Amarela']\n",
      "['Amarela']\n",
      "['Ab']\n",
      "['Acordo Cultural-Pec-G']\n",
      "['Acordo Cultural-Pec-G']\n",
      "['Acordo Cultural-Pec-G']\n",
      "['Acordo Cultural-Pec-G']\n",
      "['Acordo Cultural-Pec-G']\n",
      "['Acordo Cultural-Pec-G']\n",
      "['Acordo Cultural-Pec-G']\n",
      "['Acordo Cultural-Pec-G']\n",
      "['Acordo Cultural-Pec-G']\n",
      "['Acordo Cultural-Pec-G']\n",
      "['Acordo Cultural-Pec-G']\n",
      "['Acordo Cultural-Pec-G']\n",
      "['Acordo Cultural-Pec-G']\n",
      "['Acordo Cultural-Pec-G']\n",
      "['Acordo Cultural-Pec-G']\n",
      "['Acordo Cultural-Pec-G']\n",
      "['Acordo Cultural-Pec-G']\n",
      "['Acordo Cultural-Pec-G']\n",
      "['Acordo Cultural-Pec-G']\n",
      "['Ab']\n",
      "['Ativo']\n",
      "['Ativo']\n",
      "['Ativo']\n",
      "['Ativo']\n",
      "['Ativo']\n",
      "['Ativo']\n",
      "['Ativo']\n",
      "['Ativo']\n",
      "['Ativo']\n",
      "['Ativo']\n",
      "['Ativo']\n",
      "['Ativo']\n",
      "['Ativo']\n",
      "['Ativo']\n",
      "['Ativo']\n",
      "['Ativo']\n",
      "['Ativo']\n",
      "['Ativo']\n",
      "['Ativo']\n"
     ]
    }
   ],
   "source": [
    "def takeSecond(elem):\n",
    "    return elem[0]\n",
    "\n",
    "def ordenar(matriz):\n",
    "    matriz[0][0] = 'Ab'\n",
    "    matriz = sorted(matriz, key=takeSecond)\n",
    "    return matriz\n",
    "\n",
    "cursos = ordenar(cursos)\n",
    "sexo = ordenar(sexo)\n",
    "cidade = ordenar(cidade)\n",
    "cotista = ordenar(cotista)\n",
    "tipo_escola = ordenar(tipo_escola)\n",
    "raca = ordenar(raca)\n",
    "forma_ingresso = ordenar(forma_ingresso)\n",
    "forma_saida = ordenar(forma_saida)\n",
    "\n",
    "for y in range(0, 20):\n",
    "    print(cursos[y])\n",
    "for y in range(0, 20):\n",
    "    print(cidade[y])\n",
    "for y in range(0, 20):\n",
    "    print(cotista[y])\n",
    "for y in range(0, 20):\n",
    "    print(tipo_escola[y])\n",
    "for y in range(0, 20):\n",
    "    print(raca[y])\n",
    "for y in range(0, 20):\n",
    "    print(forma_ingresso[y])\n",
    "for y in range(0, 20):\n",
    "    print(forma_saida[y])"
   ]
  },
  {
   "cell_type": "markdown",
   "metadata": {},
   "source": [
    "binariza os dados"
   ]
  },
  {
   "cell_type": "code",
   "execution_count": 14,
   "metadata": {},
   "outputs": [
    {
     "name": "stdout",
     "output_type": "stream",
     "text": [
      "Ciência Da Computação\n",
      "Computação\n",
      "Engenharia De Computação\n",
      "Engenharia De Controle E Automação\n",
      "Engenharia De Redes De Comunicação\n",
      "Engenharia De Software\n",
      "Engenharia Mecatrônica\n",
      "Informática\n",
      "F\n",
      "M\n",
      "Ab\n",
      "Ac\n",
      "Al\n",
      "Am\n",
      "Ap\n",
      "Ba\n",
      "Ce\n",
      "Df\n",
      "Es\n",
      "Go\n",
      "Ma\n",
      "Mg\n",
      "Ms\n",
      "Mt\n",
      "Pa\n",
      "Pb\n",
      "Pe\n",
      "Pi\n",
      "Pr\n",
      "Rj\n",
      "Rn\n",
      "Ro\n",
      "Rr\n",
      "Rs\n",
      "Sc\n",
      "Se\n",
      "Sp\n",
      "To\n",
      "Não\n",
      "Sim\n",
      "Não Informada\n",
      "Particular\n",
      "Pública\n",
      "Amarela\n",
      "Branca\n",
      "Indigena\n",
      "Não Cadastrada\n",
      "Não Dispõe Da Informação\n",
      "Não Informado\n",
      "Parda\n",
      "Preta\n",
      "Acordo Cultural-Pec-G\n",
      "Convênio - Andifes\n",
      "Convênio-Int\n",
      "Enem\n",
      "Matrícula Cortesia\n",
      "Pec-Peppfol-Graduação\n",
      "Portador Diplom Curso Superior\n",
      "Programa De Avaliação Seriada\n",
      "Refugiado\n",
      "Sisu-Sistema De Seleção Unificada\n",
      "Transferência Facultativa\n",
      "Transferência Obrigatória\n",
      "Vestibular\n",
      "Vestibular Para Mesmo Curso\n",
      "Ativo\n",
      "Deslig - Não Cumpriu Condição\n",
      "Desligamento - Abandono\n",
      "Desligamento Decisão  Judicial\n",
      "Desligamento Falt Documentação\n",
      "Desligamento Jubilamento\n",
      "Desligamento Por Força De Intercãmbio\n",
      "Desligamento Voluntário\n",
      "Desligamento-Força De Convênio\n",
      "Falecimento\n",
      "Formatura\n",
      "Mudança De Curso\n",
      "Mudança De Turno\n",
      "Novo Vestibular\n",
      "Outros\n",
      "Repr 3 Vezes Na Mesma Disc Obr\n",
      "Transferência\n",
      "Vestibular P/Outra Habilitação\n"
     ]
    }
   ],
   "source": [
    "def formar_lista(matriz):    \n",
    "    x = 0\n",
    "    data = []\n",
    "    for y in range(1, len(matriz)):\n",
    "        if matriz[y-1][0]!=matriz[y][0]:\n",
    "            print(matriz[y][0])\n",
    "            data.append([])\n",
    "            data[x].append(0)\n",
    "            data[x] = matriz[y][0]\n",
    "            x = x+1\n",
    "    return data\n",
    "\n",
    "cursos = formar_lista(cursos)\n",
    "sexo = formar_lista(sexo)\n",
    "cidade = formar_lista(cidade)\n",
    "cotista = formar_lista(cotista)\n",
    "tipo_escola = formar_lista(tipo_escola)\n",
    "raca = formar_lista(raca)\n",
    "forma_ingresso = formar_lista(forma_ingresso)\n",
    "forma_saida = formar_lista(forma_saida)\n"
   ]
  },
  {
   "cell_type": "code",
   "execution_count": 15,
   "metadata": {},
   "outputs": [
    {
     "name": "stdout",
     "output_type": "stream",
     "text": [
      "Ciência Da Computação\n",
      "1\n",
      "Computação\n",
      "2\n",
      "Engenharia De Computação\n",
      "4\n",
      "Engenharia De Controle E Automação\n",
      "8\n",
      "Engenharia De Redes De Comunicação\n",
      "16\n",
      "Engenharia De Software\n",
      "32\n",
      "Engenharia Mecatrônica\n",
      "64\n",
      "Informática\n",
      "128\n",
      "Ab\n",
      "1\n",
      "Ac\n",
      "2\n",
      "Al\n",
      "4\n",
      "Am\n",
      "8\n",
      "Ap\n",
      "16\n",
      "Ba\n",
      "32\n",
      "Ce\n",
      "64\n",
      "Df\n",
      "128\n",
      "Es\n",
      "256\n",
      "Go\n",
      "512\n",
      "Ma\n",
      "1024\n",
      "Mg\n",
      "2048\n",
      "Ms\n",
      "4096\n",
      "Mt\n",
      "8192\n",
      "Pa\n",
      "16384\n",
      "Pb\n",
      "32768\n",
      "Pe\n",
      "65536\n",
      "Pi\n",
      "131072\n",
      "Pr\n",
      "262144\n",
      "Rj\n",
      "524288\n",
      "Rn\n",
      "1048576\n",
      "Ro\n",
      "2097152\n",
      "Rr\n",
      "4194304\n",
      "Rs\n",
      "8388608\n",
      "Sc\n",
      "16777216\n",
      "Se\n",
      "33554432\n",
      "Sp\n",
      "67108864\n",
      "To\n",
      "134217728\n",
      "Não\n",
      "1\n",
      "Sim\n",
      "2\n",
      "Não Informada\n",
      "1\n",
      "Particular\n",
      "2\n",
      "Pública\n",
      "4\n",
      "Amarela\n",
      "1\n",
      "Branca\n",
      "2\n",
      "Indigena\n",
      "4\n",
      "Não Cadastrada\n",
      "8\n",
      "Não Dispõe Da Informação\n",
      "16\n",
      "Não Informado\n",
      "32\n",
      "Parda\n",
      "64\n",
      "Preta\n",
      "128\n",
      "Acordo Cultural-Pec-G\n",
      "1\n",
      "Convênio - Andifes\n",
      "2\n",
      "Convênio-Int\n",
      "4\n",
      "Enem\n",
      "8\n",
      "Matrícula Cortesia\n",
      "16\n",
      "Pec-Peppfol-Graduação\n",
      "32\n",
      "Portador Diplom Curso Superior\n",
      "64\n",
      "Programa De Avaliação Seriada\n",
      "128\n",
      "Refugiado\n",
      "256\n",
      "Sisu-Sistema De Seleção Unificada\n",
      "512\n",
      "Transferência Facultativa\n",
      "1024\n",
      "Transferência Obrigatória\n",
      "2048\n",
      "Vestibular\n",
      "4096\n",
      "Vestibular Para Mesmo Curso\n",
      "8192\n",
      "Ativo\n",
      "1\n",
      "Deslig - Não Cumpriu Condição\n",
      "2\n",
      "Desligamento - Abandono\n",
      "4\n",
      "Desligamento Decisão  Judicial\n",
      "8\n",
      "Desligamento Falt Documentação\n",
      "16\n",
      "Desligamento Jubilamento\n",
      "32\n",
      "Desligamento Por Força De Intercãmbio\n",
      "64\n",
      "Desligamento Voluntário\n",
      "128\n",
      "Desligamento-Força De Convênio\n",
      "256\n",
      "Falecimento\n",
      "512\n",
      "Formatura\n",
      "1024\n",
      "Mudança De Curso\n",
      "2048\n",
      "Mudança De Turno\n",
      "4096\n",
      "Novo Vestibular\n",
      "8192\n",
      "Outros\n",
      "16384\n",
      "Repr 3 Vezes Na Mesma Disc Obr\n",
      "32768\n",
      "Transferência\n",
      "65536\n",
      "Vestibular P/Outra Habilitação\n",
      "131072\n",
      "F\n",
      "1\n",
      "M\n",
      "2\n",
      "[1, 2, 4, 8, 16, 32, 64, 128]\n",
      "[1, 2, 4, 8, 16, 32, 64, 128, 256, 512, 1024, 2048, 4096, 8192, 16384, 32768, 65536, 131072, 262144, 524288, 1048576, 2097152, 4194304, 8388608, 16777216, 33554432, 67108864, 134217728]\n",
      "[1, 2]\n",
      "[1, 2, 4]\n",
      "[1, 2, 4, 8, 16, 32, 64, 128]\n",
      "[1, 2, 4, 8, 16, 32, 64, 128, 256, 512, 1024, 2048, 4096, 8192]\n",
      "[1, 2, 4, 8, 16, 32, 64, 128, 256, 512, 1024, 2048, 4096, 8192, 16384, 32768, 65536, 131072]\n",
      "[1, 2]\n"
     ]
    }
   ],
   "source": [
    "def binarizar_num(matriz):    \n",
    "    x = 0\n",
    "    bina = 1\n",
    "    data = []\n",
    "    for y in range(0, len(matriz)):\n",
    "        print(matriz[y])\n",
    "        data.append([])\n",
    "        data[x].append(0)\n",
    "        print(bina)\n",
    "        data[x] = bina\n",
    "        bina = bina<<1\n",
    "        x = x+1\n",
    "    return data\n",
    "\n",
    "binario_cursos = binarizar_num(cursos)\n",
    "binario_cidade= binarizar_num(cidade)\n",
    "binario_cotista = binarizar_num(cotista)\n",
    "binario_tipo_escola = binarizar_num(tipo_escola)\n",
    "binario_raca = binarizar_num(raca)\n",
    "binario_forma_ingresso = binarizar_num(forma_ingresso)\n",
    "binario_forma_saida = binarizar_num(forma_saida)\n",
    "binario_sexo = binarizar_num(sexo)\n",
    "\n",
    "print(binario_cursos)\n",
    "print(binario_cidade)\n",
    "print(binario_cotista)\n",
    "print(binario_tipo_escola)\n",
    "print(binario_raca)\n",
    "print(binario_forma_ingresso)\n",
    "print(binario_forma_saida)\n",
    "print(binario_sexo)"
   ]
  },
  {
   "cell_type": "code",
   "execution_count": 16,
   "metadata": {
    "collapsed": true
   },
   "outputs": [],
   "source": [
    "## Separa as outras informações"
   ]
  },
  {
   "cell_type": "code",
   "execution_count": 17,
   "metadata": {
    "collapsed": true
   },
   "outputs": [],
   "source": [
    "### tabela aluno"
   ]
  },
  {
   "cell_type": "code",
   "execution_count": 18,
   "metadata": {
    "collapsed": true
   },
   "outputs": [],
   "source": [
    "def separa_dados(matriz):\n",
    "    data = []\n",
    "    for y in range(0, len(matriz)):\n",
    "        data.append([])\n",
    "        for x in range(16):\n",
    "            data[y].append(0)\n",
    "            if x < 14:\n",
    "                data[y][x] = matriz[y][x].rstrip().title()\n",
    "            if x == 0:\n",
    "                data[y][x] = matriz[y][x].strip('Aluno ').title()\n",
    "            if x == 14:\n",
    "                data[y][x] = matriz[y][16].rstrip().title()\n",
    "            if x == 15:\n",
    "                data[y][x] = matriz[y][17].rstrip().title()\n",
    "    return data\n",
    "\n",
    "lista = separa_dados(S2)\n",
    "for y in range(1, len(lista)):\n",
    "    lista[y][0] = int(lista[y][0])"
   ]
  },
  {
   "cell_type": "code",
   "execution_count": 19,
   "metadata": {},
   "outputs": [
    {
     "name": "stdout",
     "output_type": "stream",
     "text": [
      "[100009, 2, '1984-05-10 00:00:00.000', 128, 1, 1, 64, 2, 2, '20032', '20032', 4096, '20091', 8192, '180', '138']\n"
     ]
    }
   ],
   "source": [
    "def binarizacao(matriz, num, matriz_bin, matriz_aux):\n",
    "    for y in range(0, len(matriz)):\n",
    "        for x in range(0, len(matriz_bin)):\n",
    "            if matriz[y][num] == matriz_aux[x]:\n",
    "                matriz[y][num] = matriz_bin[x]\n",
    "                break;\n",
    "    return matriz\n",
    "\n",
    "lista = binarizacao(lista, 1, binario_sexo, sexo )\n",
    "lista = binarizacao(lista, 3, binario_cidade, cidade )\n",
    "lista = binarizacao(lista, 4, binario_cotista, cotista )\n",
    "lista = binarizacao(lista, 5, binario_tipo_escola, tipo_escola )\n",
    "lista = binarizacao(lista, 6, binario_raca, raca )\n",
    "lista = binarizacao(lista, 7, binario_cursos, cursos)\n",
    "lista = binarizacao(lista, 8, binario_cursos, cursos )\n",
    "lista = binarizacao(lista, 11, binario_forma_ingresso, forma_ingresso )\n",
    "lista = binarizacao(lista, 13, binario_forma_saida, forma_saida )\n",
    "print(lista[1])"
   ]
  },
  {
   "cell_type": "code",
   "execution_count": 20,
   "metadata": {
    "collapsed": true
   },
   "outputs": [],
   "source": [
    "### Tabela das matérias "
   ]
  },
  {
   "cell_type": "code",
   "execution_count": 21,
   "metadata": {},
   "outputs": [
    {
     "name": "stdout",
     "output_type": "stream",
     "text": [
      "['Código da disciplina', 'Nome da disciplina', 'Créditos disciplina']\n",
      "[116301, 'COMPUTACAO BASICA', 6]\n"
     ]
    }
   ],
   "source": [
    "def separa_dados_materias(matriz):\n",
    "    data = []\n",
    "    for y in range(0, len(matriz)):\n",
    "        data.append([])\n",
    "        for x in range(3):\n",
    "            data[y].append(0)\n",
    "            data[y][x] = matriz[y][x+21].rstrip()\n",
    "    return data\n",
    "\n",
    "\n",
    "materias = separa_dados_materias(S2)\n",
    "\n",
    "for y in range(1, len(materias)):\n",
    "    value = int(materias[y][0])\n",
    "    materias[y][0] = value\n",
    "    value = int(materias[y][2])\n",
    "    materias[y][2] = value\n",
    "print(materias[0])\n",
    "print(materias[1])"
   ]
  },
  {
   "cell_type": "code",
   "execution_count": 22,
   "metadata": {
    "collapsed": true
   },
   "outputs": [],
   "source": [
    "### Tabela relação aluno materia "
   ]
  },
  {
   "cell_type": "code",
   "execution_count": 23,
   "metadata": {},
   "outputs": [
    {
     "name": "stdout",
     "output_type": "stream",
     "text": [
      "[1, 100009, 116301, 22, 'MM', 20032, 3.5]\n"
     ]
    }
   ],
   "source": [
    "def separa_dados_aluno_materia(matriz):\n",
    "    data = []\n",
    "    for y in range(0, len(matriz)):\n",
    "        data.append([])\n",
    "        for x in range(7):\n",
    "            data[y].append(0)\n",
    "        data[y][0] = y\n",
    "        data[y][1] = matriz[y][0].strip('Aluno ')\n",
    "        data[y][2] = matriz[y][21].rstrip()\n",
    "        data[y][3] = matriz[y][20].rstrip()\n",
    "        data[y][4] = matriz[y][24].rstrip()\n",
    "        for x in range(2):\n",
    "            data[y][5+x] = matriz[y][x+14].rstrip()\n",
    "            \n",
    "    return data\n",
    "\n",
    "\n",
    "AluMat = separa_dados_aluno_materia(S2)\n",
    "for y in range(1, len(lista)):\n",
    "    AluMat[y][1] = int(AluMat[y][1])\n",
    "    AluMat[y][2] = int(AluMat[y][2])\n",
    "    AluMat[y][3] = int(AluMat[y][3])\n",
    "    AluMat[y][5] = int(AluMat[y][5])\n",
    "    AluMat[y][6] = float(AluMat[y][6])\n",
    "print(AluMat[1])"
   ]
  },
  {
   "cell_type": "code",
   "execution_count": 24,
   "metadata": {},
   "outputs": [
    {
     "name": "stdout",
     "output_type": "stream",
     "text": [
      "[116301, 'COMPUTACAO BASICA', 6]\n"
     ]
    }
   ],
   "source": [
    "for y in range(1, len(materias)):\n",
    "    value = materias[y][0]\n",
    "    materias[y][0] = value\n",
    "print(materias[1])"
   ]
  },
  {
   "cell_type": "code",
   "execution_count": 25,
   "metadata": {},
   "outputs": [
    {
     "name": "stdout",
     "output_type": "stream",
     "text": [
      "[100129, 'Projeto de Sistemas de Produção 4', 2]\n"
     ]
    }
   ],
   "source": [
    "def takeSecond(elem):\n",
    "    return elem[0]\n",
    "materias[0][0] = 0\n",
    "materias = sorted(materias, key=takeSecond)\n",
    "print(materias[1])"
   ]
  },
  {
   "cell_type": "code",
   "execution_count": 26,
   "metadata": {
    "collapsed": true
   },
   "outputs": [],
   "source": [
    "## 2. INSERINDO NO BANCO DE DADOS"
   ]
  },
  {
   "cell_type": "code",
   "execution_count": 27,
   "metadata": {
    "collapsed": true
   },
   "outputs": [],
   "source": [
    "from __future__ import print_function\n",
    "from datetime import date, datetime, timedelta\n",
    "import mysql.connector"
   ]
  },
  {
   "cell_type": "code",
   "execution_count": 28,
   "metadata": {
    "collapsed": true
   },
   "outputs": [],
   "source": [
    "cnx = mysql.connector.connect(user='root', database='estudos_em')\n",
    "cursor = cnx.cursor()"
   ]
  },
  {
   "cell_type": "code",
   "execution_count": null,
   "metadata": {
    "collapsed": true
   },
   "outputs": [],
   "source": [
    "add_alunos = \"INSERT INTO alunos (ID ,sexo ,data_nascimento ,uf_nascimento ,cotista ,tipo_escola ,raça ,curso ,opcao ,periodo_ingresso_unb ,periodo_ingresso_opcao ,forma_ingresso_unb ,periodo_saida_opcao ,forma_saida_opcao ,min_credito_formatura ,credito_total_cursado )VALUES (%s,%s,%s,%s,%s,%s,%s,%s,%s,%s,%s,%s,%s,%s,%s,%s)\"\n",
    "for y in range(43, len(lista)):\n",
    "    if lista[y-1][0]!=lista[y][0]:\n",
    "        cursor.execute(add_alunos, lista[y])\n",
    "        emp_no = cursor.lastrowid\n"
   ]
  },
  {
   "cell_type": "code",
   "execution_count": null,
   "metadata": {
    "collapsed": true
   },
   "outputs": [],
   "source": [
    "add_alunos = \"INSERT INTO materia (codigo, nome, creditos)VALUES (%s, %s, %s)\"\n",
    "for y in range(1, len(materias)):\n",
    "    if materias[y-1][0]!=materias[y][0]:\n",
    "        cursor.execute(add_alunos, materias[y])\n",
    "        emp_no = cursor.lastrowid"
   ]
  },
  {
   "cell_type": "code",
   "execution_count": null,
   "metadata": {
    "collapsed": true
   },
   "outputs": [],
   "source": [
    "add_AluMat = \"INSERT INTO materia_aluno (id, id_aluno, id_materia, credito_cursado_sem, nota, ano_semestre, media_periodo)VALUES (%s, %s, %s, %s, %s, %s, %s)\"\n",
    "for y in range(1, len(AluMat)):\n",
    "    cursor.execute(add_AluMat,AluMat[y])\n",
    "    emp_no = cursor.lastrowid"
   ]
  }
 ],
 "metadata": {
  "kernelspec": {
   "display_name": "Python 3",
   "language": "python",
   "name": "python3"
  },
  "language_info": {
   "codemirror_mode": {
    "name": "ipython",
    "version": 3
   },
   "file_extension": ".py",
   "mimetype": "text/x-python",
   "name": "python",
   "nbconvert_exporter": "python",
   "pygments_lexer": "ipython3",
   "version": "3.6.1"
  }
 },
 "nbformat": 4,
 "nbformat_minor": 2
}
