{
 "cells": [
  {
   "cell_type": "markdown",
   "metadata": {},
   "source": [
    "# Análise de dados das meninas na computação\n",
    "\n",
    "\n",
    "- Lucas Mafra - 12/0126443\n",
    "- Luíza Aguiar Hansen - 140026711"
   ]
  },
  {
   "cell_type": "markdown",
   "metadata": {},
   "source": [
    "## 1. Data preprocessing"
   ]
  },
  {
   "cell_type": "markdown",
   "metadata": {},
   "source": [
    "### Import libraries"
   ]
  },
  {
   "cell_type": "code",
   "execution_count": 1,
   "metadata": {},
   "outputs": [],
   "source": [
    "from numpy import *\n",
    "import csv\n",
    "import sqlite3"
   ]
  },
  {
   "cell_type": "markdown",
   "metadata": {},
   "source": [
    "### Read dataset into matrix of float values"
   ]
  },
  {
   "cell_type": "markdown",
   "metadata": {},
   "source": [
    "lê os dados com as notas do enem/vestibular"
   ]
  },
  {
   "cell_type": "code",
   "execution_count": 2,
   "metadata": {
    "scrolled": true
   },
   "outputs": [
    {
     "ename": "FileNotFoundError",
     "evalue": "[Errno 2] No such file or directory: 'input/Dados_ingressantes_unb-2010_a_2016.csv'",
     "output_type": "error",
     "traceback": [
      "\u001b[0;31m---------------------------------------------------------------------------\u001b[0m",
      "\u001b[0;31mFileNotFoundError\u001b[0m                         Traceback (most recent call last)",
      "\u001b[0;32m<ipython-input-2-b3a508c8ae4e>\u001b[0m in \u001b[0;36m<module>\u001b[0;34m()\u001b[0m\n\u001b[1;32m      5\u001b[0m     \u001b[0;32mreturn\u001b[0m \u001b[0mdata\u001b[0m\u001b[0;34m\u001b[0m\u001b[0m\n\u001b[1;32m      6\u001b[0m \u001b[0;34m\u001b[0m\u001b[0m\n\u001b[0;32m----> 7\u001b[0;31m \u001b[0mS1\u001b[0m \u001b[0;34m=\u001b[0m \u001b[0mread_input\u001b[0m\u001b[0;34m(\u001b[0m\u001b[0;34m'input/Dados_ingressantes_unb-2010_a_2016.csv'\u001b[0m\u001b[0;34m)\u001b[0m\u001b[0;34m\u001b[0m\u001b[0m\n\u001b[0m\u001b[1;32m      8\u001b[0m \u001b[0mprint\u001b[0m\u001b[0;34m(\u001b[0m\u001b[0mS1\u001b[0m\u001b[0;34m[\u001b[0m\u001b[0;36m2\u001b[0m\u001b[0;34m]\u001b[0m\u001b[0;34m)\u001b[0m\u001b[0;34m\u001b[0m\u001b[0m\n",
      "\u001b[0;32m<ipython-input-2-b3a508c8ae4e>\u001b[0m in \u001b[0;36mread_input\u001b[0;34m(filename)\u001b[0m\n\u001b[1;32m      1\u001b[0m \u001b[0;32mdef\u001b[0m \u001b[0mread_input\u001b[0m\u001b[0;34m(\u001b[0m\u001b[0mfilename\u001b[0m\u001b[0;34m)\u001b[0m\u001b[0;34m:\u001b[0m\u001b[0;34m\u001b[0m\u001b[0m\n\u001b[1;32m      2\u001b[0m     \u001b[0mdata\u001b[0m \u001b[0;34m=\u001b[0m \u001b[0;34m[\u001b[0m\u001b[0;34m]\u001b[0m\u001b[0;34m\u001b[0m\u001b[0m\n\u001b[0;32m----> 3\u001b[0;31m     \u001b[0;32mwith\u001b[0m \u001b[0mopen\u001b[0m\u001b[0;34m(\u001b[0m\u001b[0mfilename\u001b[0m\u001b[0;34m)\u001b[0m \u001b[0;32mas\u001b[0m \u001b[0mfile\u001b[0m\u001b[0;34m:\u001b[0m\u001b[0;34m\u001b[0m\u001b[0m\n\u001b[0m\u001b[1;32m      4\u001b[0m         \u001b[0mdata\u001b[0m \u001b[0;34m=\u001b[0m \u001b[0;34m[\u001b[0m\u001b[0mi\u001b[0m\u001b[0;34m.\u001b[0m\u001b[0mstrip\u001b[0m\u001b[0;34m(\u001b[0m\u001b[0;34m'\\n'\u001b[0m\u001b[0;34m)\u001b[0m\u001b[0;34m.\u001b[0m\u001b[0msplit\u001b[0m\u001b[0;34m(\u001b[0m\u001b[0;34m';'\u001b[0m\u001b[0;34m)\u001b[0m\u001b[0;34m[\u001b[0m\u001b[0;34m:\u001b[0m\u001b[0;34m-\u001b[0m\u001b[0;36m1\u001b[0m\u001b[0;34m]\u001b[0m \u001b[0;32mfor\u001b[0m \u001b[0mi\u001b[0m \u001b[0;32min\u001b[0m \u001b[0mfile\u001b[0m\u001b[0;34m.\u001b[0m\u001b[0mreadlines\u001b[0m\u001b[0;34m(\u001b[0m\u001b[0;34m)\u001b[0m\u001b[0;34m]\u001b[0m\u001b[0;34m\u001b[0m\u001b[0m\n\u001b[1;32m      5\u001b[0m     \u001b[0;32mreturn\u001b[0m \u001b[0mdata\u001b[0m\u001b[0;34m\u001b[0m\u001b[0m\n",
      "\u001b[0;31mFileNotFoundError\u001b[0m: [Errno 2] No such file or directory: 'input/Dados_ingressantes_unb-2010_a_2016.csv'"
     ]
    }
   ],
   "source": [
    "def read_input(filename):\n",
    "    data = []\n",
    "    with open(filename) as file:\n",
    "        data = [i.strip('\\n').split(';')[:-1] for i in file.readlines()]\n",
    "    return data\n",
    "\n",
    "S1 = read_input('input/Dados_ingressantes_unb-2010_a_2016.csv')\n",
    "print(S1[2])"
   ]
  },
  {
   "cell_type": "code",
   "execution_count": 3,
   "metadata": {},
   "outputs": [
    {
     "name": "stdout",
     "output_type": "stream",
     "text": [
      "281025 25\n",
      "['ID Aluno', 'Sexo', 'Data de Nascimento', 'UF de Nascimento', 'Cotista', 'Tipo de Escola', 'Raça', 'Curso', 'Opção', 'Período de Ingresso na Unb', 'Período de ingresso na opção', 'Forma de Ingresso na UnB', 'Período de saída da opção', 'Forma de saída da opção', 'Ano e Semestre', 'Média do período', 'Mín. Créd. Formatura', 'Créditos cursados no total', 'Créditos integralizados no total', 'Créditos a integralizar no total', 'Créditos cursados no semestre(com aprovação)', 'Código da disciplina', 'Nome da disciplina', 'Créditos disciplina', 'Menção na disciplina']\n"
     ]
    }
   ],
   "source": [
    "def read_input(filename):\n",
    "    data = []\n",
    "    with open(filename) as file:\n",
    "        data = [i.strip('\\n').split('\\t') for i in file.readlines()]\n",
    "    return data\n",
    "\n",
    "S2 = read_input('input/novos_dados.csv')\n",
    "print(len(S2), len(S2[0]))\n",
    "print(S2[0])"
   ]
  },
  {
   "cell_type": "markdown",
   "metadata": {},
   "source": [
    "# Transformar informações em binário"
   ]
  },
  {
   "cell_type": "markdown",
   "metadata": {},
   "source": [
    "transformar curso em binário \n",
    "CiênciadaComputação -> 0000001 ->1 \n",
    "Computação -> 0000010 -> 2 \n",
    "EngenhariaMecatrônica -> 0000100 -> 4 \n",
    "EngenhariadeComputação -> 0001000 -> 8 \n",
    "EngenhariadeRedesdeComunicação -> 0010000 -> 16 \n",
    "EngenhariadeSoftware -> 0100000 -> 32 \n",
    "Informática -> 1000000 -> 64 "
   ]
  },
  {
   "cell_type": "markdown",
   "metadata": {},
   "source": [
    "separa uma matriz para cada informação"
   ]
  },
  {
   "cell_type": "code",
   "execution_count": 4,
   "metadata": {},
   "outputs": [
    {
     "name": "stdout",
     "output_type": "stream",
     "text": [
      "['Novo Vestibular']\n",
      "['Computação']\n",
      "['Df']\n",
      "['Não']\n",
      "['Não Informada']\n",
      "['Parda']\n",
      "['Vestibular']\n"
     ]
    }
   ],
   "source": [
    "def separa_dados(matriz, num):\n",
    "    data = []\n",
    "    for y in range(0, len(matriz)):\n",
    "        data.append([])\n",
    "        data[y].append(0)\n",
    "        data[y][0] = matriz[y][num].rstrip().title()\n",
    "    return data\n",
    "\n",
    "\n",
    "sexo = separa_dados(S2, 1)\n",
    "curso = separa_dados(S2, 7)\n",
    "opcao = separa_dados(S2, 8)\n",
    "del(opcao[0])\n",
    "cidade = separa_dados(S2, 3)\n",
    "cotista = separa_dados(S2, 4)\n",
    "tipo_escola = separa_dados(S2, 5)\n",
    "raca = separa_dados(S2, 6)\n",
    "forma_ingresso = separa_dados(S2, 11)\n",
    "forma_saida = separa_dados(S2, 13)\n",
    "\n",
    "cursos = curso + opcao\n",
    "\n",
    "print(forma_saida[1])\n",
    "print(cursos[1])\n",
    "print(cidade[1])\n",
    "print(cotista[1])\n",
    "print(tipo_escola[1])\n",
    "print(raca[1])\n",
    "print(forma_ingresso[1])\n",
    "\n"
   ]
  },
  {
   "cell_type": "markdown",
   "metadata": {},
   "source": [
    "coloca em ordem alfabética"
   ]
  },
  {
   "cell_type": "code",
   "execution_count": 106,
   "metadata": {},
   "outputs": [
    {
     "name": "stdout",
     "output_type": "stream",
     "text": [
      "['Ab']\n",
      "['Ciência Da Computação']\n",
      "['Ciência Da Computação']\n",
      "['Ciência Da Computação']\n",
      "['Ciência Da Computação']\n",
      "['Ciência Da Computação']\n",
      "['Ciência Da Computação']\n",
      "['Ciência Da Computação']\n",
      "['Ciência Da Computação']\n",
      "['Ciência Da Computação']\n",
      "['Ciência Da Computação']\n",
      "['Ciência Da Computação']\n",
      "['Ciência Da Computação']\n",
      "['Ciência Da Computação']\n",
      "['Ciência Da Computação']\n",
      "['Ciência Da Computação']\n",
      "['Ciência Da Computação']\n",
      "['Ciência Da Computação']\n",
      "['Ciência Da Computação']\n",
      "['Ciência Da Computação']\n",
      "['']\n",
      "['']\n",
      "['']\n",
      "['']\n",
      "['']\n",
      "['']\n",
      "['']\n",
      "['']\n",
      "['']\n",
      "['']\n",
      "['']\n",
      "['']\n",
      "['']\n",
      "['']\n",
      "['']\n",
      "['']\n",
      "['']\n",
      "['']\n",
      "['']\n",
      "['']\n",
      "['Ab']\n",
      "['Não']\n",
      "['Não']\n",
      "['Não']\n",
      "['Não']\n",
      "['Não']\n",
      "['Não']\n",
      "['Não']\n",
      "['Não']\n",
      "['Não']\n",
      "['Não']\n",
      "['Não']\n",
      "['Não']\n",
      "['Não']\n",
      "['Não']\n",
      "['Não']\n",
      "['Não']\n",
      "['Não']\n",
      "['Não']\n",
      "['Não']\n",
      "['Ab']\n",
      "['Não Informada']\n",
      "['Não Informada']\n",
      "['Não Informada']\n",
      "['Não Informada']\n",
      "['Não Informada']\n",
      "['Não Informada']\n",
      "['Não Informada']\n",
      "['Não Informada']\n",
      "['Não Informada']\n",
      "['Não Informada']\n",
      "['Não Informada']\n",
      "['Não Informada']\n",
      "['Não Informada']\n",
      "['Não Informada']\n",
      "['Não Informada']\n",
      "['Não Informada']\n",
      "['Não Informada']\n",
      "['Não Informada']\n",
      "['Não Informada']\n",
      "['Ab']\n",
      "['Amarela']\n",
      "['Amarela']\n",
      "['Amarela']\n",
      "['Amarela']\n",
      "['Amarela']\n",
      "['Amarela']\n",
      "['Amarela']\n",
      "['Amarela']\n",
      "['Amarela']\n",
      "['Amarela']\n",
      "['Amarela']\n",
      "['Amarela']\n",
      "['Amarela']\n",
      "['Amarela']\n",
      "['Amarela']\n",
      "['Amarela']\n",
      "['Amarela']\n",
      "['Amarela']\n",
      "['Amarela']\n",
      "['Ab']\n",
      "['Acordo Cultural-Pec-G']\n",
      "['Acordo Cultural-Pec-G']\n",
      "['Acordo Cultural-Pec-G']\n",
      "['Acordo Cultural-Pec-G']\n",
      "['Acordo Cultural-Pec-G']\n",
      "['Acordo Cultural-Pec-G']\n",
      "['Acordo Cultural-Pec-G']\n",
      "['Acordo Cultural-Pec-G']\n",
      "['Acordo Cultural-Pec-G']\n",
      "['Acordo Cultural-Pec-G']\n",
      "['Acordo Cultural-Pec-G']\n",
      "['Acordo Cultural-Pec-G']\n",
      "['Acordo Cultural-Pec-G']\n",
      "['Acordo Cultural-Pec-G']\n",
      "['Acordo Cultural-Pec-G']\n",
      "['Acordo Cultural-Pec-G']\n",
      "['Acordo Cultural-Pec-G']\n",
      "['Acordo Cultural-Pec-G']\n",
      "['Acordo Cultural-Pec-G']\n",
      "['Ab']\n",
      "['Ativo']\n",
      "['Ativo']\n",
      "['Ativo']\n",
      "['Ativo']\n",
      "['Ativo']\n",
      "['Ativo']\n",
      "['Ativo']\n",
      "['Ativo']\n",
      "['Ativo']\n",
      "['Ativo']\n",
      "['Ativo']\n",
      "['Ativo']\n",
      "['Ativo']\n",
      "['Ativo']\n",
      "['Ativo']\n",
      "['Ativo']\n",
      "['Ativo']\n",
      "['Ativo']\n",
      "['Ativo']\n"
     ]
    }
   ],
   "source": [
    "def takeSecond(elem):\n",
    "    return elem[0]\n",
    "\n",
    "def ordenar(matriz):\n",
    "    matriz[0][0] = 'Ab'\n",
    "    matriz = sorted(matriz, key=takeSecond)\n",
    "    return matriz\n",
    "\n",
    "cursos = ordenar(cursos)\n",
    "sexo = ordenar(sexo)\n",
    "cidade = ordenar(cidade)\n",
    "cotista = ordenar(cotista)\n",
    "tipo_escola = ordenar(tipo_escola)\n",
    "raca = ordenar(raca)\n",
    "forma_ingresso = ordenar(forma_ingresso)\n",
    "forma_saida = ordenar(forma_saida)\n",
    "\n",
    "for y in range(0, 20):\n",
    "    print(cursos[y])\n",
    "for y in range(0, 20):\n",
    "    print(cidade[y])\n",
    "for y in range(0, 20):\n",
    "    print(cotista[y])\n",
    "for y in range(0, 20):\n",
    "    print(tipo_escola[y])\n",
    "for y in range(0, 20):\n",
    "    print(raca[y])\n",
    "for y in range(0, 20):\n",
    "    print(forma_ingresso[y])\n",
    "for y in range(0, 20):\n",
    "    print(forma_saida[y])"
   ]
  },
  {
   "cell_type": "markdown",
   "metadata": {},
   "source": [
    "binariza os dados"
   ]
  },
  {
   "cell_type": "code",
   "execution_count": 107,
   "metadata": {
    "collapsed": true
   },
   "outputs": [],
   "source": [
    "def formar_lista(matriz):    \n",
    "    x = 0\n",
    "    data = []\n",
    "    for y in range(1, len(matriz)):\n",
    "        if matriz[y-1][0]!=matriz[y][0]:\n",
    "#             print(matriz[y][0])\n",
    "            data.append([])\n",
    "            data[x].append(0)\n",
    "            data[x] = matriz[y][0]\n",
    "            x = x+1\n",
    "    return data\n",
    "\n",
    "cursos = formar_lista(cursos)\n",
    "sexo = formar_lista(sexo)\n",
    "cidade = formar_lista(cidade)\n",
    "cotista = formar_lista(cotista)\n",
    "tipo_escola = formar_lista(tipo_escola)\n",
    "raca = formar_lista(raca)\n",
    "forma_ingresso = formar_lista(forma_ingresso)\n",
    "forma_saida = formar_lista(forma_saida)\n"
   ]
  },
  {
   "cell_type": "code",
   "execution_count": 108,
   "metadata": {},
   "outputs": [
    {
     "name": "stdout",
     "output_type": "stream",
     "text": [
      "CURSOS\n",
      "[1, 2, 4, 8, 16, 32, 64, 128]\n",
      "['Ciência Da Computação', 'Computação', 'Engenharia De Computação', 'Engenharia De Controle E Automação', 'Engenharia De Redes De Comunicação', 'Engenharia De Software', 'Engenharia Mecatrônica', 'Informática']\n",
      "Cidade\n",
      "[1, 2, 4, 8, 16, 32, 64, 128, 256, 512, 1024, 2048, 4096, 8192, 16384, 32768, 65536, 131072, 262144, 524288, 1048576, 2097152, 4194304, 8388608, 16777216, 33554432, 67108864, 134217728]\n",
      "['Ab', 'Ac', 'Al', 'Am', 'Ap', 'Ba', 'Ce', 'Df', 'Es', 'Go', 'Ma', 'Mg', 'Ms', 'Mt', 'Pa', 'Pb', 'Pe', 'Pi', 'Pr', 'Rj', 'Rn', 'Ro', 'Rr', 'Rs', 'Sc', 'Se', 'Sp', 'To']\n",
      "COTISTA\n",
      "[1, 2]\n",
      "['Não', 'Sim']\n",
      "ESCOLA\n",
      "[1, 2, 4]\n",
      "['Não Informada', 'Particular', 'Pública']\n",
      "RACA\n",
      "[1, 2, 4, 8, 16, 32, 64, 128]\n",
      "['Amarela', 'Branca', 'Indigena', 'Não Cadastrada', 'Não Dispõe Da Informação', 'Não Informado', 'Parda', 'Preta']\n",
      "INGRESSO\n",
      "[1, 2, 4, 8, 16, 32, 64, 128, 256, 512, 1024, 2048, 4096, 8192]\n",
      "['Acordo Cultural-Pec-G', 'Convênio - Andifes', 'Convênio-Int', 'Enem', 'Matrícula Cortesia', 'Pec-Peppfol-Graduação', 'Portador Diplom Curso Superior', 'Programa De Avaliação Seriada', 'Refugiado', 'Sisu-Sistema De Seleção Unificada', 'Transferência Facultativa', 'Transferência Obrigatória', 'Vestibular', 'Vestibular Para Mesmo Curso']\n",
      "SAIDA\n",
      "[1, 2, 4, 8, 16, 32, 64, 128, 256, 512, 1024, 2048, 4096, 8192, 16384, 32768, 65536, 131072]\n",
      "['Ativo', 'Deslig - Não Cumpriu Condição', 'Desligamento - Abandono', 'Desligamento Decisão  Judicial', 'Desligamento Falt Documentação', 'Desligamento Jubilamento', 'Desligamento Por Força De Intercãmbio', 'Desligamento Voluntário', 'Desligamento-Força De Convênio', 'Falecimento', 'Formatura', 'Mudança De Curso', 'Mudança De Turno', 'Novo Vestibular', 'Outros', 'Repr 3 Vezes Na Mesma Disc Obr', 'Transferência', 'Vestibular P/Outra Habilitação']\n",
      "SEXO\n",
      "[1, 2]\n",
      "['F', 'M']\n"
     ]
    }
   ],
   "source": [
    "def binarizar_num(matriz):    \n",
    "    x = 0\n",
    "    bina = 1\n",
    "    data = []\n",
    "    for y in range(0, len(matriz)):\n",
    "#         print(matriz[y])\n",
    "        data.append([])\n",
    "        data[x].append(0)\n",
    "#         print(bina)\n",
    "        data[x] = bina\n",
    "        bina = bina<<1\n",
    "        x = x+1\n",
    "    return data\n",
    "\n",
    "binario_cursos = binarizar_num(cursos)\n",
    "binario_cidade= binarizar_num(cidade)\n",
    "binario_cotista = binarizar_num(cotista)\n",
    "binario_tipo_escola = binarizar_num(tipo_escola)\n",
    "binario_raca = binarizar_num(raca)\n",
    "binario_forma_ingresso = binarizar_num(forma_ingresso)\n",
    "binario_forma_saida = binarizar_num(forma_saida)\n",
    "binario_sexo = binarizar_num(sexo)\n",
    "\n",
    "print('CURSOS')\n",
    "print(binario_cursos)\n",
    "print(cursos)\n",
    "print('Cidade')\n",
    "print(binario_cidade)\n",
    "print(cidade)\n",
    "print('COTISTA')\n",
    "print(binario_cotista)\n",
    "print(cotista)\n",
    "print('ESCOLA')\n",
    "print(binario_tipo_escola)\n",
    "print(tipo_escola)\n",
    "print('RACA')\n",
    "print(binario_raca)\n",
    "print(raca)\n",
    "print('INGRESSO')\n",
    "print(binario_forma_ingresso)\n",
    "print(forma_ingresso)\n",
    "print('SAIDA')\n",
    "print(binario_forma_saida)\n",
    "print(forma_saida)\n",
    "print('SEXO')\n",
    "print(binario_sexo)\n",
    "print(sexo)"
   ]
  },
  {
   "cell_type": "markdown",
   "metadata": {},
   "source": [
    "## Separa em tabelas as informações para inserir no banco de dados"
   ]
  },
  {
   "cell_type": "markdown",
   "metadata": {},
   "source": [
    "### tabela aluno"
   ]
  },
  {
   "cell_type": "code",
   "execution_count": 109,
   "metadata": {
    "collapsed": true
   },
   "outputs": [],
   "source": [
    "def separa_dados(matriz):\n",
    "    data = []\n",
    "    for y in range(0, len(matriz)):\n",
    "        data.append([])\n",
    "        for x in range(16):\n",
    "            data[y].append(0)\n",
    "            if x > 0 & x < 14:\n",
    "                data[y][x] = matriz[y][x].rstrip().title()\n",
    "            if x == 0:\n",
    "                data[y][x] = matriz[y][x].strip('Aluno ').title()\n",
    "            if x == 14:\n",
    "                data[y][x] = matriz[y][16].rstrip().title()\n",
    "            if x == 15:\n",
    "                data[y][x] = matriz[y][17].rstrip().title()\n",
    "    return data\n",
    "\n",
    "lista = separa_dados(S2)\n",
    "for y in range(1, len(lista)):\n",
    "    lista[y][0] = int(lista[y][0])"
   ]
  },
  {
   "cell_type": "markdown",
   "metadata": {},
   "source": [
    "substituir os dados pelos valores binarizados"
   ]
  },
  {
   "cell_type": "code",
   "execution_count": 111,
   "metadata": {},
   "outputs": [
    {
     "name": "stdout",
     "output_type": "stream",
     "text": [
      "['Id', 'Sexo', 'Data De Nascimento', 'Uf De Nascimento', 'Cotista', 'Tipo De Escola', 'Raça', 'Curso', 'Opção', 'Período De Ingresso Na Unb', 'Período De Ingresso Na Opção', 'Forma De Ingresso Na Unb', 'Período De Saída Da Opção', 'Forma De Saída Da Opção', 'Mín. Créd. Formatura', 'Créditos Cursados No Total']\n"
     ]
    }
   ],
   "source": [
    "def binarizacao(matriz, num, matriz_bin, matriz_aux):\n",
    "    for y in range(0, len(matriz)):\n",
    "        for x in range(0, len(matriz_bin)):\n",
    "            if matriz[y][num] == matriz_aux[x]:\n",
    "                matriz[y][num] = matriz_bin[x]\n",
    "                break;\n",
    "    return matriz\n",
    "\n",
    "lista = binarizacao(lista, 1, binario_sexo, sexo )\n",
    "lista = binarizacao(lista, 3, binario_cidade, cidade )\n",
    "lista = binarizacao(lista, 4, binario_cotista, cotista )\n",
    "lista = binarizacao(lista, 5, binario_tipo_escola, tipo_escola )\n",
    "lista = binarizacao(lista, 6, binario_raca, raca )\n",
    "lista = binarizacao(lista, 7, binario_cursos, cursos)\n",
    "lista = binarizacao(lista, 8, binario_cursos, cursos )\n",
    "lista = binarizacao(lista, 11, binario_forma_ingresso, forma_ingresso )\n",
    "lista = binarizacao(lista, 13, binario_forma_saida, forma_saida )\n",
    "print(lista[0])"
   ]
  },
  {
   "cell_type": "markdown",
   "metadata": {},
   "source": [
    "### Tabela das matérias "
   ]
  },
  {
   "cell_type": "code",
   "execution_count": 112,
   "metadata": {},
   "outputs": [
    {
     "name": "stdout",
     "output_type": "stream",
     "text": [
      "['Código da disciplina', 'Nome da disciplina', 'Créditos disciplina']\n",
      "[116301, 'COMPUTACAO BASICA', 6]\n"
     ]
    }
   ],
   "source": [
    "def separa_dados_materias(matriz):\n",
    "    data = []\n",
    "    for y in range(0, len(matriz)):\n",
    "        data.append([])\n",
    "        for x in range(3):\n",
    "            data[y].append(0)\n",
    "            data[y][x] = matriz[y][x+21].rstrip()\n",
    "    return data\n",
    "\n",
    "\n",
    "materias = separa_dados_materias(S2)\n",
    "\n",
    "for y in range(1, len(materias)):\n",
    "    value = int(materias[y][0])\n",
    "    materias[y][0] = value\n",
    "    value = int(materias[y][2])\n",
    "    materias[y][2] = value\n",
    "print(materias[0])\n",
    "print(materias[1])"
   ]
  },
  {
   "cell_type": "markdown",
   "metadata": {},
   "source": [
    "### Tabela relação aluno materia "
   ]
  },
  {
   "cell_type": "code",
   "execution_count": 113,
   "metadata": {},
   "outputs": [
    {
     "name": "stdout",
     "output_type": "stream",
     "text": [
      "[1, 100009, 116301, 22, 'MM', 20032, 3.5]\n"
     ]
    }
   ],
   "source": [
    "def separa_dados_aluno_materia(matriz):\n",
    "    data = []\n",
    "    for y in range(0, len(matriz)):\n",
    "        data.append([])\n",
    "        for x in range(7):\n",
    "            data[y].append(0)\n",
    "        data[y][0] = y\n",
    "        data[y][1] = matriz[y][0].strip('Aluno ')\n",
    "        data[y][2] = matriz[y][21].rstrip()\n",
    "        data[y][3] = matriz[y][20].rstrip()\n",
    "        data[y][4] = matriz[y][24].rstrip()\n",
    "        for x in range(2):\n",
    "            data[y][5+x] = matriz[y][x+14].rstrip()\n",
    "            \n",
    "    return data\n",
    "\n",
    "\n",
    "AluMat = separa_dados_aluno_materia(S2)\n",
    "for y in range(1, len(lista)):\n",
    "    AluMat[y][1] = int(AluMat[y][1])\n",
    "    AluMat[y][2] = int(AluMat[y][2])\n",
    "    AluMat[y][3] = int(AluMat[y][3])\n",
    "    AluMat[y][5] = int(AluMat[y][5])\n",
    "    AluMat[y][6] = float(AluMat[y][6])\n",
    "print(AluMat[1])"
   ]
  },
  {
   "cell_type": "code",
   "execution_count": 114,
   "metadata": {},
   "outputs": [
    {
     "name": "stdout",
     "output_type": "stream",
     "text": [
      "[116301, 'COMPUTACAO BASICA', 6]\n"
     ]
    }
   ],
   "source": [
    "for y in range(1, len(materias)):\n",
    "    value = materias[y][0]\n",
    "    materias[y][0] = value\n",
    "print(materias[1])"
   ]
  },
  {
   "cell_type": "code",
   "execution_count": 115,
   "metadata": {},
   "outputs": [
    {
     "name": "stdout",
     "output_type": "stream",
     "text": [
      "[100129, 'Projeto de Sistemas de Produção 4', 2]\n"
     ]
    }
   ],
   "source": [
    "def takeSecond(elem):\n",
    "    return elem[0]\n",
    "materias[0][0] = 0\n",
    "materias = sorted(materias, key=takeSecond)\n",
    "print(materias[1])"
   ]
  },
  {
   "cell_type": "markdown",
   "metadata": {},
   "source": [
    "## 2. INSERINDO NO BANCO DE DADOS"
   ]
  },
  {
   "cell_type": "markdown",
   "metadata": {
    "collapsed": true
   },
   "source": [
    "from __future__ import print_function\n",
    "from datetime import date, datetime, timedelta\n",
    "import mysql.connector"
   ]
  },
  {
   "cell_type": "markdown",
   "metadata": {
    "collapsed": true
   },
   "source": [
    "cnx = mysql.connector.connect(user='root', database='estudos_em')\n",
    "cursor = cnx.cursor()"
   ]
  },
  {
   "cell_type": "markdown",
   "metadata": {
    "collapsed": true
   },
   "source": [
    "add_alunos = \"INSERT INTO alunos (ID ,sexo ,data_nascimento ,uf_nascimento ,cotista ,tipo_escola ,raça ,curso ,opcao ,periodo_ingresso_unb ,periodo_ingresso_opcao ,forma_ingresso_unb ,periodo_saida_opcao ,forma_saida_opcao ,min_credito_formatura ,credito_total_cursado )VALUES (%s,%s,%s,%s,%s,%s,%s,%s,%s,%s,%s,%s,%s,%s,%s,%s)\"\n",
    "for y in range(43, len(lista)):\n",
    "    if lista[y-1][0]!=lista[y][0]:\n",
    "        cursor.execute(add_alunos, lista[y])\n",
    "        emp_no = cursor.lastrowid\n"
   ]
  },
  {
   "cell_type": "markdown",
   "metadata": {
    "collapsed": true
   },
   "source": [
    "add_alunos = \"INSERT INTO materia (codigo, nome, creditos)VALUES (%s, %s, %s)\"\n",
    "for y in range(1, len(materias)):\n",
    "    if materias[y-1][0]!=materias[y][0]:\n",
    "        cursor.execute(add_alunos, materias[y])\n",
    "        emp_no = cursor.lastrowid"
   ]
  },
  {
   "cell_type": "markdown",
   "metadata": {
    "collapsed": true
   },
   "source": [
    "add_AluMat = \"INSERT INTO materia_aluno (id, id_aluno, id_materia, credito_cursado_sem, nota, ano_semestre, media_periodo)VALUES (%s, %s, %s, %s, %s, %s, %s)\"\n",
    "for y in range(1, len(AluMat)):\n",
    "    cursor.execute(add_AluMat,AluMat[y])\n",
    "    emp_no = cursor.lastrowid"
   ]
  }
 ],
 "metadata": {
  "kernelspec": {
   "display_name": "Python 3",
   "language": "python",
   "name": "python3"
  },
  "language_info": {
   "codemirror_mode": {
    "name": "ipython",
    "version": 3
   },
   "file_extension": ".py",
   "mimetype": "text/x-python",
   "name": "python",
   "nbconvert_exporter": "python",
   "pygments_lexer": "ipython3",
   "version": "3.6.5"
  }
 },
 "nbformat": 4,
 "nbformat_minor": 2
}
