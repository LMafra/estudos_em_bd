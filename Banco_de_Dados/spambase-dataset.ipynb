{
 "cells": [
  {
   "cell_type": "markdown",
   "metadata": {},
   "source": [
    "# Análise de dados das meninas na computação\n",
    "\n",
    "\n",
    "- Lucas Mafra - \n",
    "- Luíza Aguiar Hansen - 140026711"
   ]
  },
  {
   "cell_type": "markdown",
   "metadata": {},
   "source": [
    "## 1. Data preprocessing"
   ]
  },
  {
   "cell_type": "markdown",
   "metadata": {},
   "source": [
    "### Import libraries"
   ]
  },
  {
   "cell_type": "code",
   "execution_count": 57,
   "metadata": {},
   "outputs": [
    {
     "ename": "ModuleNotFoundError",
     "evalue": "No module named 'MySQLdb'",
     "output_type": "error",
     "traceback": [
      "\u001b[1;31m---------------------------------------------------------------------------\u001b[0m",
      "\u001b[1;31mModuleNotFoundError\u001b[0m                       Traceback (most recent call last)",
      "\u001b[1;32m<ipython-input-57-a2acd4bd6138>\u001b[0m in \u001b[0;36m<module>\u001b[1;34m()\u001b[0m\n\u001b[0;32m      2\u001b[0m \u001b[1;32mimport\u001b[0m \u001b[0mcsv\u001b[0m\u001b[1;33m\u001b[0m\u001b[0m\n\u001b[0;32m      3\u001b[0m \u001b[1;32mimport\u001b[0m \u001b[0msqlite3\u001b[0m\u001b[1;33m\u001b[0m\u001b[0m\n\u001b[1;32m----> 4\u001b[1;33m \u001b[1;32mimport\u001b[0m \u001b[0mMySQLdb\u001b[0m\u001b[1;33m\u001b[0m\u001b[0m\n\u001b[0m",
      "\u001b[1;31mModuleNotFoundError\u001b[0m: No module named 'MySQLdb'"
     ]
    }
   ],
   "source": [
    "from numpy import *\n",
    "import csv\n",
    "import sqlite3\n",
    "import MySQLdb"
   ]
  },
  {
   "cell_type": "markdown",
   "metadata": {
    "collapsed": true
   },
   "source": [
    "### Read dataset into matrix of float values"
   ]
  },
  {
   "cell_type": "code",
   "execution_count": 53,
   "metadata": {},
   "outputs": [
    {
     "name": "stdout",
     "output_type": "stream",
     "text": [
      "['450908', '2010/1', 'VESTIBULAR', '10/06/1991', '18', 'M', 'Sistema Universal', 'Gestão de Saúde                                                                 ', 'Diurno', 'Campus UnB — Ceilândia / DF', '3.01', '159.70', '-', '-', '-', '-', '-']\n"
     ]
    }
   ],
   "source": [
    "def read_input(filename):\n",
    "    data = []\n",
    "    with open(filename) as file:\n",
    "        data = [i.strip('\\n').split(';')[:-1] for i in file.readlines()]\n",
    "    return data\n",
    "\n",
    "S1 = read_input('input/Dados_ingressantes_unb-2010_a_2016.csv')\n",
    "print(S1[2])"
   ]
  },
  {
   "cell_type": "code",
   "execution_count": 54,
   "metadata": {},
   "outputs": [
    {
     "name": "stdout",
     "output_type": "stream",
     "text": [
      "281025 24\n",
      "['ID Aluno', 'Sexo', 'Data de Nascimento', 'UF de Nascimento', 'Cotista', 'Tipo de Escola', 'Raça', 'Curso', 'Opção', 'Período de Ingresso na Unb', 'Período de ingresso na opção', 'Forma de Ingresso na UnB', 'Período de saída da opção', 'Forma de saída da opção', 'Ano e Semestre', 'Média do período', 'Mín. Créd. Formatura', 'Créditos cursados no total', 'Créditos integralizados no total', 'Créditos a integralizar no total', 'Créditos cursados no semestre(com aprovação)', 'Código da disciplina', 'Nome da disciplina', 'Créditos disciplina']\n"
     ]
    }
   ],
   "source": [
    "def read_input(filename):\n",
    "    data = []\n",
    "    with open(filename) as file:\n",
    "        data = [i.strip('\\n').split('\\t')[:-1] for i in file.readlines()]\n",
    "    return data\n",
    "\n",
    "S2 = read_input('input/novos_dados.csv')\n",
    "print(len(S2), len(S2[0]))\n",
    "print(S2[0])"
   ]
  },
  {
   "cell_type": "markdown",
   "metadata": {},
   "source": [
    "transformar curso em binário\n",
    "computação\n",
    "ciência da computação\n",
    "engenharia da computação\n",
    "mecatrônica\n",
    "Engenharia de Controle e Automação\n",
    "ENGENHARIA DE REDES DE COMUNICAÇÃO"
   ]
  },
  {
   "cell_type": "code",
   "execution_count": 55,
   "metadata": {},
   "outputs": [
    {
     "name": "stdout",
     "output_type": "stream",
     "text": [
      "['ID Aluno', 'Sexo', 'Data de Nascimento', 'UF de Nascimento', 'Cotista', 'Tipo de Escola', 'Raça', 'Curso', 'Opção', 'Período de Ingresso na Unb', 'Período de ingresso na opção', 'Forma de Ingresso na UnB', 'Período de saída da opção', 'Forma de saída da opção', 'Mín. Créd. Formatura', 'Créditos cursados no total']\n"
     ]
    }
   ],
   "source": [
    "def separa_dados(matriz):\n",
    "    data = []\n",
    "    for y in range(0, len(matriz)):\n",
    "        data.append([])\n",
    "        for x in range(16):\n",
    "            data[y].append(0)\n",
    "            if x < 14:\n",
    "                data[y][x] = matriz[y][x]\n",
    "            if x == 14:\n",
    "                data[y][x] = matriz[y][16]\n",
    "            if x == 15:\n",
    "                data[y][x] = matriz[y][17]\n",
    "    return data\n",
    "\n",
    "lista = separa_dados(S2)\n",
    "print(lista[0])"
   ]
  },
  {
   "cell_type": "markdown",
   "metadata": {},
   "source": [
    "## 2. INSERINDO NO BANCO DE DADOS"
   ]
  },
  {
   "cell_type": "code",
   "execution_count": 56,
   "metadata": {},
   "outputs": [
    {
     "ename": "NameError",
     "evalue": "name 'MySQLdb' is not defined",
     "output_type": "error",
     "traceback": [
      "\u001b[1;31m---------------------------------------------------------------------------\u001b[0m",
      "\u001b[1;31mNameError\u001b[0m                                 Traceback (most recent call last)",
      "\u001b[1;32m<ipython-input-56-a8c95f3363fd>\u001b[0m in \u001b[0;36m<module>\u001b[1;34m()\u001b[0m\n\u001b[1;32m----> 1\u001b[1;33m \u001b[0mcon\u001b[0m \u001b[1;33m=\u001b[0m \u001b[0mMySQLdb\u001b[0m\u001b[1;33m.\u001b[0m\u001b[0mconnect\u001b[0m\u001b[1;33m(\u001b[0m\u001b[0mhost\u001b[0m\u001b[1;33m=\u001b[0m\u001b[1;34m'localhost'\u001b[0m\u001b[1;33m,\u001b[0m\u001b[0muser\u001b[0m\u001b[1;33m=\u001b[0m\u001b[1;34m'root'\u001b[0m\u001b[1;33m,\u001b[0m\u001b[0mpasswd\u001b[0m\u001b[1;33m=\u001b[0m\u001b[1;34m''\u001b[0m\u001b[1;33m,\u001b[0m\u001b[0mdb\u001b[0m\u001b[1;33m=\u001b[0m\u001b[1;34m'estudos_em'\u001b[0m\u001b[1;33m)\u001b[0m\u001b[1;33m\u001b[0m\u001b[0m\n\u001b[0m\u001b[0;32m      2\u001b[0m \u001b[0mcon\u001b[0m\u001b[1;33m.\u001b[0m\u001b[0mselect_db\u001b[0m\u001b[1;33m(\u001b[0m\u001b[1;34m'estudos_em'\u001b[0m\u001b[1;33m)\u001b[0m\u001b[1;33m\u001b[0m\u001b[0m\n\u001b[0;32m      3\u001b[0m \u001b[0mcursor\u001b[0m \u001b[1;33m=\u001b[0m \u001b[0mconn\u001b[0m\u001b[1;33m.\u001b[0m\u001b[0mcursor\u001b[0m\u001b[1;33m(\u001b[0m\u001b[1;33m)\u001b[0m\u001b[1;33m\u001b[0m\u001b[0m\n",
      "\u001b[1;31mNameError\u001b[0m: name 'MySQLdb' is not defined"
     ]
    }
   ],
   "source": [
    "con = MySQLdb.connect(host='localhost',user='root',passwd='',db='estudos_em')\n",
    "con.select_db('estudos_em')\n",
    "cursor = conn.cursor()"
   ]
  },
  {
   "cell_type": "code",
   "execution_count": 33,
   "metadata": {},
   "outputs": [
    {
     "ename": "OperationalError",
     "evalue": "no such table: alunos",
     "output_type": "error",
     "traceback": [
      "\u001b[1;31m---------------------------------------------------------------------------\u001b[0m",
      "\u001b[1;31mOperationalError\u001b[0m                          Traceback (most recent call last)",
      "\u001b[1;32m<ipython-input-33-5af0da95d484>\u001b[0m in \u001b[0;36m<module>\u001b[1;34m()\u001b[0m\n\u001b[1;32m----> 1\u001b[1;33m \u001b[0mcursor\u001b[0m\u001b[1;33m.\u001b[0m\u001b[0mexecutemany\u001b[0m\u001b[1;33m(\u001b[0m\u001b[1;34m\"INSERT INTO alunos (nome, sexo, data_nascimento, uf_nascimento, cotista, tipo_escola, raça, curso, opcao, periodo_ingresso_unb, periodo_ingresso_opcao, forma_ingresso_unb, periodo_saida_opcao, forma_saida_opcao, min_credito_formatura, credito_total_cursado)VALUES (?,?,?,?,?,?,?,?,?,?,?,?,?,?,?,?)\"\u001b[0m\u001b[1;33m,\u001b[0m \u001b[0mlista\u001b[0m\u001b[1;33m)\u001b[0m\u001b[1;33m\u001b[0m\u001b[0m\n\u001b[0m\u001b[0;32m      2\u001b[0m \u001b[1;33m\u001b[0m\u001b[0m\n\u001b[0;32m      3\u001b[0m \u001b[0mconn\u001b[0m\u001b[1;33m.\u001b[0m\u001b[0mcommit\u001b[0m\u001b[1;33m(\u001b[0m\u001b[1;33m)\u001b[0m\u001b[1;33m\u001b[0m\u001b[0m\n\u001b[0;32m      4\u001b[0m \u001b[1;33m\u001b[0m\u001b[0m\n\u001b[0;32m      5\u001b[0m \u001b[0mprint\u001b[0m\u001b[1;33m(\u001b[0m\u001b[1;34m'Dados inseridos com sucesso.'\u001b[0m\u001b[1;33m)\u001b[0m\u001b[1;33m\u001b[0m\u001b[0m\n",
      "\u001b[1;31mOperationalError\u001b[0m: no such table: alunos"
     ]
    }
   ],
   "source": [
    "cursor.executemany(\"INSERT INTO alunos (nome, sexo, data_nascimento, uf_nascimento, cotista, tipo_escola, raça, curso, opcao, periodo_ingresso_unb, periodo_ingresso_opcao, forma_ingresso_unb, periodo_saida_opcao, forma_saida_opcao, min_credito_formatura, credito_total_cursado)VALUES (?,?,?,?,?,?,?,?,?,?,?,?,?,?,?,?)\", lista)\n",
    "\n",
    "conn.commit()\n",
    "\n",
    "print('Dados inseridos com sucesso.')\n",
    "\n",
    "conn.close()"
   ]
  },
  {
   "cell_type": "code",
   "execution_count": null,
   "metadata": {
    "collapsed": true
   },
   "outputs": [],
   "source": []
  }
 ],
 "metadata": {
  "anaconda-cloud": {},
  "kernelspec": {
   "display_name": "Python 3",
   "language": "python",
   "name": "python3"
  },
  "language_info": {
   "codemirror_mode": {
    "name": "ipython",
    "version": 3
   },
   "file_extension": ".py",
   "mimetype": "text/x-python",
   "name": "python",
   "nbconvert_exporter": "python",
   "pygments_lexer": "ipython3",
   "version": "3.6.1"
  }
 },
 "nbformat": 4,
 "nbformat_minor": 2
}
