{
 "cells": [
  {
   "cell_type": "code",
   "execution_count": 1,
   "metadata": {},
   "outputs": [],
   "source": [
    "from numpy import *\n",
    "import csv"
   ]
  },
  {
   "cell_type": "code",
   "execution_count": 2,
   "metadata": {},
   "outputs": [],
   "source": [
    "def read_input(filename):\n",
    "    data = []\n",
    "    with open(filename) as file:\n",
    "        data = [i.strip('\\n').split(';') for i in file.readlines()]\n",
    "    return data\n",
    "\n",
    "S1 = read_input('meninasbin.csv')"
   ]
  },
  {
   "cell_type": "code",
   "execution_count": 3,
   "metadata": {},
   "outputs": [
    {
     "data": {
      "text/plain": [
       "['\"\"\"100060    \"\"\"',\n",
       " '\"\"\"F\"\"\"',\n",
       " '\"\"\"1983-12-31 00:00:00.000\"\"\"',\n",
       " '32',\n",
       " '1',\n",
       " '1',\n",
       " '16',\n",
       " '1',\n",
       " '1',\n",
       " '20032',\n",
       " '20032',\n",
       " '1024',\n",
       " '20081',\n",
       " '2',\n",
       " '240',\n",
       " '240',\n",
       " '240\\r']"
      ]
     },
     "execution_count": 3,
     "metadata": {},
     "output_type": "execute_result"
    }
   ],
   "source": [
    "S1[1]"
   ]
  },
  {
   "cell_type": "code",
   "execution_count": 4,
   "metadata": {},
   "outputs": [],
   "source": [
    "import pandas as pd\n",
    "from collections import OrderedDict\n",
    "from datetime import date"
   ]
  },
  {
   "cell_type": "code",
   "execution_count": 5,
   "metadata": {},
   "outputs": [],
   "source": [
    "import numpy as np\n",
    "import numpy.linalg as la"
   ]
  },
  {
   "cell_type": "markdown",
   "metadata": {},
   "source": [
    "passando para numerico os dados e tirando as 3 primeiras colunas"
   ]
  },
  {
   "cell_type": "code",
   "execution_count": 6,
   "metadata": {},
   "outputs": [],
   "source": [
    "j = 0\n",
    "matriz = []\n",
    "for v in [x[3:] for x in S1[1:]]:\n",
    "    matriz.append([])\n",
    "    matriz[j] = v\n",
    "    j = j + 1\n",
    "\n",
    "lista = []\n",
    "for y in range(1, len(matriz)):\n",
    "    lista.append([])\n",
    "    if y > 0:\n",
    "        lista[y-1] = [int(x) for x in S1[y][3:]]"
   ]
  },
  {
   "cell_type": "code",
   "execution_count": 7,
   "metadata": {},
   "outputs": [
    {
     "data": {
      "text/plain": [
       "[32, 1, 1, 16, 1, 1, 20032, 20032, 1024, 20081, 2, 240, 240, 240]"
      ]
     },
     "execution_count": 7,
     "metadata": {},
     "output_type": "execute_result"
    }
   ],
   "source": [
    "lista[0]"
   ]
  },
  {
   "cell_type": "code",
   "execution_count": 8,
   "metadata": {},
   "outputs": [
    {
     "data": {
      "text/plain": [
       "790"
      ]
     },
     "execution_count": 8,
     "metadata": {},
     "output_type": "execute_result"
    }
   ],
   "source": [
    "len(S1)"
   ]
  },
  {
   "cell_type": "markdown",
   "metadata": {},
   "source": [
    "# Curva de Andrews"
   ]
  },
  {
   "cell_type": "code",
   "execution_count": 9,
   "metadata": {},
   "outputs": [],
   "source": [
    "import pandas as pd\n",
    "import seaborn as sns\n",
    "from pandas.tools.plotting import andrews_curves\n",
    "import warnings # current version of seaborn generates a bunch of warnings that we'll ignore\n",
    "warnings.filterwarnings(\"ignore\")\n",
    "import seaborn as sns\n",
    "import matplotlib.pyplot as plt"
   ]
  },
  {
   "cell_type": "code",
   "execution_count": 14,
   "metadata": {},
   "outputs": [
    {
     "data": {
      "text/plain": [
       "<Figure size 432x288 with 0 Axes>"
      ]
     },
     "execution_count": 14,
     "metadata": {},
     "output_type": "execute_result"
    },
    {
     "data": {
      "image/png": "[encoded data removed]",
      "text/plain": [
       "<Figure size 432x288 with 1 Axes>"
      ]
     },
     "metadata": {},
     "output_type": "display_data"
    },
    {
     "data": {
      "text/plain": [
       "<Figure size 432x288 with 0 Axes>"
      ]
     },
     "metadata": {},
     "output_type": "display_data"
    }
   ],
   "source": [
    "sns.set(style=\"white\", color_codes=True)\n",
    "\n",
    "\n",
    "data = pd.DataFrame(lista)\n",
    "df2 = data[[0,1,2,3,4,5,6,7,8,9,10,11,12,13]]\n",
    "\n",
    "#print(df2.sort_values(by=9))\n",
    "# the iris dataset is now a Pandas DataFrame\n",
    "\n",
    "# Let's see what's in the iris data - Jupyter notebooks print the result of the last thing you do\n",
    "\n",
    "#print(bxg.head())\n",
    "\n",
    "# Let's see how many examples we have of each species\n",
    "\n",
    "andrews_curves(df2, 10)\n",
    "\n",
    "\n",
    "plt.title(\"Curva de Andrews analisando o status das Mulheres nos cursos de Tecnologia\")\n",
    "plt.legend(loc = 'best')\n",
    "plt.figure()\n"
   ]
  },
  {
   "cell_type": "markdown",
   "metadata": {},
   "source": [
    "# Coordenadas paralelas"
   ]
  },
  {
   "cell_type": "code",
   "execution_count": 13,
   "metadata": {},
   "outputs": [
    {
     "name": "stdout",
     "output_type": "stream",
     "text": [
      "           0   1   2   3   4   5      6      7     8      9   10   11   12  \\\n",
      "0          32   1   1  16   1   1  20032  20032  1024  20081   2  240  240   \n",
      "1      262144   1   1  16   1   1  20032  20032   512  20042   4  240    6   \n",
      "2          32   1   1  16   2   2  20041  20041    64  20082   2  180  168   \n",
      "3      131072   1   1   2  32  32  20041  20041    64  20061   4  274   68   \n",
      "4          32   1   1  16  32  32  20041  20041    64  20081   4  274  151   \n",
      "5          32   1   1  16   8   8  20041  20041    64  20062   4  244  272   \n",
      "6          32   1   1  16   1   1  20041  20041    64  20082   2  240  238   \n",
      "7          32   1   1  16   1   1  20041  20041    64  20101   2  240  236   \n",
      "8          32   1   1  16   1   1  20041  20041    64  20081   4  240  180   \n",
      "9          32   1   1  16   8   8  20041  20041    64  20101   4  244  130   \n",
      "10         32   1   1  16   2   2  20041  20041    64  20061   4  180   44   \n",
      "11         32   1   1  16   8   8  20041  20041  1024  20092   2  244  232   \n",
      "12         32   1   1  16   2   2  20041  20041  1024  20092   2  180  173   \n",
      "13      32768   1   1  16   1   1  20041  20041   512  20051   4  240    8   \n",
      "14       1024   1   1  16   1   1  20041  20041   512  20061   4  240   30   \n",
      "15          8   2   1  16   2   2  20041  20041   256  20042   4  180    0   \n",
      "16     131072   1   1  16   1   1  20042  20042   512  20051   4  240   12   \n",
      "17         32   1   1  16   8   8  20042  20042  1024  20092   2  244  238   \n",
      "18         32   1   1  16   1   1  20042  20042  1024  20091   2  240  236   \n",
      "19         32   1   1  16   1   1  20042  20042  1024  20082   4  240  146   \n",
      "20         32   1   1   2   1   1  20042  20042  1024  20111   2  240  238   \n",
      "21         32   1   1  16  32  32  20042  20042  1024  20061   4  274   74   \n",
      "22         32   1   1  16   8   8  20042  20042  1024  20082   2  244  228   \n",
      "23          1   1   1  16   1   1  20042  20042    16  20052   4  240   10   \n",
      "24        128   1   1  16  32  32  20042  20042  1024  20091   2  274  273   \n",
      "25         32   2   1  16   8   8  20042  20042  1024  20122   4  244  134   \n",
      "26          1   1   1  16   1   1  20042  20042    16  20072   4  240   44   \n",
      "27         32   1   1  16   8   8  20042  20042  1024  20092   4  244   76   \n",
      "28    2097152   1   1  16   1   1  20042  20042   512  20051   4  240   10   \n",
      "29        512   1   1  16   2   2  20042  20042   512  20051   4  180   12   \n",
      "..        ...  ..  ..  ..  ..  ..    ...    ...   ...    ...  ..  ...  ...   \n",
      "758        32   1   1  16   1   1  19931  19931  1024  19982   2  240  240   \n",
      "759        32   1   1  16   1   1  19931  19931  1024  19972   2  242  226   \n",
      "760        32   1   1  16   1   1  19931  19931  1024  19972   2  240  226   \n",
      "761    131072   1   1  16   1   1  19931  19931  1024  19981   2  242  240   \n",
      "762    131072   1   1  16   1   1  19931  19931  1024  19981   2  240  240   \n",
      "763     32768   1   1  16   1   1  19931  19931  1024  19972   2  242  240   \n",
      "764     32768   1   1  16   1   1  19931  19931  1024  19972   2  240  240   \n",
      "765        32   1   1  16   1   1  19932  19932  1024  19991   2  242  236   \n",
      "766        32   1   1  16   1   1  19932  19932  1024  19991   2  240  236   \n",
      "767        32   1   1  16   1   1  19932  19932  1024  19981   2  242  240   \n",
      "768        32   1   1  16   1   1  19932  19932  1024  19981   2  240  240   \n",
      "769        32   1   1  16   1   1  19932  19932  1024  19942   4  242   22   \n",
      "770        32   1   1  16   1   1  19932  19932  1024  19981   2  242  238   \n",
      "771        32   1   1  16   1   1  19932  19932  1024  19981   2  240  238   \n",
      "772    131072   1   1  16   1   1  19931  19931   512  19932   4  242    0   \n",
      "773         1   1   1  16   1   1  19931  19931     1  19942   4  242   14   \n",
      "774        32   1   1  16   1   1  19941  19941  1024  20001   2  242  242   \n",
      "775        32   1   1  16   1   1  19941  19941  1024  20001   2  240  242   \n",
      "776        32   1   1  16   1   1  19941  19941  1024  19991   2  242  236   \n",
      "777        32   1   1  16   1   1  19941  19941  1024  19991   2  240  236   \n",
      "778      8192   1   1  16   1   1  19941  19941  1024  19992   2  242  242   \n",
      "779      8192   1   1  16   1   1  19941  19941  1024  19992   2  240  242   \n",
      "780       128   1   1  16   1   1  19941  19941  1024  19991   2  242  242   \n",
      "781       128   1   1  16   1   1  19941  19941  1024  19991   2  240  242   \n",
      "782        32   1   1  16   1   1  19942  19942  1024  19952   4  242   10   \n",
      "783        32   1   1  16   1   1  19942  19942  1024  19992   2  242  242   \n",
      "784        32   1   1  16   1   1  19942  19942  1024  19992   2  240  242   \n",
      "785        32   1   1  16   1   1  19942  19942  1024  20011   4  242  124   \n",
      "786        32   1   1  16   1   1  19942  19942  1024  20011   4  240  124   \n",
      "787  16777216   1   1  16   1   1  19942  19942  1024  19991   2  242  224   \n",
      "\n",
      "      13  \n",
      "0    240  \n",
      "1      6  \n",
      "2    180  \n",
      "3     70  \n",
      "4    165  \n",
      "5    144  \n",
      "6    240  \n",
      "7    240  \n",
      "8    186  \n",
      "9    134  \n",
      "10    44  \n",
      "11   246  \n",
      "12   182  \n",
      "13     8  \n",
      "14    30  \n",
      "15     0  \n",
      "16    12  \n",
      "17   246  \n",
      "18   240  \n",
      "19   152  \n",
      "20   240  \n",
      "21    74  \n",
      "22   248  \n",
      "23    10  \n",
      "24   275  \n",
      "25   138  \n",
      "26    44  \n",
      "27    96  \n",
      "28    10  \n",
      "29    16  \n",
      "..   ...  \n",
      "758  242  \n",
      "759  244  \n",
      "760  244  \n",
      "761  238  \n",
      "762  238  \n",
      "763  248  \n",
      "764  248  \n",
      "765  246  \n",
      "766  246  \n",
      "767  244  \n",
      "768  244  \n",
      "769   22  \n",
      "770  242  \n",
      "771  242  \n",
      "772    0  \n",
      "773   14  \n",
      "774  244  \n",
      "775  244  \n",
      "776  250  \n",
      "777  250  \n",
      "778  244  \n",
      "779  244  \n",
      "780  244  \n",
      "781  244  \n",
      "782   24  \n",
      "783  244  \n",
      "784  244  \n",
      "785  164  \n",
      "786  164  \n",
      "787  250  \n",
      "\n",
      "[788 rows x 14 columns]\n"
     ]
    },
    {
     "data": {
      "image/png": "[encoded data removed]",
      "text/plain": [
       "<Figure size 432x288 with 1 Axes>"
      ]
     },
     "metadata": {},
     "output_type": "display_data"
    }
   ],
   "source": [
    "import pandas as pd\n",
    "import matplotlib.pyplot as plt\n",
    "from pandas.tools.plotting import parallel_coordinates\n",
    "\n",
    "data = pd.DataFrame(lista)\n",
    "#data = pandas.read_csv(r'C:\\Python27\\Lib\\site-packages\\pandas\\tests\\data\\iris.csv', sep=',')\n",
    "data2 = data[[0,1,2,3,4,5,6,7,8,9,10,11,12,13]]\n",
    "print(data2)\n",
    "parallel_coordinates(data2, 10,color=['r','g','b'])\n",
    "plt.xlabel(\"Each Component of X is Shown on its Own Vertical Axis\")\n",
    "plt.ylabel(\"Values\")\n",
    "plt.title(\"Finding the Optimal Value of X\")\n",
    "plt.show()"
   ]
  },
  {
   "cell_type": "markdown",
   "metadata": {},
   "source": [
    "# PCA"
   ]
  },
  {
   "cell_type": "code",
   "execution_count": 12,
   "metadata": {},
   "outputs": [
    {
     "data": {
      "image/png": "[encoded data removed]",
      "text/plain": [
       "<Figure size 648x504 with 1 Axes>"
      ]
     },
     "metadata": {},
     "output_type": "display_data"
    }
   ],
   "source": [
    "import pandas as pd\n",
    "import seaborn as sns\n",
    "from pandas.tools.plotting import radviz\n",
    "# We'll also import seaborn, a Python graphing library\n",
    "import warnings # current version of seaborn generates a bunch of warnings that we'll ignore\n",
    "warnings.filterwarnings(\"ignore\")\n",
    "import seaborn as sns\n",
    "import matplotlib.pyplot as plt\n",
    "from sklearn.decomposition import PCA as sklearnPCA\n",
    "\n",
    "sns.set(style=\"white\", color_codes=True)\n",
    "\n",
    "# Next, we'll load the Iris flower dataset, which is in the \"../input/\" directory\n",
    "iris = pd.DataFrame(lista)\n",
    "# iris = pd.read_csv(\"iris.csv\") # the iris dataset is now a Pandas DataFrame\n",
    "\n",
    "X_std = iris.ix[:,0:13].values\n",
    "y = iris.ix[:,10].values\n",
    "# Let's see how many examples we have of each species\n",
    "sklearn_pca = sklearnPCA(n_components=3)\n",
    "Y_sklearn = sklearn_pca.fit_transform(X_std)\n",
    "\n",
    "with plt.style.context('seaborn-whitegrid'):\n",
    "    plt.figure(figsize=(9, 7))\n",
    "    for lab, col in zip((1, 2, 4),\n",
    "                        ('blue', 'red', 'green')):\n",
    "        plt.scatter(Y_sklearn[y==lab, 0],\n",
    "                    Y_sklearn[y==lab, 1],\n",
    "                    label=lab,\n",
    "                    c=col)\n",
    "    plt.xlabel('Principal Component 1')\n",
    "    plt.ylabel('Principal Component 2')\n",
    "    plt.legend(loc='best')\n",
    "    plt.tight_layout()\n",
    "    plt.show()\n",
    "\n",
    "\n",
    "plt.show()"
   ]
  },
  {
   "cell_type": "code",
   "execution_count": null,
   "metadata": {},
   "outputs": [],
   "source": []
  }
 ],
 "metadata": {
  "kernelspec": {
   "display_name": "Python 2",
   "language": "python",
   "name": "python2"
  },
  "language_info": {
   "codemirror_mode": {
    "name": "ipython",
    "version": 2
   },
   "file_extension": ".py",
   "mimetype": "text/x-python",
   "name": "python",
   "nbconvert_exporter": "python",
   "pygments_lexer": "ipython2",
   "version": "2.7.15"
  }
 },
 "nbformat": 4,
 "nbformat_minor": 2
}
