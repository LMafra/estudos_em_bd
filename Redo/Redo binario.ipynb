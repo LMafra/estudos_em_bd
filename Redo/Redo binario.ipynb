{
 "cells": [
  {
   "cell_type": "code",
   "execution_count": 1,
   "metadata": {},
   "outputs": [],
   "source": [
    "from numpy import *\n",
    "import csv\n",
    "import sqlite3"
   ]
  },
  {
   "cell_type": "code",
   "execution_count": 2,
   "metadata": {},
   "outputs": [],
   "source": [
    "def read_input(filename):\n",
    "    data = []\n",
    "    with open(filename) as file:\n",
    "        data = [i.strip('\\n').split(',')[:-1] for i in file.readlines()]\n",
    "    return data\n",
    "\n",
    "S1 = read_input('meninas.csv')"
   ]
  },
  {
   "cell_type": "code",
   "execution_count": 3,
   "metadata": {},
   "outputs": [
    {
     "data": {
      "text/plain": [
       "['\"ID.Aluno\"',\n",
       " '\"Sexo\"',\n",
       " '\"Data.de.Nascimento\"',\n",
       " '\"UF.de.Nascimento\"',\n",
       " '\"Cotista\"',\n",
       " '\"Tipo.de.Escola\"',\n",
       " '\"Ra\\xc3\\xa7a\"',\n",
       " '\"Curso\"',\n",
       " '\"Op\\xc3\\xa7\\xc3\\xa3o\"',\n",
       " '\"Periodo.de.Ingresso.na.Unb\"',\n",
       " '\"Periodo.de.ingresso.na.op\\xc3\\xa7\\xc3\\xa3o\"',\n",
       " '\"Forma.de.Ingresso.na.UnB\"',\n",
       " '\"Per\\xc3\\xadodo.de.sa\\xc3\\xadda.da.op\\xc3\\xa7\\xc3\\xa3o\"',\n",
       " '\"Forma.de.sa\\xc3\\xadda.da.op\\xc3\\xa7\\xc3\\xa3o\"',\n",
       " '\"Min..Cr\\xc3\\xa9d..Formatura\"',\n",
       " '\"Cr\\xc3\\xa9ditos.cursados.no.total\"',\n",
       " '\"Cr\\xc3\\xa9ditos.integralizados.no.total\"']"
      ]
     },
     "execution_count": 3,
     "metadata": {},
     "output_type": "execute_result"
    }
   ],
   "source": [
    "S1[0]"
   ]
  },
  {
   "cell_type": "code",
   "execution_count": 4,
   "metadata": {},
   "outputs": [],
   "source": [
    "def separa_dados(matriz, num):\n",
    "    data = []\n",
    "    for y in range(0, len(matriz)):\n",
    "        data.append([])\n",
    "        data[y].append(0)\n",
    "        data[y][0] = matriz[y][num].rstrip().title()\n",
    "    return data\n",
    "\n",
    "\n"
   ]
  },
  {
   "cell_type": "code",
   "execution_count": 5,
   "metadata": {},
   "outputs": [],
   "source": [
    "def binarizar_num(matriz):    \n",
    "    x = 0\n",
    "    bina = 1\n",
    "    data = []\n",
    "    for y in range(0, len(matriz)):\n",
    "#         print(matriz[y])\n",
    "        data.append([])\n",
    "        data[x].append(0)\n",
    "#         print(bina)\n",
    "        data[x] = bina\n",
    "        bina = bina<<1\n",
    "        x = x+1\n",
    "    return data"
   ]
  },
  {
   "cell_type": "code",
   "execution_count": 6,
   "metadata": {},
   "outputs": [],
   "source": [
    "def binarizacao(matriz, num, matriz_bin, matriz_aux):\n",
    "    for y in range(0, len(matriz)):\n",
    "        for x in range(0, len(matriz_bin)):\n",
    "            if matriz[y][num].lower() == matriz_aux[x]:\n",
    "                matriz[y][num] = matriz_bin[x]\n",
    "                break;\n",
    "    return matriz"
   ]
  },
  {
   "cell_type": "code",
   "execution_count": 7,
   "metadata": {},
   "outputs": [],
   "source": [
    "curso = separa_dados(S1[1:], 7)\n",
    "opcao = separa_dados(S1[1:], 8)\n",
    "\n",
    "cursos = curso + opcao\n",
    "\n",
    "\n",
    "UF = separa_dados(S1[1:], 3)\n",
    "cotista = separa_dados(S1[1:], 4)\n",
    "escola = separa_dados(S1[1:], 5)\n",
    "raca = separa_dados(S1[1:], 6)\n",
    "formaIngresso = separa_dados(S1[1:], 11)\n",
    "formaSaida = separa_dados(S1[1:], 13)\n",
    "\n",
    "cursos = unique(cursos)\n",
    "for y in range(0, len(cursos)):\n",
    "    cursos[y] = cursos[y].lower()\n",
    "\n",
    "UF = unique(UF)\n",
    "for y in range(0, len(UF)):\n",
    "    UF[y] = UF[y].lower()\n",
    "    \n",
    "cotista = unique(cotista)\n",
    "for y in range(0, len(cotista)):\n",
    "    cotista[y] = cotista[y].lower()\n",
    "\n",
    "escola = unique(escola)\n",
    "for y in range(0, len(escola)):\n",
    "    escola[y] = escola[y].lower()\n",
    "    \n",
    "raca = unique(raca)\n",
    "for y in range(0, len(raca)):\n",
    "    raca[y] = raca[y].lower()\n",
    "    \n",
    "formaIngresso = unique(formaIngresso)\n",
    "for y in range(0, len(formaIngresso)):\n",
    "    formaIngresso[y] = formaIngresso[y].lower()\n",
    "    \n",
    "formaSaida = unique(formaSaida)\n",
    "for y in range(0, len(formaSaida)):\n",
    "    formaSaida[y] = formaSaida[y].lower()"
   ]
  },
  {
   "cell_type": "code",
   "execution_count": 8,
   "metadata": {},
   "outputs": [],
   "source": [
    "binario_cursos = binarizar_num(cursos)\n",
    "binario_UF = binarizar_num(UF)\n",
    "binario_cotista = binarizar_num(cotista)\n",
    "binario_escola = binarizar_num(escola)\n",
    "binario_raca = binarizar_num(raca)\n",
    "binario_formaIngresso = binarizar_num(formaIngresso)\n",
    "binario_formaSaida = binarizar_num(formaSaida)"
   ]
  },
  {
   "cell_type": "code",
   "execution_count": 9,
   "metadata": {},
   "outputs": [
    {
     "name": "stdout",
     "output_type": "stream",
     "text": [
      "cursos\n",
      "[1, 2, 4, 8, 16, 32]\n",
      "['\"ci\\xc3\\xaancia da computa\\xc3\\xa7\\xc3\\xa3o\"'\n",
      " '\"computa\\xc3\\xa7\\xc3\\xa3o\"' '\"engenharia de computa\\xc3\\xa7\\xc3\\xa3o\"'\n",
      " '\"engenharia de redes de comunica\\xc3\\xa7\\xc3\\xa3o\"'\n",
      " '\"engenharia de software\"' '\"engenharia mecatr\\xc3\\xb4nica\"']\n",
      "UF\n",
      "[1, 2, 4, 8, 16, 32, 64, 128, 256, 512, 1024, 2048, 4096, 8192, 16384, 32768, 65536, 131072, 262144, 524288, 1048576, 2097152, 4194304, 8388608, 16777216, 33554432]\n",
      "['\"  \"' '\"ac\"' '\"am\"' '\"ba\"' '\"ce\"' '\"df\"' '\"es\"' '\"go\"' '\"ma\"' '\"mg\"'\n",
      " '\"ms\"' '\"mt\"' '\"pa\"' '\"pb\"' '\"pe\"' '\"pi\"' '\"pr\"' '\"rj\"' '\"rn\"' '\"ro\"'\n",
      " '\"rr\"' '\"rs\"' '\"sc\"' '\"se\"' '\"sp\"' '\"to\"']\n",
      "cotista\n",
      "[1, 2]\n",
      "['\"n\\xc3\\xa3o\"' '\"sim\"']\n",
      "escola\n",
      "[1, 2, 4]\n",
      "['\"n\\xc3\\xa3o informada\"' '\"particular\"' '\"p\\xc3\\xbablica\"']\n",
      "raca\n",
      "[1, 2, 4, 8, 16, 32, 64]\n",
      "['\"amarela                       \"' '\"branca                        \"'\n",
      " '\"n\\xc3\\xa3o cadastrada                \"'\n",
      " '\"n\\xc3\\xa3o disp\\xef\\xbf\\xbde da informa\\xef\\xbf\\xbd\\xef\\xbf\\xbdo      \"'\n",
      " '\"n\\xc3\\xa3o informado\"' '\"parda                         \"'\n",
      " '\"preta                         \"']\n",
      "forma de ingresso\n",
      "[1, 2, 4, 8, 16, 32, 64, 128, 256, 512, 1024]\n",
      "['\"acordo cultural-pec-g\"' '\"conv\\xef\\xbf\\xbdnio - andifes            \"'\n",
      " '\"conv\\xef\\xbf\\xbdnio-int                  \"'\n",
      " '\"enem                          \"'\n",
      " '\"matr\\xef\\xbf\\xbdcula cortesia            \"'\n",
      " '\"portador diplom curso superior\"'\n",
      " '\"programa de avalia\\xc3\\xa7\\xc3\\xa3o seriada \"'\n",
      " '\"sisu-sistema de sele\\xef\\xbf\\xbd\\xef\\xbf\\xbdo unificada\"'\n",
      " '\"transferencia facultativa     \"'\n",
      " '\"transferencia obrigat\\xef\\xbf\\xbdria     \"'\n",
      " '\"vestibular                    \"']\n",
      "forma de saida\n",
      "[1, 2, 4]\n",
      "['\"ativo\"' '\"formatura\"' '\"saiu\"']\n"
     ]
    }
   ],
   "source": [
    "print('cursos')\n",
    "print(binario_cursos)\n",
    "print(cursos)\n",
    "\n",
    "print('UF')\n",
    "print(binario_UF)\n",
    "print(UF)\n",
    "\n",
    "print('cotista')\n",
    "print(binario_cotista)\n",
    "print(cotista)\n",
    "\n",
    "print('escola')\n",
    "print(binario_escola)\n",
    "print(escola)\n",
    "\n",
    "print('raca')\n",
    "print(binario_raca)\n",
    "print(raca)\n",
    "\n",
    "print('forma de ingresso')\n",
    "print(binario_formaIngresso)\n",
    "print(formaIngresso)\n",
    "\n",
    "print('forma de saida')\n",
    "print(binario_formaSaida)\n",
    "print(formaSaida)"
   ]
  },
  {
   "cell_type": "code",
   "execution_count": 10,
   "metadata": {},
   "outputs": [],
   "source": [
    "S1 = binarizacao(S1, 7, binario_cursos, cursos)\n",
    "S1 = binarizacao(S1, 8, binario_cursos, cursos)\n",
    "S1 = binarizacao(S1, 3, binario_UF, UF)\n",
    "S1 = binarizacao(S1, 4, binario_cotista, cotista)\n",
    "S1 = binarizacao(S1, 5, binario_escola, escola)\n",
    "S1 = binarizacao(S1, 6, binario_raca, raca)\n",
    "S1 = binarizacao(S1, 11, binario_formaIngresso, formaIngresso)\n",
    "S1 = binarizacao(S1, 13, binario_formaSaida, formaSaida)"
   ]
  },
  {
   "cell_type": "code",
   "execution_count": 19,
   "metadata": {},
   "outputs": [
    {
     "data": {
      "text/plain": [
       "['\"100060    \"',\n",
       " '\"F\"',\n",
       " '\"1983-12-31 00:00:00.000\"',\n",
       " 32,\n",
       " 1,\n",
       " 1,\n",
       " 16,\n",
       " 1,\n",
       " 1,\n",
       " '20032',\n",
       " '20032',\n",
       " 1024,\n",
       " '20081',\n",
       " 2,\n",
       " '240',\n",
       " '240',\n",
       " '240']"
      ]
     },
     "execution_count": 19,
     "metadata": {},
     "output_type": "execute_result"
    }
   ],
   "source": [
    "S1[1]"
   ]
  },
  {
   "cell_type": "code",
   "execution_count": 12,
   "metadata": {},
   "outputs": [
    {
     "ename": "SyntaxError",
     "evalue": "invalid syntax (<ipython-input-12-75228e797771>, line 2)",
     "output_type": "error",
     "traceback": [
      "\u001b[0;36m  File \u001b[0;32m\"<ipython-input-12-75228e797771>\"\u001b[0;36m, line \u001b[0;32m2\u001b[0m\n\u001b[0;31m    c.writerow([i.strip('\\n').split(',')[:-1] for i in S1)\u001b[0m\n\u001b[0m                                                         ^\u001b[0m\n\u001b[0;31mSyntaxError\u001b[0m\u001b[0;31m:\u001b[0m invalid syntax\n"
     ]
    }
   ],
   "source": [
    "c = csv.writer(open(\"meninasbin.csv\", \"wb\"))\n",
    "c.writerow([i.strip('\\n').split(',')[:-1] for i in S1)"
   ]
  },
  {
   "cell_type": "code",
   "execution_count": 18,
   "metadata": {},
   "outputs": [],
   "source": [
    "import csv\n",
    "\n",
    "with open('meninasbin.csv', mode='w') as employee_file:\n",
    "    employee_writer = csv.writer(employee_file, delimiter=';', quoting=csv.QUOTE_MINIMAL)\n",
    "    for y in range(0, len(S1)):\n",
    "        employee_writer.writerow(S1[y])"
   ]
  },
  {
   "cell_type": "code",
   "execution_count": null,
   "metadata": {},
   "outputs": [],
   "source": []
  }
 ],
 "metadata": {
  "kernelspec": {
   "display_name": "Python 2",
   "language": "python",
   "name": "python2"
  },
  "language_info": {
   "codemirror_mode": {
    "name": "ipython",
    "version": 2
   },
   "file_extension": ".py",
   "mimetype": "text/x-python",
   "name": "python",
   "nbconvert_exporter": "python",
   "pygments_lexer": "ipython2",
   "version": "2.7.15"
  }
 },
 "nbformat": 4,
 "nbformat_minor": 2
}
