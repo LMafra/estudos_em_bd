{
 "cells": [
  {
   "cell_type": "markdown",
   "metadata": {},
   "source": [
    "# Lendo do Banco de dados"
   ]
  },
  {
   "cell_type": "code",
   "execution_count": 1,
   "metadata": {
    "collapsed": true
   },
   "outputs": [],
   "source": [
    "from __future__ import print_function\n",
    "from datetime import date, datetime, timedelta\n",
    "import mysql.connector"
   ]
  },
  {
   "cell_type": "code",
   "execution_count": 2,
   "metadata": {
    "collapsed": true
   },
   "outputs": [],
   "source": [
    "cnx = mysql.connector.connect(user='root', database='estudos_em')\n",
    "cursor = cnx.cursor()"
   ]
  },
  {
   "cell_type": "code",
   "execution_count": 3,
   "metadata": {},
   "outputs": [
    {
     "name": "stdout",
     "output_type": "stream",
     "text": [
      "(100066, '2', '1985-03-29 00:00:00.000', '128', '1', '1', '64', 64, 8, '20032', '20032', '4096', '20081', '1024', '274', '282')\n"
     ]
    }
   ],
   "source": [
    "sql = \"SELECT * FROM alunos WHERE 1\"\n",
    "cursor.execute(sql)\n",
    "results = cursor.fetchall()\n",
    "print(results[1])"
   ]
  },
  {
   "cell_type": "code",
   "execution_count": 4,
   "metadata": {
    "collapsed": true
   },
   "outputs": [],
   "source": [
    "cnx.close()"
   ]
  },
  {
   "cell_type": "markdown",
   "metadata": {},
   "source": [
    "# Código"
   ]
  },
  {
   "cell_type": "code",
   "execution_count": 5,
   "metadata": {
    "collapsed": true
   },
   "outputs": [],
   "source": [
    "import pandas as pd\n",
    "from collections import OrderedDict\n",
    "from datetime import date"
   ]
  },
  {
   "cell_type": "code",
   "execution_count": 19,
   "metadata": {
    "collapsed": true
   },
   "outputs": [],
   "source": [
    "import numpy as np\n",
    "import numpy.linalg as la\n",
    "import csv\n",
    "import sqlite3"
   ]
  },
  {
   "cell_type": "markdown",
   "metadata": {},
   "source": [
    "transformando a tupla em matriz"
   ]
  },
  {
   "cell_type": "code",
   "execution_count": 15,
   "metadata": {
    "collapsed": true
   },
   "outputs": [],
   "source": [
    "lista = []\n",
    "for y in range(0, len(results)):\n",
    "    lista.append([])\n",
    "    for x in range(len(results[y])):\n",
    "        lista[y].append(0)\n",
    "        lista[y][x] = results[y][x]"
   ]
  },
  {
   "cell_type": "markdown",
   "metadata": {},
   "source": [
    "utiliza uma parte da matriz"
   ]
  },
  {
   "cell_type": "code",
   "execution_count": 16,
   "metadata": {},
   "outputs": [
    {
     "name": "stdout",
     "output_type": "stream",
     "text": [
      "[100790, '2', '1983-02-04 00:00:00.000', '128', '1', '1', '1', 2, 2, '20041', '20041', '128', '20091', '2', '180', '110']\n"
     ]
    }
   ],
   "source": [
    "andrews_matriz = lista[0:5000]\n",
    "print(andrews_matriz[5])"
   ]
  },
  {
   "cell_type": "markdown",
   "metadata": {},
   "source": [
    "# Curva de Andrews"
   ]
  },
  {
   "cell_type": "code",
   "execution_count": 17,
   "metadata": {},
   "outputs": [
    {
     "name": "stdout",
     "output_type": "stream",
     "text": [
      "[1, 128, 1, 32, 1, 1, 20032, 20032, 4096, 20081, 1024, 240, 240]\n",
      "5000\n",
      "7681\n",
      "[1, 128, 1, 32, 1, 1, 20032, 20032, 4096, 20081, 1024, 240, 240]\n"
     ]
    }
   ],
   "source": [
    "for y in range(0, len(andrews_matriz)):\n",
    "    del(andrews_matriz[y][2])\n",
    "    del(andrews_matriz[y][3])\n",
    "    del(andrews_matriz[y][0])\n",
    "    for x in range(0, len(andrews_matriz[y])):\n",
    "        if(andrews_matriz[y][x] != ''):\n",
    "            andrews_matriz[y][x] = int(andrews_matriz[y][x])\n",
    "        else:\n",
    "            andrews_matriz[y][x] = 0\n",
    "\n",
    "print(andrews_matriz[0])\n",
    "print(len(andrews_matriz))\n",
    "print(len(lista))\n",
    "print(lista[0])"
   ]
  },
  {
   "cell_type": "code",
   "execution_count": 10,
   "metadata": {},
   "outputs": [
    {
     "name": "stdout",
     "output_type": "stream",
     "text": [
      "   0        1   2   3   4   5      6      7     8      9     10   11   12\n",
      "0   1      128   1  32   1   1  20032  20032  4096  20081  1024  240  240\n",
      "1   2      128   1  64  64   8  20032  20032  4096  20081  1024  274  282\n",
      "2   2      128   1  32   1   1  20032  20032  4096  20081  1024  240  232\n",
      "3   2        0   1  32   1   1  20032  20032    16  20042     2  240    6\n",
      "4   1  1048576   1  32   1   1  20032  20032  2048  20042     2  240    6\n",
      "128          3134\n",
      "512           391\n",
      "2048          256\n",
      "524288        188\n",
      "67108864      158\n",
      "0             138\n",
      "32             90\n",
      "131072         76\n",
      "8388608        71\n",
      "65536          62\n",
      "1024           56\n",
      "262144         55\n",
      "64             51\n",
      "16384          38\n",
      "32768          32\n",
      "1048576        28\n",
      "8192           28\n",
      "134217728      27\n",
      "8              23\n",
      "4096           20\n",
      "256            20\n",
      "16777216       16\n",
      "2097152        16\n",
      "33554432       11\n",
      "4               6\n",
      "2               5\n",
      "16              2\n",
      "4194304         2\n",
      "Name: 1, dtype: int64\n"
     ]
    },
    {
     "data": {
      "image/png": "[encoded data removed]",
      "text/plain": [
       "<matplotlib.figure.Figure at 0x16d93433b38>"
      ]
     },
     "metadata": {},
     "output_type": "display_data"
    }
   ],
   "source": [
    "import pandas as pd\n",
    "import seaborn as sns\n",
    "from pandas.tools.plotting import andrews_curves\n",
    "# We'll also import seaborn, a Python graphing library\n",
    "import warnings # current version of seaborn generates a bunch of warnings that we'll ignore\n",
    "warnings.filterwarnings(\"ignore\")\n",
    "import seaborn as sns\n",
    "import matplotlib.pyplot as plt\n",
    "\n",
    "\n",
    "sns.set(style=\"white\", color_codes=True)\n",
    "\n",
    "# Next, we'll load the Iris flower dataset, which is in the \"../input/\" directory\n",
    "iris = pd.DataFrame(andrews_matriz) # the iris dataset is now a Pandas DataFrame\n",
    "\n",
    "# Let's see what's in the iris data - Jupyter notebooks print the result of the last thing you do\n",
    "print(iris.head())\n",
    "\n",
    "# Let's see how many examples we have of each species\n",
    "print(iris[1].value_counts())\n",
    "\n",
    "\n",
    "andrews_curves(iris, 10)\n",
    "\n",
    "plt.show()"
   ]
  },
  {
   "cell_type": "markdown",
   "metadata": {},
   "source": [
    "# Coordenadas paralelas"
   ]
  },
  {
   "cell_type": "code",
   "execution_count": 11,
   "metadata": {},
   "outputs": [
    {
     "name": "stdout",
     "output_type": "stream",
     "text": [
      "      0         1   2    3   4   5      6      7     8      9     10   11   12\n",
      "0      1       128   1   32   1   1  20032  20032  4096  20081  1024  240  240\n",
      "1      2       128   1   64  64   8  20032  20032  4096  20081  1024  274  282\n",
      "2      2       128   1   32   1   1  20032  20032  4096  20081  1024  240  232\n",
      "3      2         0   1   32   1   1  20032  20032    16  20042     2  240    6\n",
      "4      1   1048576   1   32   1   1  20032  20032  2048  20042     2  240    6\n",
      "5      2       128   1    1   2   2  20041  20041   128  20091     2  180  110\n",
      "6      1       128   1   32   2   2  20041  20041   128  20082  1024  180  168\n",
      "7      2       128   1   32   2   2  20041  20041   128  20061     2  180   42\n",
      "8      2       128   1   32   2   2  20041  20041   128  20092  1024  180  178\n",
      "9      2       128   1   32  64   8  20041  20041   128  20082  1024  274  255\n",
      "10     1    524288   1    2  64   8  20041  20041   128  20061   128  274   68\n",
      "11     2       128   1   32  64   8  20041  20041   128  20092  1024  274  249\n",
      "12     2       128   1   32  16  16  20041  20041   128  20092     2  244  156\n",
      "13     2       128   1   32   1   1  20041  20041   128  20081  1024  240  226\n",
      "14     2       128   1   32  16  16  20041  20041   128  20081  1024  244  222\n",
      "15     1       128   1   32  64   8  20041  20041   128  20081     2  274  151\n",
      "16     2    262144   1   32  16  16  20041  20041   128  20081  1024  244  240\n",
      "17     2       128   1  128   1   1  20041  20041   128  20061   128  240   80\n",
      "18     1       128   1   32  16  16  20041  20041   128  20062  2048  244  272\n",
      "19     1       128   1   32   1   1  20041  20041   128  20082  1024  240  238\n",
      "20     2       128   1    2   1   1  20041  20041   128  20102     2  240  166\n",
      "21     2       128   1   32   1   1  20041  20041   128  20062     4  240   58\n",
      "22     2       512   2   64  16  16  20041  20041   128  20112  1024  244  264\n",
      "23     2       128   1    2   1   1  20041  20072   128  20101  1024  240  268\n",
      "24     1       128   1   32   1   1  20041  20041   128  20101  1024  240  236\n",
      "25     2       128   1   32   1   1  20041  20081   128  20102     4  240  186\n",
      "26     2   8388608   1   32  16  16  20041  20041   128  20081  1024  244  234\n",
      "27     2       128   1    2   2   2  20041  20041   128  20071     2  180   68\n",
      "28     2       128   1   32   2   2  20041  20041   128  20061     2  180   42\n",
      "29     2      4096   2    2   2   2  20041  20041   128  20102  1024  180  182\n",
      "...   ..       ...  ..  ...  ..  ..    ...    ...   ...    ...   ...  ...  ...\n",
      "4970   2      2048   2    2   1   1  20161  20161   128      0     1  214   46\n",
      "4971   2       512   2    2  16  16  20161  20161   128      0     1  250   30\n",
      "4972   1       128   4    2  32  32  20161  20161   128      0     1  240   42\n",
      "4973   1       128   2   64  64   8  20161  20161   128      0     1  274   56\n",
      "4974   2       128   2   64  16  16  20161  20161   128      0     1  250   28\n",
      "4975   2        32   2    2  32  32  20161  20161   128      0     1  240   32\n",
      "4976   2       128   2   64  32  32  20161  20161   128      0     1  240   46\n",
      "4977   2       128   4   64   2   2  20161  20161   128      0     1  180    8\n",
      "4978   2       128   2   64  16  16  20161  20161   128      0     1  250    4\n",
      "4979   2       128   4   64   1   1  20161  20161   128  20162  8192  214    6\n",
      "4980   2       128   4    2   4   4  20161  20161   128      0     1  252    6\n",
      "4981   2       128   2    1   2   2  20161  20161   128      0     1  180   26\n",
      "4982   2       512   2    2  64   8  20161  20161   128      0     1  274   56\n",
      "4983   1       128   2    2   1   1  20161  20161   128      0     1  214   22\n",
      "4984   2       128   4   32   2   2  20161  20161   128      0     1  180    0\n",
      "4985   1       128   2  128  64   8  20161  20161   128      0     1  274   12\n",
      "4986   2       128   4   64  16  16  20161  20161   128      0     1  250    6\n",
      "4987   2       128   4   64   1   1  20161  20161   128      0     1  214   14\n",
      "4988   2       128   4   32   2   2  20161  20161   128      0     1  180   16\n",
      "4989   2  16777216   2    2   4   4  20161  20161   128      0     1  252   48\n",
      "4990   2     16384   4   64  64   8  20161  20161   128      0     1  274    2\n",
      "4991   2       128   4    2  64   8  20161  20161   128      0     1  274   22\n",
      "4992   2       128   2    2  16  16  20161  20161   128      0     1  250   12\n",
      "4993   2       128   2    2   2   2  20161  20161   128  20162   128  180    8\n",
      "4994   2       128   2   32  32  32  20161  20161   128      0     1  240   54\n",
      "4995   2    524288   4   64   4   4  20161  20161   512      0     1  252   32\n",
      "4996   2       128   2    2   4   4  20161  20161   512      0     1  252   48\n",
      "4997   2       128   2    2  16  16  20161  20161   512      0     1  250   48\n",
      "4998   2       512   4   32   1   1  20161  20161   512  20162     4  214    0\n",
      "4999   2       128   2    2  64   8  20161  20161   512      0     1  274   56\n",
      "\n",
      "[5000 rows x 13 columns]\n"
     ]
    },
    {
     "data": {
      "image/png": "[encoded data removed]",
      "text/plain": [
       "<matplotlib.figure.Figure at 0x16d9c553630>"
      ]
     },
     "metadata": {},
     "output_type": "display_data"
    }
   ],
   "source": [
    "import pandas as pd\n",
    "import matplotlib.pyplot as plt\n",
    "from pandas.tools.plotting import parallel_coordinates\n",
    "\n",
    "data = pd.DataFrame(andrews_matriz)\n",
    "#data = pandas.read_csv(r'C:\\Python27\\Lib\\site-packages\\pandas\\tests\\data\\iris.csv', sep=',')\n",
    "data2 = data[[0,1,2,3,4,5,6,7,8,9,10,11,12]]\n",
    "print(data2)\n",
    "parallel_coordinates(data2, 10,color=['r','g','b'])\n",
    "plt.xlabel(\"Each Component of X is Shown on its Own Vertical Axis\")\n",
    "plt.ylabel(\"Values\")\n",
    "plt.title(\"Finding the Optimal Value of X\")\n",
    "plt.show()"
   ]
  },
  {
   "cell_type": "markdown",
   "metadata": {},
   "source": [
    "# PCA"
   ]
  },
  {
   "cell_type": "code",
   "execution_count": 12,
   "metadata": {},
   "outputs": [
    {
     "data": {
      "image/png": "[encoded data removed]",
      "text/plain": [
       "<matplotlib.figure.Figure at 0x16d9b7e6710>"
      ]
     },
     "metadata": {},
     "output_type": "display_data"
    }
   ],
   "source": [
    "import pandas as pd\n",
    "import seaborn as sns\n",
    "from pandas.tools.plotting import radviz\n",
    "# We'll also import seaborn, a Python graphing library\n",
    "import warnings # current version of seaborn generates a bunch of warnings that we'll ignore\n",
    "warnings.filterwarnings(\"ignore\")\n",
    "import seaborn as sns\n",
    "import matplotlib.pyplot as plt\n",
    "from sklearn.decomposition import PCA as sklearnPCA\n",
    "\n",
    "sns.set(style=\"white\", color_codes=True)\n",
    "\n",
    "# Next, we'll load the Iris flower dataset, which is in the \"../input/\" directory\n",
    "iris = pd.DataFrame(andrews_matriz)\n",
    "# iris = pd.read_csv(\"iris.csv\") # the iris dataset is now a Pandas DataFrame\n",
    "\n",
    "X_std = iris.ix[:,0:12].values\n",
    "y = iris.ix[:,10].values\n",
    "# Let's see how many examples we have of each species\n",
    "sklearn_pca = sklearnPCA(n_components=2)\n",
    "Y_sklearn = sklearn_pca.fit_transform(X_std)\n",
    "\n",
    "with plt.style.context('seaborn-whitegrid'):\n",
    "    plt.figure(figsize=(6, 4))\n",
    "    for lab, col in zip((1, 2, 4, 8, 16, 32, 64, 128, 256, 512, 1024, 2048, 4096, 8192, 16384, 32768, 65536, 131072),\n",
    "                        ('blue', 'red', 'red', 'red', 'red', 'red', 'red', 'red', 'red', 'red', 'green', 'red', 'red', 'red', 'red', 'red', 'red', 'red')):\n",
    "        plt.scatter(Y_sklearn[y==lab, 0],\n",
    "                    Y_sklearn[y==lab, 1],\n",
    "                    label=lab,\n",
    "                    c=col)\n",
    "    plt.xlabel('Principal Component 1')\n",
    "    plt.ylabel('Principal Component 2')\n",
    "    plt.legend(loc='lower center')\n",
    "    plt.tight_layout()\n",
    "    plt.show()\n",
    "\n",
    "\n",
    "plt.show()"
   ]
  },
  {
   "cell_type": "markdown",
   "metadata": {},
   "source": [
    "https://xaoquadrado.wordpress.com/2014/06/24/1161/"
   ]
  },
  {
   "cell_type": "markdown",
   "metadata": {
    "collapsed": true
   },
   "source": [
    "# Calculando a matriz de covariância"
   ]
  },
  {
   "cell_type": "code",
   "execution_count": 103,
   "metadata": {},
   "outputs": [],
   "source": [
    "data = pd.DataFrame(andrews_matriz)\n",
    "cov = data.cov()"
   ]
  },
  {
   "cell_type": "code",
   "execution_count": 104,
   "metadata": {},
   "outputs": [
    {
     "data": {
      "text/html": [
       "<div>\n",
       "<style>\n",
       "    .dataframe thead tr:only-child th {\n",
       "        text-align: right;\n",
       "    }\n",
       "\n",
       "    .dataframe thead th {\n",
       "        text-align: left;\n",
       "    }\n",
       "\n",
       "    .dataframe tbody tr th {\n",
       "        vertical-align: top;\n",
       "    }\n",
       "</style>\n",
       "<table border=\"1\" class=\"dataframe\">\n",
       "  <thead>\n",
       "    <tr style=\"text-align: right;\">\n",
       "      <th></th>\n",
       "      <th>0</th>\n",
       "      <th>1</th>\n",
       "      <th>2</th>\n",
       "      <th>3</th>\n",
       "      <th>4</th>\n",
       "      <th>5</th>\n",
       "      <th>6</th>\n",
       "      <th>7</th>\n",
       "      <th>8</th>\n",
       "      <th>9</th>\n",
       "      <th>10</th>\n",
       "      <th>11</th>\n",
       "      <th>12</th>\n",
       "    </tr>\n",
       "  </thead>\n",
       "  <tbody>\n",
       "    <tr>\n",
       "      <th>0</th>\n",
       "      <td>0.106683</td>\n",
       "      <td>9.290615e+04</td>\n",
       "      <td>-0.011703</td>\n",
       "      <td>-1.851144e-01</td>\n",
       "      <td>-1.110909e-01</td>\n",
       "      <td>-1.543405e-01</td>\n",
       "      <td>-2.322628e-01</td>\n",
       "      <td>-2.437175e-01</td>\n",
       "      <td>2.842752e+01</td>\n",
       "      <td>6.077723e+01</td>\n",
       "      <td>1.722157e+01</td>\n",
       "      <td>-0.236194</td>\n",
       "      <td>-4.191137e-01</td>\n",
       "    </tr>\n",
       "    <tr>\n",
       "      <th>1</th>\n",
       "      <td>92906.153408</td>\n",
       "      <td>2.342424e+14</td>\n",
       "      <td>-37300.450776</td>\n",
       "      <td>-2.002549e+07</td>\n",
       "      <td>3.486693e+06</td>\n",
       "      <td>-7.224929e+06</td>\n",
       "      <td>-1.516905e+07</td>\n",
       "      <td>-1.474836e+07</td>\n",
       "      <td>1.318304e+08</td>\n",
       "      <td>2.270335e+09</td>\n",
       "      <td>-9.734073e+08</td>\n",
       "      <td>-688400.944810</td>\n",
       "      <td>-1.375395e+06</td>\n",
       "    </tr>\n",
       "    <tr>\n",
       "      <th>2</th>\n",
       "      <td>-0.011703</td>\n",
       "      <td>-3.730045e+04</td>\n",
       "      <td>1.137236</td>\n",
       "      <td>5.679813e+00</td>\n",
       "      <td>8.319251e-01</td>\n",
       "      <td>1.408652e+00</td>\n",
       "      <td>1.744437e+01</td>\n",
       "      <td>1.735973e+01</td>\n",
       "      <td>-7.111933e+01</td>\n",
       "      <td>-2.000166e+03</td>\n",
       "      <td>-2.047304e+02</td>\n",
       "      <td>0.510834</td>\n",
       "      <td>-1.130304e+01</td>\n",
       "    </tr>\n",
       "    <tr>\n",
       "      <th>3</th>\n",
       "      <td>-0.185114</td>\n",
       "      <td>-2.002549e+07</td>\n",
       "      <td>5.679813</td>\n",
       "      <td>1.033489e+03</td>\n",
       "      <td>1.022644e+01</td>\n",
       "      <td>1.828787e+01</td>\n",
       "      <td>3.446219e+01</td>\n",
       "      <td>3.187891e+01</td>\n",
       "      <td>2.391395e+03</td>\n",
       "      <td>7.116073e+03</td>\n",
       "      <td>8.807203e+03</td>\n",
       "      <td>-26.350980</td>\n",
       "      <td>-2.018139e+02</td>\n",
       "    </tr>\n",
       "    <tr>\n",
       "      <th>4</th>\n",
       "      <td>-0.111091</td>\n",
       "      <td>3.486693e+06</td>\n",
       "      <td>0.831925</td>\n",
       "      <td>1.022644e+01</td>\n",
       "      <td>5.291467e+02</td>\n",
       "      <td>9.009636e+01</td>\n",
       "      <td>3.148209e+01</td>\n",
       "      <td>2.628279e+01</td>\n",
       "      <td>1.962310e+01</td>\n",
       "      <td>-2.237228e+04</td>\n",
       "      <td>-5.922262e+02</td>\n",
       "      <td>457.374180</td>\n",
       "      <td>3.479464e+02</td>\n",
       "    </tr>\n",
       "    <tr>\n",
       "      <th>5</th>\n",
       "      <td>-0.154341</td>\n",
       "      <td>-7.224929e+06</td>\n",
       "      <td>1.408652</td>\n",
       "      <td>1.828787e+01</td>\n",
       "      <td>9.009636e+01</td>\n",
       "      <td>1.026721e+02</td>\n",
       "      <td>5.474115e+01</td>\n",
       "      <td>5.351718e+01</td>\n",
       "      <td>-3.403236e+02</td>\n",
       "      <td>-1.990694e+04</td>\n",
       "      <td>-4.186199e+03</td>\n",
       "      <td>81.691112</td>\n",
       "      <td>7.445889e+01</td>\n",
       "    </tr>\n",
       "    <tr>\n",
       "      <th>6</th>\n",
       "      <td>-0.232263</td>\n",
       "      <td>-1.516905e+07</td>\n",
       "      <td>17.444370</td>\n",
       "      <td>3.446219e+01</td>\n",
       "      <td>3.148209e+01</td>\n",
       "      <td>5.474115e+01</td>\n",
       "      <td>1.249963e+03</td>\n",
       "      <td>1.235132e+03</td>\n",
       "      <td>-1.316993e+04</td>\n",
       "      <td>-1.832652e+05</td>\n",
       "      <td>-1.955512e+04</td>\n",
       "      <td>28.705156</td>\n",
       "      <td>-1.163903e+03</td>\n",
       "    </tr>\n",
       "    <tr>\n",
       "      <th>7</th>\n",
       "      <td>-0.243718</td>\n",
       "      <td>-1.474836e+07</td>\n",
       "      <td>17.359735</td>\n",
       "      <td>3.187891e+01</td>\n",
       "      <td>2.628279e+01</td>\n",
       "      <td>5.351718e+01</td>\n",
       "      <td>1.235132e+03</td>\n",
       "      <td>1.245789e+03</td>\n",
       "      <td>-1.324790e+04</td>\n",
       "      <td>-1.839330e+05</td>\n",
       "      <td>-2.058856e+04</td>\n",
       "      <td>32.228917</td>\n",
       "      <td>-1.118535e+03</td>\n",
       "    </tr>\n",
       "    <tr>\n",
       "      <th>8</th>\n",
       "      <td>28.427517</td>\n",
       "      <td>1.318304e+08</td>\n",
       "      <td>-71.119335</td>\n",
       "      <td>2.391395e+03</td>\n",
       "      <td>1.962310e+01</td>\n",
       "      <td>-3.403236e+02</td>\n",
       "      <td>-1.316993e+04</td>\n",
       "      <td>-1.324790e+04</td>\n",
       "      <td>3.357353e+06</td>\n",
       "      <td>2.791655e+06</td>\n",
       "      <td>7.259853e+05</td>\n",
       "      <td>-396.523346</td>\n",
       "      <td>2.128367e+04</td>\n",
       "    </tr>\n",
       "    <tr>\n",
       "      <th>9</th>\n",
       "      <td>60.777226</td>\n",
       "      <td>2.270335e+09</td>\n",
       "      <td>-2000.166487</td>\n",
       "      <td>7.116073e+03</td>\n",
       "      <td>-2.237228e+04</td>\n",
       "      <td>-1.990694e+04</td>\n",
       "      <td>-1.832652e+05</td>\n",
       "      <td>-1.839330e+05</td>\n",
       "      <td>2.791655e+06</td>\n",
       "      <td>8.944697e+07</td>\n",
       "      <td>1.682092e+07</td>\n",
       "      <td>-30933.098571</td>\n",
       "      <td>4.866178e+04</td>\n",
       "    </tr>\n",
       "    <tr>\n",
       "      <th>10</th>\n",
       "      <td>17.221569</td>\n",
       "      <td>-9.734073e+08</td>\n",
       "      <td>-204.730355</td>\n",
       "      <td>8.807203e+03</td>\n",
       "      <td>-5.922262e+02</td>\n",
       "      <td>-4.186199e+03</td>\n",
       "      <td>-1.955512e+04</td>\n",
       "      <td>-2.058856e+04</td>\n",
       "      <td>7.259853e+05</td>\n",
       "      <td>1.682092e+07</td>\n",
       "      <td>6.637381e+07</td>\n",
       "      <td>3608.360247</td>\n",
       "      <td>-8.735976e+04</td>\n",
       "    </tr>\n",
       "    <tr>\n",
       "      <th>11</th>\n",
       "      <td>-0.236194</td>\n",
       "      <td>-6.884009e+05</td>\n",
       "      <td>0.510834</td>\n",
       "      <td>-2.635098e+01</td>\n",
       "      <td>4.573742e+02</td>\n",
       "      <td>8.169111e+01</td>\n",
       "      <td>2.870516e+01</td>\n",
       "      <td>3.222892e+01</td>\n",
       "      <td>-3.965233e+02</td>\n",
       "      <td>-3.093310e+04</td>\n",
       "      <td>3.608360e+03</td>\n",
       "      <td>932.327601</td>\n",
       "      <td>4.982016e+02</td>\n",
       "    </tr>\n",
       "    <tr>\n",
       "      <th>12</th>\n",
       "      <td>-0.419114</td>\n",
       "      <td>-1.375395e+06</td>\n",
       "      <td>-11.303045</td>\n",
       "      <td>-2.018139e+02</td>\n",
       "      <td>3.479464e+02</td>\n",
       "      <td>7.445889e+01</td>\n",
       "      <td>-1.163903e+03</td>\n",
       "      <td>-1.118535e+03</td>\n",
       "      <td>2.128367e+04</td>\n",
       "      <td>4.866178e+04</td>\n",
       "      <td>-8.735976e+04</td>\n",
       "      <td>498.201635</td>\n",
       "      <td>7.605167e+03</td>\n",
       "    </tr>\n",
       "  </tbody>\n",
       "</table>\n",
       "</div>"
      ],
      "text/plain": [
       "              0             1             2             3             4   \\\n",
       "0       0.106683  9.290615e+04     -0.011703 -1.851144e-01 -1.110909e-01   \n",
       "1   92906.153408  2.342424e+14 -37300.450776 -2.002549e+07  3.486693e+06   \n",
       "2      -0.011703 -3.730045e+04      1.137236  5.679813e+00  8.319251e-01   \n",
       "3      -0.185114 -2.002549e+07      5.679813  1.033489e+03  1.022644e+01   \n",
       "4      -0.111091  3.486693e+06      0.831925  1.022644e+01  5.291467e+02   \n",
       "5      -0.154341 -7.224929e+06      1.408652  1.828787e+01  9.009636e+01   \n",
       "6      -0.232263 -1.516905e+07     17.444370  3.446219e+01  3.148209e+01   \n",
       "7      -0.243718 -1.474836e+07     17.359735  3.187891e+01  2.628279e+01   \n",
       "8      28.427517  1.318304e+08    -71.119335  2.391395e+03  1.962310e+01   \n",
       "9      60.777226  2.270335e+09  -2000.166487  7.116073e+03 -2.237228e+04   \n",
       "10     17.221569 -9.734073e+08   -204.730355  8.807203e+03 -5.922262e+02   \n",
       "11     -0.236194 -6.884009e+05      0.510834 -2.635098e+01  4.573742e+02   \n",
       "12     -0.419114 -1.375395e+06    -11.303045 -2.018139e+02  3.479464e+02   \n",
       "\n",
       "              5             6             7             8             9   \\\n",
       "0  -1.543405e-01 -2.322628e-01 -2.437175e-01  2.842752e+01  6.077723e+01   \n",
       "1  -7.224929e+06 -1.516905e+07 -1.474836e+07  1.318304e+08  2.270335e+09   \n",
       "2   1.408652e+00  1.744437e+01  1.735973e+01 -7.111933e+01 -2.000166e+03   \n",
       "3   1.828787e+01  3.446219e+01  3.187891e+01  2.391395e+03  7.116073e+03   \n",
       "4   9.009636e+01  3.148209e+01  2.628279e+01  1.962310e+01 -2.237228e+04   \n",
       "5   1.026721e+02  5.474115e+01  5.351718e+01 -3.403236e+02 -1.990694e+04   \n",
       "6   5.474115e+01  1.249963e+03  1.235132e+03 -1.316993e+04 -1.832652e+05   \n",
       "7   5.351718e+01  1.235132e+03  1.245789e+03 -1.324790e+04 -1.839330e+05   \n",
       "8  -3.403236e+02 -1.316993e+04 -1.324790e+04  3.357353e+06  2.791655e+06   \n",
       "9  -1.990694e+04 -1.832652e+05 -1.839330e+05  2.791655e+06  8.944697e+07   \n",
       "10 -4.186199e+03 -1.955512e+04 -2.058856e+04  7.259853e+05  1.682092e+07   \n",
       "11  8.169111e+01  2.870516e+01  3.222892e+01 -3.965233e+02 -3.093310e+04   \n",
       "12  7.445889e+01 -1.163903e+03 -1.118535e+03  2.128367e+04  4.866178e+04   \n",
       "\n",
       "              10             11            12  \n",
       "0   1.722157e+01      -0.236194 -4.191137e-01  \n",
       "1  -9.734073e+08 -688400.944810 -1.375395e+06  \n",
       "2  -2.047304e+02       0.510834 -1.130304e+01  \n",
       "3   8.807203e+03     -26.350980 -2.018139e+02  \n",
       "4  -5.922262e+02     457.374180  3.479464e+02  \n",
       "5  -4.186199e+03      81.691112  7.445889e+01  \n",
       "6  -1.955512e+04      28.705156 -1.163903e+03  \n",
       "7  -2.058856e+04      32.228917 -1.118535e+03  \n",
       "8   7.259853e+05    -396.523346  2.128367e+04  \n",
       "9   1.682092e+07  -30933.098571  4.866178e+04  \n",
       "10  6.637381e+07    3608.360247 -8.735976e+04  \n",
       "11  3.608360e+03     932.327601  4.982016e+02  \n",
       "12 -8.735976e+04     498.201635  7.605167e+03  "
      ]
     },
     "execution_count": 104,
     "metadata": {},
     "output_type": "execute_result"
    }
   ],
   "source": [
    "cov"
   ]
  },
  {
   "cell_type": "code",
   "execution_count": 105,
   "metadata": {},
   "outputs": [],
   "source": [
    "# plt.imshow(cov, cmap='hot', interpolation='none')  \n",
    "# plt.colorbar()  \n",
    "# plt.xticks(range(len(cov)), cov.columns)  \n",
    "# plt.yticks(range(len(cov)), cov.columns);  \n",
    "# # plt.savefig(\"correl.png\")  \n",
    "# plt.show()  "
   ]
  },
  {
   "cell_type": "code",
   "execution_count": 106,
   "metadata": {},
   "outputs": [
    {
     "data": {
      "text/html": [
       "<div>\n",
       "<style>\n",
       "    .dataframe thead tr:only-child th {\n",
       "        text-align: right;\n",
       "    }\n",
       "\n",
       "    .dataframe thead th {\n",
       "        text-align: left;\n",
       "    }\n",
       "\n",
       "    .dataframe tbody tr th {\n",
       "        vertical-align: top;\n",
       "    }\n",
       "</style>\n",
       "<table border=\"1\" class=\"dataframe\">\n",
       "  <thead>\n",
       "    <tr style=\"text-align: right;\">\n",
       "      <th></th>\n",
       "      <th>0</th>\n",
       "      <th>1</th>\n",
       "      <th>2</th>\n",
       "      <th>3</th>\n",
       "      <th>4</th>\n",
       "      <th>5</th>\n",
       "      <th>6</th>\n",
       "      <th>7</th>\n",
       "      <th>8</th>\n",
       "      <th>9</th>\n",
       "      <th>10</th>\n",
       "      <th>11</th>\n",
       "      <th>12</th>\n",
       "    </tr>\n",
       "  </thead>\n",
       "  <tbody>\n",
       "    <tr>\n",
       "      <th>0</th>\n",
       "      <td>1.000000</td>\n",
       "      <td>0.137384</td>\n",
       "      <td>-0.326423</td>\n",
       "      <td>-0.168200</td>\n",
       "      <td>-0.401706</td>\n",
       "      <td>-0.505937</td>\n",
       "      <td>-0.279442</td>\n",
       "      <td>-0.279747</td>\n",
       "      <td>0.273022</td>\n",
       "      <td>0.327669</td>\n",
       "      <td>0.166072</td>\n",
       "      <td>-0.380701</td>\n",
       "      <td>0.072993</td>\n",
       "    </tr>\n",
       "    <tr>\n",
       "      <th>1</th>\n",
       "      <td>0.137384</td>\n",
       "      <td>1.000000</td>\n",
       "      <td>-0.274608</td>\n",
       "      <td>-0.267323</td>\n",
       "      <td>-0.277404</td>\n",
       "      <td>-0.421048</td>\n",
       "      <td>-0.247767</td>\n",
       "      <td>-0.247250</td>\n",
       "      <td>0.147235</td>\n",
       "      <td>0.267315</td>\n",
       "      <td>0.077368</td>\n",
       "      <td>-0.256274</td>\n",
       "      <td>0.106560</td>\n",
       "    </tr>\n",
       "    <tr>\n",
       "      <th>2</th>\n",
       "      <td>-0.326423</td>\n",
       "      <td>-0.274608</td>\n",
       "      <td>1.000000</td>\n",
       "      <td>0.313860</td>\n",
       "      <td>-0.083087</td>\n",
       "      <td>0.409295</td>\n",
       "      <td>0.964557</td>\n",
       "      <td>0.964507</td>\n",
       "      <td>-0.782738</td>\n",
       "      <td>-0.886043</td>\n",
       "      <td>-0.473881</td>\n",
       "      <td>-0.125058</td>\n",
       "      <td>-0.836216</td>\n",
       "    </tr>\n",
       "    <tr>\n",
       "      <th>3</th>\n",
       "      <td>-0.168200</td>\n",
       "      <td>-0.267323</td>\n",
       "      <td>0.313860</td>\n",
       "      <td>1.000000</td>\n",
       "      <td>-0.366680</td>\n",
       "      <td>-0.121735</td>\n",
       "      <td>0.183883</td>\n",
       "      <td>0.182349</td>\n",
       "      <td>-0.094568</td>\n",
       "      <td>-0.065754</td>\n",
       "      <td>0.035135</td>\n",
       "      <td>-0.406989</td>\n",
       "      <td>-0.368231</td>\n",
       "    </tr>\n",
       "    <tr>\n",
       "      <th>4</th>\n",
       "      <td>-0.401706</td>\n",
       "      <td>-0.277404</td>\n",
       "      <td>-0.083087</td>\n",
       "      <td>-0.366680</td>\n",
       "      <td>1.000000</td>\n",
       "      <td>0.793415</td>\n",
       "      <td>0.023203</td>\n",
       "      <td>0.024344</td>\n",
       "      <td>-0.237690</td>\n",
       "      <td>-0.282133</td>\n",
       "      <td>-0.422931</td>\n",
       "      <td>0.991249</td>\n",
       "      <td>0.381169</td>\n",
       "    </tr>\n",
       "    <tr>\n",
       "      <th>5</th>\n",
       "      <td>-0.505937</td>\n",
       "      <td>-0.421048</td>\n",
       "      <td>0.409295</td>\n",
       "      <td>-0.121735</td>\n",
       "      <td>0.793415</td>\n",
       "      <td>1.000000</td>\n",
       "      <td>0.488863</td>\n",
       "      <td>0.489733</td>\n",
       "      <td>-0.562243</td>\n",
       "      <td>-0.688607</td>\n",
       "      <td>-0.631380</td>\n",
       "      <td>0.738352</td>\n",
       "      <td>-0.066277</td>\n",
       "    </tr>\n",
       "    <tr>\n",
       "      <th>6</th>\n",
       "      <td>-0.279442</td>\n",
       "      <td>-0.247767</td>\n",
       "      <td>0.964557</td>\n",
       "      <td>0.183883</td>\n",
       "      <td>0.023203</td>\n",
       "      <td>0.488863</td>\n",
       "      <td>1.000000</td>\n",
       "      <td>0.999991</td>\n",
       "      <td>-0.850013</td>\n",
       "      <td>-0.949281</td>\n",
       "      <td>-0.495602</td>\n",
       "      <td>-0.015791</td>\n",
       "      <td>-0.844209</td>\n",
       "    </tr>\n",
       "    <tr>\n",
       "      <th>7</th>\n",
       "      <td>-0.279747</td>\n",
       "      <td>-0.247250</td>\n",
       "      <td>0.964507</td>\n",
       "      <td>0.182349</td>\n",
       "      <td>0.024344</td>\n",
       "      <td>0.489733</td>\n",
       "      <td>0.999991</td>\n",
       "      <td>1.000000</td>\n",
       "      <td>-0.850200</td>\n",
       "      <td>-0.950057</td>\n",
       "      <td>-0.498002</td>\n",
       "      <td>-0.014519</td>\n",
       "      <td>-0.842408</td>\n",
       "    </tr>\n",
       "    <tr>\n",
       "      <th>8</th>\n",
       "      <td>0.273022</td>\n",
       "      <td>0.147235</td>\n",
       "      <td>-0.782738</td>\n",
       "      <td>-0.094568</td>\n",
       "      <td>-0.237690</td>\n",
       "      <td>-0.562243</td>\n",
       "      <td>-0.850013</td>\n",
       "      <td>-0.850200</td>\n",
       "      <td>1.000000</td>\n",
       "      <td>0.842625</td>\n",
       "      <td>0.423080</td>\n",
       "      <td>-0.205995</td>\n",
       "      <td>0.663013</td>\n",
       "    </tr>\n",
       "    <tr>\n",
       "      <th>9</th>\n",
       "      <td>0.327669</td>\n",
       "      <td>0.267315</td>\n",
       "      <td>-0.886043</td>\n",
       "      <td>-0.065754</td>\n",
       "      <td>-0.282133</td>\n",
       "      <td>-0.688607</td>\n",
       "      <td>-0.949281</td>\n",
       "      <td>-0.950057</td>\n",
       "      <td>0.842625</td>\n",
       "      <td>1.000000</td>\n",
       "      <td>0.671422</td>\n",
       "      <td>-0.240686</td>\n",
       "      <td>0.651051</td>\n",
       "    </tr>\n",
       "    <tr>\n",
       "      <th>10</th>\n",
       "      <td>0.166072</td>\n",
       "      <td>0.077368</td>\n",
       "      <td>-0.473881</td>\n",
       "      <td>0.035135</td>\n",
       "      <td>-0.422931</td>\n",
       "      <td>-0.631380</td>\n",
       "      <td>-0.495602</td>\n",
       "      <td>-0.498002</td>\n",
       "      <td>0.423080</td>\n",
       "      <td>0.671422</td>\n",
       "      <td>1.000000</td>\n",
       "      <td>-0.382154</td>\n",
       "      <td>0.068226</td>\n",
       "    </tr>\n",
       "    <tr>\n",
       "      <th>11</th>\n",
       "      <td>-0.380701</td>\n",
       "      <td>-0.256274</td>\n",
       "      <td>-0.125058</td>\n",
       "      <td>-0.406989</td>\n",
       "      <td>0.991249</td>\n",
       "      <td>0.738352</td>\n",
       "      <td>-0.015791</td>\n",
       "      <td>-0.014519</td>\n",
       "      <td>-0.205995</td>\n",
       "      <td>-0.240686</td>\n",
       "      <td>-0.382154</td>\n",
       "      <td>1.000000</td>\n",
       "      <td>0.412502</td>\n",
       "    </tr>\n",
       "    <tr>\n",
       "      <th>12</th>\n",
       "      <td>0.072993</td>\n",
       "      <td>0.106560</td>\n",
       "      <td>-0.836216</td>\n",
       "      <td>-0.368231</td>\n",
       "      <td>0.381169</td>\n",
       "      <td>-0.066277</td>\n",
       "      <td>-0.844209</td>\n",
       "      <td>-0.842408</td>\n",
       "      <td>0.663013</td>\n",
       "      <td>0.651051</td>\n",
       "      <td>0.068226</td>\n",
       "      <td>0.412502</td>\n",
       "      <td>1.000000</td>\n",
       "    </tr>\n",
       "  </tbody>\n",
       "</table>\n",
       "</div>"
      ],
      "text/plain": [
       "          0         1         2         3         4         5         6   \\\n",
       "0   1.000000  0.137384 -0.326423 -0.168200 -0.401706 -0.505937 -0.279442   \n",
       "1   0.137384  1.000000 -0.274608 -0.267323 -0.277404 -0.421048 -0.247767   \n",
       "2  -0.326423 -0.274608  1.000000  0.313860 -0.083087  0.409295  0.964557   \n",
       "3  -0.168200 -0.267323  0.313860  1.000000 -0.366680 -0.121735  0.183883   \n",
       "4  -0.401706 -0.277404 -0.083087 -0.366680  1.000000  0.793415  0.023203   \n",
       "5  -0.505937 -0.421048  0.409295 -0.121735  0.793415  1.000000  0.488863   \n",
       "6  -0.279442 -0.247767  0.964557  0.183883  0.023203  0.488863  1.000000   \n",
       "7  -0.279747 -0.247250  0.964507  0.182349  0.024344  0.489733  0.999991   \n",
       "8   0.273022  0.147235 -0.782738 -0.094568 -0.237690 -0.562243 -0.850013   \n",
       "9   0.327669  0.267315 -0.886043 -0.065754 -0.282133 -0.688607 -0.949281   \n",
       "10  0.166072  0.077368 -0.473881  0.035135 -0.422931 -0.631380 -0.495602   \n",
       "11 -0.380701 -0.256274 -0.125058 -0.406989  0.991249  0.738352 -0.015791   \n",
       "12  0.072993  0.106560 -0.836216 -0.368231  0.381169 -0.066277 -0.844209   \n",
       "\n",
       "          7         8         9         10        11        12  \n",
       "0  -0.279747  0.273022  0.327669  0.166072 -0.380701  0.072993  \n",
       "1  -0.247250  0.147235  0.267315  0.077368 -0.256274  0.106560  \n",
       "2   0.964507 -0.782738 -0.886043 -0.473881 -0.125058 -0.836216  \n",
       "3   0.182349 -0.094568 -0.065754  0.035135 -0.406989 -0.368231  \n",
       "4   0.024344 -0.237690 -0.282133 -0.422931  0.991249  0.381169  \n",
       "5   0.489733 -0.562243 -0.688607 -0.631380  0.738352 -0.066277  \n",
       "6   0.999991 -0.850013 -0.949281 -0.495602 -0.015791 -0.844209  \n",
       "7   1.000000 -0.850200 -0.950057 -0.498002 -0.014519 -0.842408  \n",
       "8  -0.850200  1.000000  0.842625  0.423080 -0.205995  0.663013  \n",
       "9  -0.950057  0.842625  1.000000  0.671422 -0.240686  0.651051  \n",
       "10 -0.498002  0.423080  0.671422  1.000000 -0.382154  0.068226  \n",
       "11 -0.014519 -0.205995 -0.240686 -0.382154  1.000000  0.412502  \n",
       "12 -0.842408  0.663013  0.651051  0.068226  0.412502  1.000000  "
      ]
     },
     "execution_count": 106,
     "metadata": {},
     "output_type": "execute_result"
    }
   ],
   "source": [
    "corr = corr.corr()\n",
    "corr"
   ]
  },
  {
   "cell_type": "code",
   "execution_count": 107,
   "metadata": {},
   "outputs": [
    {
     "data": {
      "image/png": "[encoded data removed]",
      "text/plain": [
       "<matplotlib.figure.Figure at 0x16dac611240>"
      ]
     },
     "metadata": {},
     "output_type": "display_data"
    }
   ],
   "source": [
    "plt.imshow(corr, cmap='hot', interpolation='none')  \n",
    "plt.colorbar()  \n",
    "plt.xticks(range(len(corr)), corr.columns)  \n",
    "plt.yticks(range(len(corr)), corr.columns);  \n",
    "# plt.savefig(\"correl.png\")  \n",
    "plt.show()  "
   ]
  },
  {
   "cell_type": "markdown",
   "metadata": {},
   "source": [
    "# Autovalores e Autovetores"
   ]
  },
  {
   "cell_type": "markdown",
   "metadata": {},
   "source": [
    "autovalores da matriz de covariância representam a variância que será observada quando os dados originais forem projetados no eixo dado pelo autovetor correspondente. Um determinado autovalor informa a “variância explicada” (Explained Variance) pelo seu componente principal (autovetor) correspondente."
   ]
  },
  {
   "cell_type": "code",
   "execution_count": 108,
   "metadata": {
    "collapsed": true
   },
   "outputs": [],
   "source": [
    "w,v=la.eig(cov)"
   ]
  },
  {
   "cell_type": "markdown",
   "metadata": {},
   "source": [
    "autovalor"
   ]
  },
  {
   "cell_type": "code",
   "execution_count": 109,
   "metadata": {},
   "outputs": [
    {
     "data": {
      "text/plain": [
       "array([  2.34242422e+14,   9.83805834e+07,   5.75060203e+07,\n",
       "         3.26651465e+06,   7.69691289e+03,   1.40781897e+03,\n",
       "         1.12316911e+03,   1.02136608e+03,   2.35810920e+02,\n",
       "         8.04376882e+01,   1.06009186e-01,   8.49693958e-01,\n",
       "         1.24861055e+01])"
      ]
     },
     "execution_count": 109,
     "metadata": {},
     "output_type": "execute_result"
    }
   ],
   "source": [
    "w"
   ]
  },
  {
   "cell_type": "markdown",
   "metadata": {},
   "source": [
    "autovetor"
   ]
  },
  {
   "cell_type": "code",
   "execution_count": 110,
   "metadata": {},
   "outputs": [
    {
     "data": {
      "text/plain": [
       "array([[  3.96623984e-10,  -6.30172067e-07,   2.19751566e-07,\n",
       "         -8.08248482e-06,  -7.64897859e-05,  -1.96681717e-04,\n",
       "         -9.51460840e-05,   1.99953620e-04,   9.31499092e-05,\n",
       "          1.40529534e-03,  -9.99952607e-01,   9.61956836e-03,\n",
       "          4.13107367e-04],\n",
       "       [  1.00000000e+00,   6.65395247e-06,  -8.19651023e-06,\n",
       "          2.67105066e-07,   4.52384457e-09,   6.12615217e-08,\n",
       "         -3.14388710e-08,  -8.21637224e-08,  -1.18317313e-08,\n",
       "         -2.91001574e-08,   3.34789336e-10,   1.40096709e-09,\n",
       "          1.58593387e-09],\n",
       "       [ -1.59238745e-10,   1.89702442e-05,  -1.30525362e-05,\n",
       "          2.14497583e-06,  -1.81242462e-03,   1.12282337e-02,\n",
       "         -3.98256449e-03,  -4.27466492e-03,   8.24177473e-04,\n",
       "         -6.07859498e-03,  -9.62793127e-03,  -9.99845434e-01,\n",
       "          3.91028189e-03],\n",
       "       [ -8.54904303e-08,  -1.07735848e-04,  -7.45735517e-05,\n",
       "         -6.55719002e-04,  -3.27808254e-02,   6.40150346e-02,\n",
       "         -5.52145707e-03,  -9.96649546e-01,  -3.45091869e-02,\n",
       "          1.64606239e-02,  -1.41559415e-04,   4.93329096e-03,\n",
       "         -2.18348721e-04],\n",
       "       [  1.48849770e-08,   2.04165649e-04,  -1.72488595e-04,\n",
       "         -2.24689718e-04,   5.46628789e-02,   2.02960583e-01,\n",
       "          5.02023683e-01,  -1.61114488e-02,   8.11123311e-01,\n",
       "          2.12825224e-01,   2.67917658e-04,  -4.47934777e-04,\n",
       "         -1.77656682e-02],\n",
       "       [ -3.08438129e-08,   1.98396952e-04,  -9.57791442e-05,\n",
       "         -9.41639873e-05,   1.13057486e-02,   5.55216338e-02,\n",
       "          7.82826912e-02,  -1.99952897e-02,   1.92505475e-01,\n",
       "         -9.76273809e-01,  -1.31810697e-03,   6.45593650e-03,\n",
       "         -7.01098896e-03],\n",
       "       [ -6.47579172e-08,   1.74310972e-03,  -1.18339362e-03,\n",
       "          2.23052888e-03,  -1.60693698e-01,   6.45009107e-01,\n",
       "         -2.31489879e-01,   4.78702441e-02,   6.17117819e-03,\n",
       "          1.14800309e-02,   3.31798186e-04,   1.09551152e-02,\n",
       "          7.08492943e-01],\n",
       "       [ -6.29619464e-08,   1.75405685e-03,  -1.17297140e-03,\n",
       "          2.24687654e-03,  -1.54912744e-01,   6.47326917e-01,\n",
       "         -2.37009709e-01,   4.92315405e-02,  -2.33795587e-02,\n",
       "          1.54990737e-02,  -3.02810923e-04,   5.41469250e-03,\n",
       "         -7.05369988e-01],\n",
       "       [  5.62794704e-07,  -2.95331687e-02,   1.21177253e-02,\n",
       "         -9.99465833e-01,  -6.69676868e-03,   1.75339629e-03,\n",
       "         -2.71641317e-04,   9.98069719e-04,  -8.10841839e-05,\n",
       "          5.35515108e-05,   8.78914856e-06,   2.51781860e-05,\n",
       "         -3.24368658e-05],\n",
       "       [  9.69224692e-06,  -8.84451010e-01,   4.65539259e-01,\n",
       "          3.17920702e-02,  -1.21346716e-03,   2.67742242e-03,\n",
       "         -3.92153856e-04,   2.51182368e-04,   2.20264234e-05,\n",
       "         -1.22416768e-04,  -1.15468686e-08,   1.07170645e-05,\n",
       "         -2.69861548e-06],\n",
       "       [ -4.15555553e-06,  -4.65690805e-01,  -8.84940905e-01,\n",
       "          3.02097545e-03,   1.56247443e-03,  -9.31336668e-05,\n",
       "         -2.96105524e-04,   5.73824748e-05,   3.56630634e-05,\n",
       "         -1.31745294e-05,  -4.77487202e-09,  -1.24597630e-07,\n",
       "         -3.42924096e-06],\n",
       "       [ -2.93884111e-09,   2.61088179e-04,  -3.05924371e-04,\n",
       "         -1.77429980e-04,   8.06975838e-02,   2.92202047e-01,\n",
       "          7.76544621e-01,   3.03881813e-02,  -5.50643305e-01,\n",
       "         -2.94487286e-02,  -2.23445395e-04,  -3.24491143e-04,\n",
       "          9.23303561e-03],\n",
       "       [ -5.87167033e-09,  -3.04737955e-05,   1.74324564e-03,\n",
       "         -6.13538633e-03,   9.69239389e-01,   1.76179285e-01,\n",
       "         -1.70336890e-01,  -1.92917060e-02,  -6.02493310e-03,\n",
       "          6.76302963e-03,  -7.61633095e-05,   9.56827799e-04,\n",
       "          5.03962138e-03]])"
      ]
     },
     "execution_count": 110,
     "metadata": {},
     "output_type": "execute_result"
    }
   ],
   "source": [
    "v"
   ]
  },
  {
   "cell_type": "markdown",
   "metadata": {},
   "source": [
    "# Ordenação dos autovalores e seus autovetores correspondentes em ordem decrescente."
   ]
  },
  {
   "cell_type": "code",
   "execution_count": 111,
   "metadata": {
    "collapsed": true
   },
   "outputs": [],
   "source": [
    "ind=np.argsort(w)[::-1]\n",
    "w_dec=w[ind]\n",
    "v_dec=v[ind]"
   ]
  },
  {
   "cell_type": "code",
   "execution_count": 112,
   "metadata": {},
   "outputs": [
    {
     "data": {
      "text/plain": [
       "array([  2.34242422e+14,   9.83805834e+07,   5.75060203e+07,\n",
       "         3.26651465e+06,   7.69691289e+03,   1.40781897e+03,\n",
       "         1.12316911e+03,   1.02136608e+03,   2.35810920e+02,\n",
       "         8.04376882e+01,   1.24861055e+01,   8.49693958e-01,\n",
       "         1.06009186e-01])"
      ]
     },
     "execution_count": 112,
     "metadata": {},
     "output_type": "execute_result"
    }
   ],
   "source": [
    "w_dec"
   ]
  },
  {
   "cell_type": "code",
   "execution_count": 113,
   "metadata": {},
   "outputs": [
    {
     "data": {
      "text/plain": [
       "array([[  3.96623984e-10,  -6.30172067e-07,   2.19751566e-07,\n",
       "         -8.08248482e-06,  -7.64897859e-05,  -1.96681717e-04,\n",
       "         -9.51460840e-05,   1.99953620e-04,   9.31499092e-05,\n",
       "          1.40529534e-03,  -9.99952607e-01,   9.61956836e-03,\n",
       "          4.13107367e-04],\n",
       "       [  1.00000000e+00,   6.65395247e-06,  -8.19651023e-06,\n",
       "          2.67105066e-07,   4.52384457e-09,   6.12615217e-08,\n",
       "         -3.14388710e-08,  -8.21637224e-08,  -1.18317313e-08,\n",
       "         -2.91001574e-08,   3.34789336e-10,   1.40096709e-09,\n",
       "          1.58593387e-09],\n",
       "       [ -1.59238745e-10,   1.89702442e-05,  -1.30525362e-05,\n",
       "          2.14497583e-06,  -1.81242462e-03,   1.12282337e-02,\n",
       "         -3.98256449e-03,  -4.27466492e-03,   8.24177473e-04,\n",
       "         -6.07859498e-03,  -9.62793127e-03,  -9.99845434e-01,\n",
       "          3.91028189e-03],\n",
       "       [ -8.54904303e-08,  -1.07735848e-04,  -7.45735517e-05,\n",
       "         -6.55719002e-04,  -3.27808254e-02,   6.40150346e-02,\n",
       "         -5.52145707e-03,  -9.96649546e-01,  -3.45091869e-02,\n",
       "          1.64606239e-02,  -1.41559415e-04,   4.93329096e-03,\n",
       "         -2.18348721e-04],\n",
       "       [  1.48849770e-08,   2.04165649e-04,  -1.72488595e-04,\n",
       "         -2.24689718e-04,   5.46628789e-02,   2.02960583e-01,\n",
       "          5.02023683e-01,  -1.61114488e-02,   8.11123311e-01,\n",
       "          2.12825224e-01,   2.67917658e-04,  -4.47934777e-04,\n",
       "         -1.77656682e-02],\n",
       "       [ -3.08438129e-08,   1.98396952e-04,  -9.57791442e-05,\n",
       "         -9.41639873e-05,   1.13057486e-02,   5.55216338e-02,\n",
       "          7.82826912e-02,  -1.99952897e-02,   1.92505475e-01,\n",
       "         -9.76273809e-01,  -1.31810697e-03,   6.45593650e-03,\n",
       "         -7.01098896e-03],\n",
       "       [ -6.47579172e-08,   1.74310972e-03,  -1.18339362e-03,\n",
       "          2.23052888e-03,  -1.60693698e-01,   6.45009107e-01,\n",
       "         -2.31489879e-01,   4.78702441e-02,   6.17117819e-03,\n",
       "          1.14800309e-02,   3.31798186e-04,   1.09551152e-02,\n",
       "          7.08492943e-01],\n",
       "       [ -6.29619464e-08,   1.75405685e-03,  -1.17297140e-03,\n",
       "          2.24687654e-03,  -1.54912744e-01,   6.47326917e-01,\n",
       "         -2.37009709e-01,   4.92315405e-02,  -2.33795587e-02,\n",
       "          1.54990737e-02,  -3.02810923e-04,   5.41469250e-03,\n",
       "         -7.05369988e-01],\n",
       "       [  5.62794704e-07,  -2.95331687e-02,   1.21177253e-02,\n",
       "         -9.99465833e-01,  -6.69676868e-03,   1.75339629e-03,\n",
       "         -2.71641317e-04,   9.98069719e-04,  -8.10841839e-05,\n",
       "          5.35515108e-05,   8.78914856e-06,   2.51781860e-05,\n",
       "         -3.24368658e-05],\n",
       "       [  9.69224692e-06,  -8.84451010e-01,   4.65539259e-01,\n",
       "          3.17920702e-02,  -1.21346716e-03,   2.67742242e-03,\n",
       "         -3.92153856e-04,   2.51182368e-04,   2.20264234e-05,\n",
       "         -1.22416768e-04,  -1.15468686e-08,   1.07170645e-05,\n",
       "         -2.69861548e-06],\n",
       "       [ -5.87167033e-09,  -3.04737955e-05,   1.74324564e-03,\n",
       "         -6.13538633e-03,   9.69239389e-01,   1.76179285e-01,\n",
       "         -1.70336890e-01,  -1.92917060e-02,  -6.02493310e-03,\n",
       "          6.76302963e-03,  -7.61633095e-05,   9.56827799e-04,\n",
       "          5.03962138e-03],\n",
       "       [ -2.93884111e-09,   2.61088179e-04,  -3.05924371e-04,\n",
       "         -1.77429980e-04,   8.06975838e-02,   2.92202047e-01,\n",
       "          7.76544621e-01,   3.03881813e-02,  -5.50643305e-01,\n",
       "         -2.94487286e-02,  -2.23445395e-04,  -3.24491143e-04,\n",
       "          9.23303561e-03],\n",
       "       [ -4.15555553e-06,  -4.65690805e-01,  -8.84940905e-01,\n",
       "          3.02097545e-03,   1.56247443e-03,  -9.31336668e-05,\n",
       "         -2.96105524e-04,   5.73824748e-05,   3.56630634e-05,\n",
       "         -1.31745294e-05,  -4.77487202e-09,  -1.24597630e-07,\n",
       "         -3.42924096e-06]])"
      ]
     },
     "execution_count": 113,
     "metadata": {},
     "output_type": "execute_result"
    }
   ],
   "source": [
    "v_dec"
   ]
  },
  {
   "cell_type": "code",
   "execution_count": 114,
   "metadata": {},
   "outputs": [
    {
     "data": {
      "text/plain": [
       "1.0000000000218121"
      ]
     },
     "execution_count": 114,
     "metadata": {},
     "output_type": "execute_result"
    }
   ],
   "source": [
    "la.norm(v[0])"
   ]
  },
  {
   "cell_type": "code",
   "execution_count": 115,
   "metadata": {},
   "outputs": [
    {
     "data": {
      "text/plain": [
       "0.99999999999999989"
      ]
     },
     "execution_count": 115,
     "metadata": {},
     "output_type": "execute_result"
    }
   ],
   "source": [
    "la.norm(v[1])"
   ]
  },
  {
   "cell_type": "code",
   "execution_count": 116,
   "metadata": {},
   "outputs": [
    {
     "data": {
      "text/plain": [
       "3.3579750534603237e-17"
      ]
     },
     "execution_count": 116,
     "metadata": {},
     "output_type": "execute_result"
    }
   ],
   "source": [
    "np.dot(v[0],v[1])"
   ]
  },
  {
   "cell_type": "markdown",
   "metadata": {},
   "source": [
    "taxa de variância explicada "
   ]
  },
  {
   "cell_type": "code",
   "execution_count": 117,
   "metadata": {},
   "outputs": [
    {
     "data": {
      "text/plain": [
       "array([  9.99999321e-01,   4.19994447e-07,   2.45497723e-07,\n",
       "         1.39450079e-08,   3.28587264e-11,   6.01008989e-12,\n",
       "         4.79489727e-12,   4.36029211e-12,   1.00669536e-12,\n",
       "         3.43394817e-13,   4.52561553e-16,   3.62741032e-15,\n",
       "         5.33041661e-14])"
      ]
     },
     "execution_count": 117,
     "metadata": {},
     "output_type": "execute_result"
    }
   ],
   "source": [
    "EVR=w/np.sum(w)\n",
    "EVR"
   ]
  },
  {
   "cell_type": "code",
   "execution_count": null,
   "metadata": {
    "collapsed": true
   },
   "outputs": [],
   "source": []
  }
 ],
 "metadata": {
  "kernelspec": {
   "display_name": "Python 3",
   "language": "python",
   "name": "python3"
  },
  "language_info": {
   "codemirror_mode": {
    "name": "ipython",
    "version": 3
   },
   "file_extension": ".py",
   "mimetype": "text/x-python",
   "name": "python",
   "nbconvert_exporter": "python",
   "pygments_lexer": "ipython3",
   "version": "3.6.1"
  }
 },
 "nbformat": 4,
 "nbformat_minor": 2
}
