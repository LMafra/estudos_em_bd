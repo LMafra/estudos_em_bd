{
 "cells": [
  {
   "cell_type": "markdown",
   "metadata": {},
   "source": [
    "# Lendo do Banco de dados"
   ]
  },
  {
   "cell_type": "code",
   "execution_count": 33,
   "metadata": {
    "collapsed": true
   },
   "outputs": [],
   "source": [
    "from __future__ import print_function\n",
    "from datetime import date, datetime, timedelta\n",
    "import mysql.connector"
   ]
  },
  {
   "cell_type": "code",
   "execution_count": 34,
   "metadata": {
    "collapsed": true
   },
   "outputs": [],
   "source": [
    "cnx = mysql.connector.connect(user='root', database='estudos_em')\n",
    "cursor = cnx.cursor()"
   ]
  },
  {
   "cell_type": "code",
   "execution_count": 35,
   "metadata": {},
   "outputs": [
    {
     "name": "stdout",
     "output_type": "stream",
     "text": [
      "(100068, '2', '1986-06-15 00:00:00.000', '128', '1', '1', '32', 1, 1, '20032', '20032', '4096', '20081', '1024', '240', '232')\n"
     ]
    }
   ],
   "source": [
    "sql = \"SELECT * FROM alunos WHERE sexo = 2\"\n",
    "cursor.execute(sql)\n",
    "results = cursor.fetchall()\n",
    "print(results[1])"
   ]
  },
  {
   "cell_type": "code",
   "execution_count": 36,
   "metadata": {
    "collapsed": true
   },
   "outputs": [],
   "source": [
    "cnx.close()"
   ]
  },
  {
   "cell_type": "markdown",
   "metadata": {},
   "source": [
    "# Código"
   ]
  },
  {
   "cell_type": "code",
   "execution_count": 37,
   "metadata": {
    "collapsed": true
   },
   "outputs": [],
   "source": [
    "import pandas as pd\n",
    "from collections import OrderedDict\n",
    "from datetime import date"
   ]
  },
  {
   "cell_type": "code",
   "execution_count": 38,
   "metadata": {
    "collapsed": true
   },
   "outputs": [],
   "source": [
    "import numpy as np\n",
    "import numpy.linalg as la\n",
    "import csv\n",
    "import sqlite3"
   ]
  },
  {
   "cell_type": "markdown",
   "metadata": {},
   "source": [
    "transformando a tupla em matriz"
   ]
  },
  {
   "cell_type": "code",
   "execution_count": 39,
   "metadata": {
    "collapsed": true
   },
   "outputs": [],
   "source": [
    "lista = []\n",
    "for y in range(0, len(results)):\n",
    "    lista.append([])\n",
    "    for x in range(len(results[y])):\n",
    "        lista[y].append(0)\n",
    "        lista[y][x] = results[y][x]"
   ]
  },
  {
   "cell_type": "markdown",
   "metadata": {},
   "source": [
    "utiliza uma parte da matriz"
   ]
  },
  {
   "cell_type": "code",
   "execution_count": 40,
   "metadata": {},
   "outputs": [
    {
     "name": "stdout",
     "output_type": "stream",
     "text": [
      "[101528, '2', '1985-02-24 00:00:00.000', '128', '1', '1', '32', 2, 2, '20041', '20041', '128', '20092', '1024', '180', '178']\n"
     ]
    }
   ],
   "source": [
    "andrews_matriz = lista[0:5000]\n",
    "print(andrews_matriz[5])"
   ]
  },
  {
   "cell_type": "markdown",
   "metadata": {},
   "source": [
    "# Curva de Andrews"
   ]
  },
  {
   "cell_type": "code",
   "execution_count": 41,
   "metadata": {},
   "outputs": [
    {
     "name": "stdout",
     "output_type": "stream",
     "text": [
      "[2, 128, 1, 64, 64, 8, 20032, 20032, 4096, 20081, 3, 274, 282]\n",
      "5000\n",
      "6778\n",
      "[2, 128, 1, 64, 64, 8, 20032, 20032, 4096, 20081, 3, 274, 282]\n"
     ]
    }
   ],
   "source": [
    "for y in range(0, len(andrews_matriz)):\n",
    "    del(andrews_matriz[y][2])\n",
    "    del(andrews_matriz[y][3])\n",
    "    del(andrews_matriz[y][0])\n",
    "    for x in range(0, len(andrews_matriz[y])):\n",
    "        if(andrews_matriz[y][x] != ''):\n",
    "            andrews_matriz[y][x] = int(andrews_matriz[y][x])\n",
    "        else:\n",
    "            andrews_matriz[y][x] = 0\n",
    "        if(x == 10):\n",
    "            if(andrews_matriz[y][10] != 1 and andrews_matriz[y][10] != 1024):\n",
    "                andrews_matriz[y][10] = 2\n",
    "            if(andrews_matriz[y][10] == 1024):\n",
    "                andrews_matriz[y][10] = 3\n",
    "\n",
    "print(andrews_matriz[0])\n",
    "print(len(andrews_matriz))\n",
    "print(len(lista))\n",
    "print(lista[0])"
   ]
  },
  {
   "cell_type": "code",
   "execution_count": 42,
   "metadata": {},
   "outputs": [
    {
     "name": "stdout",
     "output_type": "stream",
     "text": [
      "   0    1   2   3   4   5      6      7     8      9   10   11   12\n",
      "0   2  128   1  64  64   8  20032  20032  4096  20081   3  274  282\n",
      "1   2  128   1  32   1   1  20032  20032  4096  20081   3  240  232\n",
      "2   2    0   1  32   1   1  20032  20032    16  20042   2  240    6\n",
      "3   2  128   1   1   2   2  20041  20041   128  20091   2  180  110\n",
      "4   2  128   1  32   2   2  20041  20041   128  20061   2  180   42\n",
      "128          3086\n",
      "512           386\n",
      "2048          262\n",
      "524288        209\n",
      "67108864      168\n",
      "0             133\n",
      "32             82\n",
      "8388608        80\n",
      "131072         74\n",
      "65536          70\n",
      "262144         61\n",
      "64             60\n",
      "1024           56\n",
      "16384          42\n",
      "32768          34\n",
      "1048576        29\n",
      "8192           28\n",
      "134217728      25\n",
      "256            20\n",
      "8              18\n",
      "4096           18\n",
      "2097152        16\n",
      "16777216       16\n",
      "33554432       12\n",
      "4               6\n",
      "2               4\n",
      "16              3\n",
      "4194304         2\n",
      "Name: 1, dtype: int64\n"
     ]
    },
    {
     "data": {
      "image/png": "[encoded data removed]",
      "text/plain": [
       "<matplotlib.figure.Figure at 0x19159fba668>"
      ]
     },
     "metadata": {},
     "output_type": "display_data"
    }
   ],
   "source": [
    "import pandas as pd\n",
    "import seaborn as sns\n",
    "from pandas.tools.plotting import andrews_curves\n",
    "# We'll also import seaborn, a Python graphing library\n",
    "import warnings # current version of seaborn generates a bunch of warnings that we'll ignore\n",
    "warnings.filterwarnings(\"ignore\")\n",
    "import seaborn as sns\n",
    "import matplotlib.pyplot as plt\n",
    "\n",
    "\n",
    "sns.set(style=\"white\", color_codes=True)\n",
    "\n",
    "# Next, we'll load the Iris flower dataset, which is in the \"../input/\" directory\n",
    "iris = pd.DataFrame(andrews_matriz) # the iris dataset is now a Pandas DataFrame\n",
    "\n",
    "# Let's see what's in the iris data - Jupyter notebooks print the result of the last thing you do\n",
    "print(iris.head())\n",
    "\n",
    "# Let's see how many examples we have of each species\n",
    "print(iris[1].value_counts())\n",
    "\n",
    "\n",
    "andrews_curves(iris, 10)\n",
    "\n",
    "plt.show()"
   ]
  },
  {
   "cell_type": "markdown",
   "metadata": {},
   "source": [
    "# Coordenadas paralelas"
   ]
  },
  {
   "cell_type": "code",
   "execution_count": 43,
   "metadata": {},
   "outputs": [
    {
     "name": "stdout",
     "output_type": "stream",
     "text": [
      "      0         1   2    3   4   5      6      7     8      9   10   11   12\n",
      "0      2       128   1   64  64   8  20032  20032  4096  20081   3  274  282\n",
      "1      2       128   1   32   1   1  20032  20032  4096  20081   3  240  232\n",
      "2      2         0   1   32   1   1  20032  20032    16  20042   2  240    6\n",
      "3      2       128   1    1   2   2  20041  20041   128  20091   2  180  110\n",
      "4      2       128   1   32   2   2  20041  20041   128  20061   2  180   42\n",
      "5      2       128   1   32   2   2  20041  20041   128  20092   3  180  178\n",
      "6      2       128   1   32  64   8  20041  20041   128  20082   3  274  255\n",
      "7      2       128   1   32  64   8  20041  20041   128  20092   3  274  249\n",
      "8      2       128   1   32  16  16  20041  20041   128  20092   2  244  156\n",
      "9      2       128   1   32   1   1  20041  20041   128  20081   3  240  226\n",
      "10     2       128   1   32  16  16  20041  20041   128  20081   3  244  222\n",
      "11     2    262144   1   32  16  16  20041  20041   128  20081   3  244  240\n",
      "12     2       128   1  128   1   1  20041  20041   128  20061   2  240   80\n",
      "13     2       128   1    2   1   1  20041  20041   128  20102   2  240  166\n",
      "14     2       128   1   32   1   1  20041  20041   128  20062   2  240   58\n",
      "15     2       512   2   64  16  16  20041  20041   128  20112   3  244  264\n",
      "16     2       128   1    2   1   1  20041  20072   128  20101   3  240  268\n",
      "17     2       128   1   32   1   1  20041  20081   128  20102   2  240  186\n",
      "18     2   8388608   1   32  16  16  20041  20041   128  20081   3  244  234\n",
      "19     2       128   1    2   2   2  20041  20041   128  20071   2  180   68\n",
      "20     2       128   1   32   2   2  20041  20041   128  20061   2  180   42\n",
      "21     2      4096   2    2   2   2  20041  20041   128  20102   3  180  182\n",
      "22     2       128   1   32   1   1  20041  20041   128  20052   2  240   14\n",
      "23     2       128   1   32   2   2  20041  20041   128  20072   2  180   32\n",
      "24     2       128   1   32   2   2  20041  20041   128  20062   2  180   44\n",
      "25     2       128   1   32   1   1  20041  20041   128  20082   2  240  116\n",
      "26     2      2048   1   32  64   8  20041  20041   128  20091   3  274  271\n",
      "27     2       128   1   32  64   8  20041  20041   128  20082   3  274  261\n",
      "28     2       128   1   32   1   1  20041  20041   128  20082   3  240  228\n",
      "29     2    524288   1   32  64   8  20041  20041   128  20082   3  274  245\n",
      "...   ..       ...  ..  ...  ..  ..    ...    ...   ...    ...  ..  ...  ...\n",
      "4970   2      2048   1   32   1   1  19961  19961  4096  19971   2  242   10\n",
      "4971   2  67108864   1   32   1   1  19961  19961  4096  20022   2  242  154\n",
      "4972   2     65536   1   32   1   1  19961  19961  4096  19981   2  242   26\n",
      "4973   2    524288   1   32   1   1  19961  19961  4096  19971   2  242    0\n",
      "4974   2       128   1   32   1   1  19962  19962  4096  20012   3  240  242\n",
      "4975   2       128   1   32   1   1  19962  19962  4096  20031   2  242  176\n",
      "4976   2      2048   1   32   1   1  19962  19962  4096  20011   3  242  244\n",
      "4977   2    524288   1   32   1   1  19962  19962  4096  20021   3  242  242\n",
      "4978   2       128   1   32   1   1  19962  19962  4096  20022   3  242  226\n",
      "4979   2   8388608   1   32   1   1  19962  19962  4096  20021   3  242  238\n",
      "4980   2       128   1   32   1   1  19962  19962  4096  20012   3  240  246\n",
      "4981   2      1024   1   32   1   1  19962  19962  4096  20022   3  242  232\n",
      "4982   2       128   1   32   1   1  19962  19962  4096  20002   3  242  216\n",
      "4983   2    131072   1   32   1   1  19962  19962  4096  20022   2  242  214\n",
      "4984   2       512   1   32   1   1  19962  19962  4096  20032   3  242  240\n",
      "4985   2      2048   1   32   1   1  19962  19962  4096  20021   3  242  228\n",
      "4986   2       128   1   32   1   1  19962  19962  4096  20012   3  242  242\n",
      "4987   2       128   1   32   1   1  19962  19962  4096  20021   3  242  300\n",
      "4988   2       128   1   32   1   1  19962  19962  4096  20042   3  242  234\n",
      "4989   2         0   1   32   1   1  19962  19962  4096  19971   2  242    8\n",
      "4990   2       128   1   32   1   1  19962  19962  4096  19972   2  242   12\n",
      "4991   2       256   1   32   1   1  19962  19962  4096  20011   3  242  238\n",
      "4992   2    524288   1   32   1   1  19962  19962  4096  20022   3  242  230\n",
      "4993   2   8388608   1   32   1   1  19962  19962  4096  20011   3  242  230\n",
      "4994   2       128   1   32   1   1  19962  19962  4096  20032   3  240  238\n",
      "4995   2   8388608   1   32   1   1  19962  19962  4096  20002   2  242   76\n",
      "4996   2         8   1   32   1   1  19962  19962  4096  19972   2  242   32\n",
      "4997   2         8   1   32   1   1  19961  19961  2048  20012   3  242  226\n",
      "4998   2       128   1   32   1   1  19961  19961  2048  19971   2  242   16\n",
      "4999   2    524288   1   32   1   1  19961  19961  2048  20002   3  242  224\n",
      "\n",
      "[5000 rows x 13 columns]\n"
     ]
    },
    {
     "data": {
      "image/png": "[encoded data removed]",
      "text/plain": [
       "<matplotlib.figure.Figure at 0x191597ca6d8>"
      ]
     },
     "metadata": {},
     "output_type": "display_data"
    }
   ],
   "source": [
    "import pandas as pd\n",
    "import matplotlib.pyplot as plt\n",
    "from pandas.tools.plotting import parallel_coordinates\n",
    "\n",
    "data = pd.DataFrame(andrews_matriz)\n",
    "#data = pandas.read_csv(r'C:\\Python27\\Lib\\site-packages\\pandas\\tests\\data\\iris.csv', sep=',')\n",
    "data2 = data[[0,1,2,3,4,5,6,7,8,9,10,11,12]]\n",
    "print(data2)\n",
    "parallel_coordinates(data2, 10,color=['r','g','b'])\n",
    "plt.xlabel(\"Each Component of X is Shown on its Own Vertical Axis\")\n",
    "plt.ylabel(\"Values\")\n",
    "plt.title(\"Finding the Optimal Value of X\")\n",
    "plt.show()"
   ]
  },
  {
   "cell_type": "markdown",
   "metadata": {},
   "source": [
    "# PCA"
   ]
  },
  {
   "cell_type": "code",
   "execution_count": 45,
   "metadata": {},
   "outputs": [
    {
     "data": {
      "image/png": "[encoded data removed]",
      "text/plain": [
       "<matplotlib.figure.Figure at 0x1915cd586a0>"
      ]
     },
     "metadata": {},
     "output_type": "display_data"
    }
   ],
   "source": [
    "import pandas as pd\n",
    "import seaborn as sns\n",
    "from pandas.tools.plotting import radviz\n",
    "# We'll also import seaborn, a Python graphing library\n",
    "import warnings # current version of seaborn generates a bunch of warnings that we'll ignore\n",
    "warnings.filterwarnings(\"ignore\")\n",
    "import seaborn as sns\n",
    "import matplotlib.pyplot as plt\n",
    "from sklearn.decomposition import PCA as sklearnPCA\n",
    "\n",
    "sns.set(style=\"white\", color_codes=True)\n",
    "\n",
    "# Next, we'll load the Iris flower dataset, which is in the \"../input/\" directory\n",
    "iris = pd.DataFrame(andrews_matriz)\n",
    "# iris = pd.read_csv(\"iris.csv\") # the iris dataset is now a Pandas DataFrame\n",
    "\n",
    "X_std = iris.ix[:,0:12].values\n",
    "y = iris.ix[:,10].values\n",
    "# Let's see how many examples we have of each species\n",
    "sklearn_pca = sklearnPCA(n_components=2)\n",
    "Y_sklearn = sklearn_pca.fit_transform(X_std)\n",
    "\n",
    "with plt.style.context('seaborn-whitegrid'):\n",
    "    plt.figure(figsize=(6, 4))\n",
    "    for lab, col in zip((1, 2, 3),\n",
    "                        ('blue', 'red', 'green')):\n",
    "        plt.scatter(Y_sklearn[y==lab, 0],\n",
    "                    Y_sklearn[y==lab, 1],\n",
    "                    label=lab,\n",
    "                    c=col)\n",
    "    plt.xlabel('Principal Component 1')\n",
    "    plt.ylabel('Principal Component 2')\n",
    "    plt.legend(loc='lower center')\n",
    "    plt.tight_layout()\n",
    "    plt.show()\n",
    "\n",
    "\n",
    "plt.show()"
   ]
  },
  {
   "cell_type": "markdown",
   "metadata": {},
   "source": [
    "https://xaoquadrado.wordpress.com/2014/06/24/1161/"
   ]
  },
  {
   "cell_type": "markdown",
   "metadata": {
    "collapsed": true
   },
   "source": [
    "# Calculando a matriz de covariância"
   ]
  },
  {
   "cell_type": "code",
   "execution_count": 46,
   "metadata": {
    "collapsed": true
   },
   "outputs": [],
   "source": [
    "data = pd.DataFrame(andrews_matriz)\n",
    "cov = data.cov()"
   ]
  },
  {
   "cell_type": "code",
   "execution_count": 47,
   "metadata": {},
   "outputs": [
    {
     "data": {
      "text/html": [
       "<div>\n",
       "<style>\n",
       "    .dataframe thead tr:only-child th {\n",
       "        text-align: right;\n",
       "    }\n",
       "\n",
       "    .dataframe thead th {\n",
       "        text-align: left;\n",
       "    }\n",
       "\n",
       "    .dataframe tbody tr th {\n",
       "        vertical-align: top;\n",
       "    }\n",
       "</style>\n",
       "<table border=\"1\" class=\"dataframe\">\n",
       "  <thead>\n",
       "    <tr style=\"text-align: right;\">\n",
       "      <th></th>\n",
       "      <th>0</th>\n",
       "      <th>1</th>\n",
       "      <th>2</th>\n",
       "      <th>3</th>\n",
       "      <th>4</th>\n",
       "      <th>5</th>\n",
       "      <th>6</th>\n",
       "      <th>7</th>\n",
       "      <th>8</th>\n",
       "      <th>9</th>\n",
       "      <th>10</th>\n",
       "      <th>11</th>\n",
       "      <th>12</th>\n",
       "    </tr>\n",
       "  </thead>\n",
       "  <tbody>\n",
       "    <tr>\n",
       "      <th>0</th>\n",
       "      <td>0.0</td>\n",
       "      <td>0.000000e+00</td>\n",
       "      <td>0.000000</td>\n",
       "      <td>0.000000e+00</td>\n",
       "      <td>0.000000e+00</td>\n",
       "      <td>0.000000e+00</td>\n",
       "      <td>0.000000e+00</td>\n",
       "      <td>0.000000e+00</td>\n",
       "      <td>0.000000e+00</td>\n",
       "      <td>0.000000e+00</td>\n",
       "      <td>0.000000</td>\n",
       "      <td>0.000000e+00</td>\n",
       "      <td>0.000000</td>\n",
       "    </tr>\n",
       "    <tr>\n",
       "      <th>1</th>\n",
       "      <td>0.0</td>\n",
       "      <td>2.357277e+14</td>\n",
       "      <td>-109416.651892</td>\n",
       "      <td>-2.365598e+07</td>\n",
       "      <td>-1.117732e+06</td>\n",
       "      <td>-7.058861e+06</td>\n",
       "      <td>-2.007828e+07</td>\n",
       "      <td>-1.980130e+07</td>\n",
       "      <td>-5.678128e+07</td>\n",
       "      <td>3.996111e+09</td>\n",
       "      <td>321508.828723</td>\n",
       "      <td>-2.706283e+06</td>\n",
       "      <td>884271.351161</td>\n",
       "    </tr>\n",
       "    <tr>\n",
       "      <th>2</th>\n",
       "      <td>0.0</td>\n",
       "      <td>-1.094167e+05</td>\n",
       "      <td>1.194989</td>\n",
       "      <td>5.660171e+00</td>\n",
       "      <td>1.575964e+00</td>\n",
       "      <td>1.618010e+00</td>\n",
       "      <td>3.020075e+01</td>\n",
       "      <td>3.014737e+01</td>\n",
       "      <td>-1.664388e+02</td>\n",
       "      <td>-2.836458e+03</td>\n",
       "      <td>-0.219188</td>\n",
       "      <td>-4.709480e-01</td>\n",
       "      <td>-15.675782</td>\n",
       "    </tr>\n",
       "    <tr>\n",
       "      <th>3</th>\n",
       "      <td>0.0</td>\n",
       "      <td>-2.365598e+07</td>\n",
       "      <td>5.660171</td>\n",
       "      <td>9.874749e+02</td>\n",
       "      <td>3.082097e+00</td>\n",
       "      <td>1.467056e+01</td>\n",
       "      <td>5.086277e+01</td>\n",
       "      <td>4.800260e+01</td>\n",
       "      <td>1.723500e+03</td>\n",
       "      <td>4.323907e+03</td>\n",
       "      <td>-0.318119</td>\n",
       "      <td>-3.387666e+01</td>\n",
       "      <td>-204.934913</td>\n",
       "    </tr>\n",
       "    <tr>\n",
       "      <th>4</th>\n",
       "      <td>0.0</td>\n",
       "      <td>-1.117732e+06</td>\n",
       "      <td>1.575964</td>\n",
       "      <td>3.082097e+00</td>\n",
       "      <td>5.185374e+02</td>\n",
       "      <td>9.254750e+01</td>\n",
       "      <td>1.753861e+02</td>\n",
       "      <td>1.717815e+02</td>\n",
       "      <td>-9.255964e+02</td>\n",
       "      <td>-2.570377e+04</td>\n",
       "      <td>-0.976991</td>\n",
       "      <td>4.330651e+02</td>\n",
       "      <td>304.358137</td>\n",
       "    </tr>\n",
       "    <tr>\n",
       "      <th>5</th>\n",
       "      <td>0.0</td>\n",
       "      <td>-7.058861e+06</td>\n",
       "      <td>1.618010</td>\n",
       "      <td>1.467056e+01</td>\n",
       "      <td>9.254750e+01</td>\n",
       "      <td>9.786527e+01</td>\n",
       "      <td>1.159367e+02</td>\n",
       "      <td>1.153509e+02</td>\n",
       "      <td>-7.876075e+02</td>\n",
       "      <td>-2.007896e+04</td>\n",
       "      <td>-1.114261</td>\n",
       "      <td>7.733101e+01</td>\n",
       "      <td>58.112979</td>\n",
       "    </tr>\n",
       "    <tr>\n",
       "      <th>6</th>\n",
       "      <td>0.0</td>\n",
       "      <td>-2.007828e+07</td>\n",
       "      <td>30.200754</td>\n",
       "      <td>5.086277e+01</td>\n",
       "      <td>1.753861e+02</td>\n",
       "      <td>1.159367e+02</td>\n",
       "      <td>2.852763e+03</td>\n",
       "      <td>2.844255e+03</td>\n",
       "      <td>-2.042939e+04</td>\n",
       "      <td>-2.704042e+05</td>\n",
       "      <td>-22.785331</td>\n",
       "      <td>-4.441594e+01</td>\n",
       "      <td>-1516.500718</td>\n",
       "    </tr>\n",
       "    <tr>\n",
       "      <th>7</th>\n",
       "      <td>0.0</td>\n",
       "      <td>-1.980130e+07</td>\n",
       "      <td>30.147371</td>\n",
       "      <td>4.800260e+01</td>\n",
       "      <td>1.717815e+02</td>\n",
       "      <td>1.153509e+02</td>\n",
       "      <td>2.844255e+03</td>\n",
       "      <td>2.857812e+03</td>\n",
       "      <td>-2.048086e+04</td>\n",
       "      <td>-2.708596e+05</td>\n",
       "      <td>-22.795094</td>\n",
       "      <td>-4.130900e+01</td>\n",
       "      <td>-1473.608947</td>\n",
       "    </tr>\n",
       "    <tr>\n",
       "      <th>8</th>\n",
       "      <td>0.0</td>\n",
       "      <td>-5.678128e+07</td>\n",
       "      <td>-166.438808</td>\n",
       "      <td>1.723500e+03</td>\n",
       "      <td>-9.255964e+02</td>\n",
       "      <td>-7.876075e+02</td>\n",
       "      <td>-2.042939e+04</td>\n",
       "      <td>-2.048086e+04</td>\n",
       "      <td>3.212383e+06</td>\n",
       "      <td>2.881220e+06</td>\n",
       "      <td>239.908410</td>\n",
       "      <td>-3.176774e+02</td>\n",
       "      <td>19937.888396</td>\n",
       "    </tr>\n",
       "    <tr>\n",
       "      <th>9</th>\n",
       "      <td>0.0</td>\n",
       "      <td>3.996111e+09</td>\n",
       "      <td>-2836.457876</td>\n",
       "      <td>4.323907e+03</td>\n",
       "      <td>-2.570377e+04</td>\n",
       "      <td>-2.007896e+04</td>\n",
       "      <td>-2.704042e+05</td>\n",
       "      <td>-2.708596e+05</td>\n",
       "      <td>2.881220e+06</td>\n",
       "      <td>9.183821e+07</td>\n",
       "      <td>6162.561918</td>\n",
       "      <td>-2.610065e+04</td>\n",
       "      <td>108772.433833</td>\n",
       "    </tr>\n",
       "    <tr>\n",
       "      <th>10</th>\n",
       "      <td>0.0</td>\n",
       "      <td>3.215088e+05</td>\n",
       "      <td>-0.219188</td>\n",
       "      <td>-3.181187e-01</td>\n",
       "      <td>-9.769908e-01</td>\n",
       "      <td>-1.114261e+00</td>\n",
       "      <td>-2.278533e+01</td>\n",
       "      <td>-2.279509e+01</td>\n",
       "      <td>2.399084e+02</td>\n",
       "      <td>6.162562e+03</td>\n",
       "      <td>0.561768</td>\n",
       "      <td>-3.274406e-01</td>\n",
       "      <td>30.708959</td>\n",
       "    </tr>\n",
       "    <tr>\n",
       "      <th>11</th>\n",
       "      <td>0.0</td>\n",
       "      <td>-2.706283e+06</td>\n",
       "      <td>-0.470948</td>\n",
       "      <td>-3.387666e+01</td>\n",
       "      <td>4.330651e+02</td>\n",
       "      <td>7.733101e+01</td>\n",
       "      <td>-4.441594e+01</td>\n",
       "      <td>-4.130900e+01</td>\n",
       "      <td>-3.176774e+02</td>\n",
       "      <td>-2.610065e+04</td>\n",
       "      <td>-0.327441</td>\n",
       "      <td>9.047257e+02</td>\n",
       "      <td>458.186139</td>\n",
       "    </tr>\n",
       "    <tr>\n",
       "      <th>12</th>\n",
       "      <td>0.0</td>\n",
       "      <td>8.842714e+05</td>\n",
       "      <td>-15.675782</td>\n",
       "      <td>-2.049349e+02</td>\n",
       "      <td>3.043581e+02</td>\n",
       "      <td>5.811298e+01</td>\n",
       "      <td>-1.516501e+03</td>\n",
       "      <td>-1.473609e+03</td>\n",
       "      <td>1.993789e+04</td>\n",
       "      <td>1.087724e+05</td>\n",
       "      <td>30.708959</td>\n",
       "      <td>4.581861e+02</td>\n",
       "      <td>7944.012949</td>\n",
       "    </tr>\n",
       "  </tbody>\n",
       "</table>\n",
       "</div>"
      ],
      "text/plain": [
       "     0             1              2             3             4   \\\n",
       "0   0.0  0.000000e+00       0.000000  0.000000e+00  0.000000e+00   \n",
       "1   0.0  2.357277e+14 -109416.651892 -2.365598e+07 -1.117732e+06   \n",
       "2   0.0 -1.094167e+05       1.194989  5.660171e+00  1.575964e+00   \n",
       "3   0.0 -2.365598e+07       5.660171  9.874749e+02  3.082097e+00   \n",
       "4   0.0 -1.117732e+06       1.575964  3.082097e+00  5.185374e+02   \n",
       "5   0.0 -7.058861e+06       1.618010  1.467056e+01  9.254750e+01   \n",
       "6   0.0 -2.007828e+07      30.200754  5.086277e+01  1.753861e+02   \n",
       "7   0.0 -1.980130e+07      30.147371  4.800260e+01  1.717815e+02   \n",
       "8   0.0 -5.678128e+07    -166.438808  1.723500e+03 -9.255964e+02   \n",
       "9   0.0  3.996111e+09   -2836.457876  4.323907e+03 -2.570377e+04   \n",
       "10  0.0  3.215088e+05      -0.219188 -3.181187e-01 -9.769908e-01   \n",
       "11  0.0 -2.706283e+06      -0.470948 -3.387666e+01  4.330651e+02   \n",
       "12  0.0  8.842714e+05     -15.675782 -2.049349e+02  3.043581e+02   \n",
       "\n",
       "              5             6             7             8             9   \\\n",
       "0   0.000000e+00  0.000000e+00  0.000000e+00  0.000000e+00  0.000000e+00   \n",
       "1  -7.058861e+06 -2.007828e+07 -1.980130e+07 -5.678128e+07  3.996111e+09   \n",
       "2   1.618010e+00  3.020075e+01  3.014737e+01 -1.664388e+02 -2.836458e+03   \n",
       "3   1.467056e+01  5.086277e+01  4.800260e+01  1.723500e+03  4.323907e+03   \n",
       "4   9.254750e+01  1.753861e+02  1.717815e+02 -9.255964e+02 -2.570377e+04   \n",
       "5   9.786527e+01  1.159367e+02  1.153509e+02 -7.876075e+02 -2.007896e+04   \n",
       "6   1.159367e+02  2.852763e+03  2.844255e+03 -2.042939e+04 -2.704042e+05   \n",
       "7   1.153509e+02  2.844255e+03  2.857812e+03 -2.048086e+04 -2.708596e+05   \n",
       "8  -7.876075e+02 -2.042939e+04 -2.048086e+04  3.212383e+06  2.881220e+06   \n",
       "9  -2.007896e+04 -2.704042e+05 -2.708596e+05  2.881220e+06  9.183821e+07   \n",
       "10 -1.114261e+00 -2.278533e+01 -2.279509e+01  2.399084e+02  6.162562e+03   \n",
       "11  7.733101e+01 -4.441594e+01 -4.130900e+01 -3.176774e+02 -2.610065e+04   \n",
       "12  5.811298e+01 -1.516501e+03 -1.473609e+03  1.993789e+04  1.087724e+05   \n",
       "\n",
       "               10            11             12  \n",
       "0        0.000000  0.000000e+00       0.000000  \n",
       "1   321508.828723 -2.706283e+06  884271.351161  \n",
       "2       -0.219188 -4.709480e-01     -15.675782  \n",
       "3       -0.318119 -3.387666e+01    -204.934913  \n",
       "4       -0.976991  4.330651e+02     304.358137  \n",
       "5       -1.114261  7.733101e+01      58.112979  \n",
       "6      -22.785331 -4.441594e+01   -1516.500718  \n",
       "7      -22.795094 -4.130900e+01   -1473.608947  \n",
       "8      239.908410 -3.176774e+02   19937.888396  \n",
       "9     6162.561918 -2.610065e+04  108772.433833  \n",
       "10       0.561768 -3.274406e-01      30.708959  \n",
       "11      -0.327441  9.047257e+02     458.186139  \n",
       "12      30.708959  4.581861e+02    7944.012949  "
      ]
     },
     "execution_count": 47,
     "metadata": {},
     "output_type": "execute_result"
    }
   ],
   "source": [
    "cov"
   ]
  },
  {
   "cell_type": "code",
   "execution_count": 48,
   "metadata": {
    "collapsed": true
   },
   "outputs": [],
   "source": [
    "# plt.imshow(cov, cmap='hot', interpolation='none')  \n",
    "# plt.colorbar()  \n",
    "# plt.xticks(range(len(cov)), cov.columns)  \n",
    "# plt.yticks(range(len(cov)), cov.columns);  \n",
    "# # plt.savefig(\"correl.png\")  \n",
    "# plt.show()  "
   ]
  },
  {
   "cell_type": "code",
   "execution_count": 49,
   "metadata": {},
   "outputs": [
    {
     "data": {
      "text/html": [
       "<div>\n",
       "<style>\n",
       "    .dataframe thead tr:only-child th {\n",
       "        text-align: right;\n",
       "    }\n",
       "\n",
       "    .dataframe thead th {\n",
       "        text-align: left;\n",
       "    }\n",
       "\n",
       "    .dataframe tbody tr th {\n",
       "        vertical-align: top;\n",
       "    }\n",
       "</style>\n",
       "<table border=\"1\" class=\"dataframe\">\n",
       "  <thead>\n",
       "    <tr style=\"text-align: right;\">\n",
       "      <th></th>\n",
       "      <th>0</th>\n",
       "      <th>1</th>\n",
       "      <th>2</th>\n",
       "      <th>3</th>\n",
       "      <th>4</th>\n",
       "      <th>5</th>\n",
       "      <th>6</th>\n",
       "      <th>7</th>\n",
       "      <th>8</th>\n",
       "      <th>9</th>\n",
       "      <th>10</th>\n",
       "      <th>11</th>\n",
       "      <th>12</th>\n",
       "    </tr>\n",
       "  </thead>\n",
       "  <tbody>\n",
       "    <tr>\n",
       "      <th>0</th>\n",
       "      <td>NaN</td>\n",
       "      <td>NaN</td>\n",
       "      <td>NaN</td>\n",
       "      <td>NaN</td>\n",
       "      <td>NaN</td>\n",
       "      <td>NaN</td>\n",
       "      <td>NaN</td>\n",
       "      <td>NaN</td>\n",
       "      <td>NaN</td>\n",
       "      <td>NaN</td>\n",
       "      <td>NaN</td>\n",
       "      <td>NaN</td>\n",
       "      <td>NaN</td>\n",
       "    </tr>\n",
       "    <tr>\n",
       "      <th>1</th>\n",
       "      <td>NaN</td>\n",
       "      <td>1.000000</td>\n",
       "      <td>-0.006519</td>\n",
       "      <td>-0.049031</td>\n",
       "      <td>-0.003197</td>\n",
       "      <td>-0.046475</td>\n",
       "      <td>-0.024484</td>\n",
       "      <td>-0.024125</td>\n",
       "      <td>-0.002063</td>\n",
       "      <td>0.027159</td>\n",
       "      <td>0.027939</td>\n",
       "      <td>-0.005860</td>\n",
       "      <td>0.000646</td>\n",
       "    </tr>\n",
       "    <tr>\n",
       "      <th>2</th>\n",
       "      <td>NaN</td>\n",
       "      <td>-0.006519</td>\n",
       "      <td>1.000000</td>\n",
       "      <td>0.164772</td>\n",
       "      <td>0.063310</td>\n",
       "      <td>0.149618</td>\n",
       "      <td>0.517253</td>\n",
       "      <td>0.515882</td>\n",
       "      <td>-0.084949</td>\n",
       "      <td>-0.270759</td>\n",
       "      <td>-0.267520</td>\n",
       "      <td>-0.014323</td>\n",
       "      <td>-0.160889</td>\n",
       "    </tr>\n",
       "    <tr>\n",
       "      <th>3</th>\n",
       "      <td>NaN</td>\n",
       "      <td>-0.049031</td>\n",
       "      <td>0.164772</td>\n",
       "      <td>1.000000</td>\n",
       "      <td>0.004307</td>\n",
       "      <td>0.047192</td>\n",
       "      <td>0.030304</td>\n",
       "      <td>0.028575</td>\n",
       "      <td>0.030601</td>\n",
       "      <td>0.014358</td>\n",
       "      <td>-0.013507</td>\n",
       "      <td>-0.035841</td>\n",
       "      <td>-0.073170</td>\n",
       "    </tr>\n",
       "    <tr>\n",
       "      <th>4</th>\n",
       "      <td>NaN</td>\n",
       "      <td>-0.003197</td>\n",
       "      <td>0.063310</td>\n",
       "      <td>0.004307</td>\n",
       "      <td>1.000000</td>\n",
       "      <td>0.410828</td>\n",
       "      <td>0.144202</td>\n",
       "      <td>0.141114</td>\n",
       "      <td>-0.022679</td>\n",
       "      <td>-0.117786</td>\n",
       "      <td>-0.057243</td>\n",
       "      <td>0.632273</td>\n",
       "      <td>0.149960</td>\n",
       "    </tr>\n",
       "    <tr>\n",
       "      <th>5</th>\n",
       "      <td>NaN</td>\n",
       "      <td>-0.046475</td>\n",
       "      <td>0.149618</td>\n",
       "      <td>0.047192</td>\n",
       "      <td>0.410828</td>\n",
       "      <td>1.000000</td>\n",
       "      <td>0.219419</td>\n",
       "      <td>0.218117</td>\n",
       "      <td>-0.044420</td>\n",
       "      <td>-0.211795</td>\n",
       "      <td>-0.150278</td>\n",
       "      <td>0.259885</td>\n",
       "      <td>0.065908</td>\n",
       "    </tr>\n",
       "    <tr>\n",
       "      <th>6</th>\n",
       "      <td>NaN</td>\n",
       "      <td>-0.024484</td>\n",
       "      <td>0.517253</td>\n",
       "      <td>0.030304</td>\n",
       "      <td>0.144202</td>\n",
       "      <td>0.219419</td>\n",
       "      <td>1.000000</td>\n",
       "      <td>0.996136</td>\n",
       "      <td>-0.213407</td>\n",
       "      <td>-0.528286</td>\n",
       "      <td>-0.569173</td>\n",
       "      <td>-0.027647</td>\n",
       "      <td>-0.318559</td>\n",
       "    </tr>\n",
       "    <tr>\n",
       "      <th>7</th>\n",
       "      <td>NaN</td>\n",
       "      <td>-0.024125</td>\n",
       "      <td>0.515882</td>\n",
       "      <td>0.028575</td>\n",
       "      <td>0.141114</td>\n",
       "      <td>0.218117</td>\n",
       "      <td>0.996136</td>\n",
       "      <td>1.000000</td>\n",
       "      <td>-0.213756</td>\n",
       "      <td>-0.528708</td>\n",
       "      <td>-0.568913</td>\n",
       "      <td>-0.025690</td>\n",
       "      <td>-0.309275</td>\n",
       "    </tr>\n",
       "    <tr>\n",
       "      <th>8</th>\n",
       "      <td>NaN</td>\n",
       "      <td>-0.002063</td>\n",
       "      <td>-0.084949</td>\n",
       "      <td>0.030601</td>\n",
       "      <td>-0.022679</td>\n",
       "      <td>-0.044420</td>\n",
       "      <td>-0.213407</td>\n",
       "      <td>-0.213756</td>\n",
       "      <td>1.000000</td>\n",
       "      <td>0.167746</td>\n",
       "      <td>0.178588</td>\n",
       "      <td>-0.005893</td>\n",
       "      <td>0.124809</td>\n",
       "    </tr>\n",
       "    <tr>\n",
       "      <th>9</th>\n",
       "      <td>NaN</td>\n",
       "      <td>0.027159</td>\n",
       "      <td>-0.270759</td>\n",
       "      <td>0.014358</td>\n",
       "      <td>-0.117786</td>\n",
       "      <td>-0.211795</td>\n",
       "      <td>-0.528286</td>\n",
       "      <td>-0.528708</td>\n",
       "      <td>0.167746</td>\n",
       "      <td>1.000000</td>\n",
       "      <td>0.857968</td>\n",
       "      <td>-0.090548</td>\n",
       "      <td>0.127347</td>\n",
       "    </tr>\n",
       "    <tr>\n",
       "      <th>10</th>\n",
       "      <td>NaN</td>\n",
       "      <td>0.027939</td>\n",
       "      <td>-0.267520</td>\n",
       "      <td>-0.013507</td>\n",
       "      <td>-0.057243</td>\n",
       "      <td>-0.150278</td>\n",
       "      <td>-0.569173</td>\n",
       "      <td>-0.568913</td>\n",
       "      <td>0.178588</td>\n",
       "      <td>0.857968</td>\n",
       "      <td>1.000000</td>\n",
       "      <td>-0.014524</td>\n",
       "      <td>0.459692</td>\n",
       "    </tr>\n",
       "    <tr>\n",
       "      <th>11</th>\n",
       "      <td>NaN</td>\n",
       "      <td>-0.005860</td>\n",
       "      <td>-0.014323</td>\n",
       "      <td>-0.035841</td>\n",
       "      <td>0.632273</td>\n",
       "      <td>0.259885</td>\n",
       "      <td>-0.027647</td>\n",
       "      <td>-0.025690</td>\n",
       "      <td>-0.005893</td>\n",
       "      <td>-0.090548</td>\n",
       "      <td>-0.014524</td>\n",
       "      <td>1.000000</td>\n",
       "      <td>0.170908</td>\n",
       "    </tr>\n",
       "    <tr>\n",
       "      <th>12</th>\n",
       "      <td>NaN</td>\n",
       "      <td>0.000646</td>\n",
       "      <td>-0.160889</td>\n",
       "      <td>-0.073170</td>\n",
       "      <td>0.149960</td>\n",
       "      <td>0.065908</td>\n",
       "      <td>-0.318559</td>\n",
       "      <td>-0.309275</td>\n",
       "      <td>0.124809</td>\n",
       "      <td>0.127347</td>\n",
       "      <td>0.459692</td>\n",
       "      <td>0.170908</td>\n",
       "      <td>1.000000</td>\n",
       "    </tr>\n",
       "  </tbody>\n",
       "</table>\n",
       "</div>"
      ],
      "text/plain": [
       "    0         1         2         3         4         5         6         7   \\\n",
       "0  NaN       NaN       NaN       NaN       NaN       NaN       NaN       NaN   \n",
       "1  NaN  1.000000 -0.006519 -0.049031 -0.003197 -0.046475 -0.024484 -0.024125   \n",
       "2  NaN -0.006519  1.000000  0.164772  0.063310  0.149618  0.517253  0.515882   \n",
       "3  NaN -0.049031  0.164772  1.000000  0.004307  0.047192  0.030304  0.028575   \n",
       "4  NaN -0.003197  0.063310  0.004307  1.000000  0.410828  0.144202  0.141114   \n",
       "5  NaN -0.046475  0.149618  0.047192  0.410828  1.000000  0.219419  0.218117   \n",
       "6  NaN -0.024484  0.517253  0.030304  0.144202  0.219419  1.000000  0.996136   \n",
       "7  NaN -0.024125  0.515882  0.028575  0.141114  0.218117  0.996136  1.000000   \n",
       "8  NaN -0.002063 -0.084949  0.030601 -0.022679 -0.044420 -0.213407 -0.213756   \n",
       "9  NaN  0.027159 -0.270759  0.014358 -0.117786 -0.211795 -0.528286 -0.528708   \n",
       "10 NaN  0.027939 -0.267520 -0.013507 -0.057243 -0.150278 -0.569173 -0.568913   \n",
       "11 NaN -0.005860 -0.014323 -0.035841  0.632273  0.259885 -0.027647 -0.025690   \n",
       "12 NaN  0.000646 -0.160889 -0.073170  0.149960  0.065908 -0.318559 -0.309275   \n",
       "\n",
       "          8         9         10        11        12  \n",
       "0        NaN       NaN       NaN       NaN       NaN  \n",
       "1  -0.002063  0.027159  0.027939 -0.005860  0.000646  \n",
       "2  -0.084949 -0.270759 -0.267520 -0.014323 -0.160889  \n",
       "3   0.030601  0.014358 -0.013507 -0.035841 -0.073170  \n",
       "4  -0.022679 -0.117786 -0.057243  0.632273  0.149960  \n",
       "5  -0.044420 -0.211795 -0.150278  0.259885  0.065908  \n",
       "6  -0.213407 -0.528286 -0.569173 -0.027647 -0.318559  \n",
       "7  -0.213756 -0.528708 -0.568913 -0.025690 -0.309275  \n",
       "8   1.000000  0.167746  0.178588 -0.005893  0.124809  \n",
       "9   0.167746  1.000000  0.857968 -0.090548  0.127347  \n",
       "10  0.178588  0.857968  1.000000 -0.014524  0.459692  \n",
       "11 -0.005893 -0.090548 -0.014524  1.000000  0.170908  \n",
       "12  0.124809  0.127347  0.459692  0.170908  1.000000  "
      ]
     },
     "execution_count": 49,
     "metadata": {},
     "output_type": "execute_result"
    }
   ],
   "source": [
    "corr = data.corr()\n",
    "corr"
   ]
  },
  {
   "cell_type": "code",
   "execution_count": 50,
   "metadata": {},
   "outputs": [
    {
     "data": {
      "image/png": "[encoded data removed]",
      "text/plain": [
       "<matplotlib.figure.Figure at 0x19159fa9fd0>"
      ]
     },
     "metadata": {},
     "output_type": "display_data"
    }
   ],
   "source": [
    "plt.imshow(corr, cmap='hot', interpolation='none')  \n",
    "plt.colorbar()  \n",
    "plt.xticks(range(len(corr)), corr.columns)  \n",
    "plt.yticks(range(len(corr)), corr.columns);  \n",
    "# plt.savefig(\"correl.png\")  \n",
    "plt.show()  "
   ]
  },
  {
   "cell_type": "markdown",
   "metadata": {},
   "source": [
    "# Autovalores e Autovetores"
   ]
  },
  {
   "cell_type": "markdown",
   "metadata": {},
   "source": [
    "autovalores da matriz de covariância representam a variância que será observada quando os dados originais forem projetados no eixo dado pelo autovetor correspondente. Um determinado autovalor informa a “variância explicada” (Explained Variance) pelo seu componente principal (autovetor) correspondente."
   ]
  },
  {
   "cell_type": "code",
   "execution_count": 51,
   "metadata": {
    "collapsed": true
   },
   "outputs": [],
   "source": [
    "w,v=la.eig(cov)"
   ]
  },
  {
   "cell_type": "markdown",
   "metadata": {},
   "source": [
    "autovalor"
   ]
  },
  {
   "cell_type": "code",
   "execution_count": 52,
   "metadata": {},
   "outputs": [
    {
     "data": {
      "text/plain": [
       "array([  2.35727705e+14,   9.18659163e+07,   3.11884019e+06,\n",
       "         8.35803488e+03,   3.46136034e+03,   1.12597715e+03,\n",
       "         9.76824737e+02,   2.28909151e+02,   7.46882942e+01,\n",
       "         1.08182957e+01,   7.63077514e-02,   8.45779199e-01,\n",
       "         0.00000000e+00])"
      ]
     },
     "execution_count": 52,
     "metadata": {},
     "output_type": "execute_result"
    }
   ],
   "source": [
    "w"
   ]
  },
  {
   "cell_type": "markdown",
   "metadata": {},
   "source": [
    "autovetor"
   ]
  },
  {
   "cell_type": "code",
   "execution_count": 53,
   "metadata": {},
   "outputs": [
    {
     "data": {
      "text/plain": [
       "array([[  0.00000000e+00,   0.00000000e+00,   0.00000000e+00,\n",
       "          0.00000000e+00,   0.00000000e+00,   0.00000000e+00,\n",
       "          0.00000000e+00,   0.00000000e+00,   0.00000000e+00,\n",
       "          0.00000000e+00,   0.00000000e+00,   0.00000000e+00,\n",
       "          1.00000000e+00],\n",
       "       [  1.00000000e+00,  -1.69358101e-05,  -7.91469004e-07,\n",
       "          9.29243479e-09,   5.56100454e-08,   1.14176760e-09,\n",
       "         -1.00585874e-07,   5.23023593e-09,   2.36081517e-08,\n",
       "          9.59899794e-10,   2.56567421e-10,  -1.10680109e-09,\n",
       "          0.00000000e+00],\n",
       "       [ -4.64165635e-10,  -3.09003074e-05,   2.38838901e-05,\n",
       "          2.60276990e-03,   7.11809816e-03,  -5.09451097e-04,\n",
       "         -5.07079289e-03,   1.76639650e-03,   4.90562973e-03,\n",
       "          5.50869957e-03,   2.45740757e-02,   9.99627517e-01,\n",
       "          0.00000000e+00],\n",
       "       [ -1.00352971e-07,   5.20077753e-05,  -5.00900816e-04,\n",
       "          3.24596244e-02,   6.48589303e-03,  -3.81635804e-02,\n",
       "         -9.98177488e-01,   2.91944242e-02,  -1.44674991e-02,\n",
       "         -8.70744307e-04,  -8.39741760e-05,  -5.18730058e-03,\n",
       "          0.00000000e+00],\n",
       "       [ -4.74162533e-09,  -2.79777833e-04,   2.87458634e-05,\n",
       "         -3.79546114e-02,   8.55168515e-02,   5.30523078e-01,\n",
       "         -4.17925350e-02,  -8.15250782e-01,  -2.07764974e-01,\n",
       "         -1.54891903e-02,  -6.30680124e-04,   2.10928982e-03,\n",
       "          0.00000000e+00],\n",
       "       [ -2.99449786e-08,  -2.17435310e-04,   4.49794692e-05,\n",
       "         -7.07539336e-03,   3.27573735e-02,   9.17131050e-02,\n",
       "         -2.30611002e-02,  -1.84463955e-01,   9.77684172e-01,\n",
       "         -4.19068289e-03,   5.80778968e-04,  -4.74824823e-03,\n",
       "          0.00000000e+00],\n",
       "       [ -8.51757543e-08,  -2.94561170e-03,   3.74145872e-03,\n",
       "          2.43248404e-01,   6.60358781e-01,  -2.08744811e-02,\n",
       "          1.35057927e-02,   3.24556789e-02,  -8.97384254e-03,\n",
       "          7.09136623e-01,   4.50997737e-03,  -9.30976367e-03,\n",
       "          0.00000000e+00],\n",
       "       [ -8.40007387e-08,  -2.95063506e-03,   3.75306515e-03,\n",
       "          2.38396877e-01,   6.64924037e-01,  -2.42720800e-02,\n",
       "          1.54622321e-02,   5.80004024e-02,  -9.99327810e-03,\n",
       "         -7.04767986e-01,  -5.32506400e-03,  -1.32854806e-03,\n",
       "          0.00000000e+00],\n",
       "       [ -2.40876375e-07,   3.24947820e-02,  -9.99442906e-01,\n",
       "          6.81275364e-03,   3.30552847e-03,   2.58749823e-04,\n",
       "          7.39640759e-04,   1.12431090e-04,   6.00625906e-06,\n",
       "         -1.86428595e-05,  -3.25580814e-06,  -1.25540824e-05,\n",
       "          0.00000000e+00],\n",
       "       [  1.69522417e-05,   9.99462393e-01,   3.25225320e-02,\n",
       "          2.28052045e-03,   3.43734443e-03,   3.83243155e-04,\n",
       "          1.19676881e-04,   1.26959786e-04,   1.12902902e-04,\n",
       "          1.00502112e-06,   6.20094135e-05,  -1.80215617e-06,\n",
       "          0.00000000e+00],\n",
       "       [  1.36389965e-09,   6.70735291e-05,  -1.28059414e-05,\n",
       "         -2.86878496e-03,   5.72948327e-04,  -4.03352938e-04,\n",
       "         -1.23030846e-04,   4.30278102e-04,   8.19648554e-04,\n",
       "          7.11180424e-03,  -9.99668907e-01,   2.45336458e-02,\n",
       "          0.00000000e+00],\n",
       "       [ -1.14805494e-08,  -2.83573130e-04,  -1.70600331e-04,\n",
       "         -7.10249294e-02,   1.78507681e-02,   8.35432271e-01,\n",
       "         -1.85613428e-02,   5.43841095e-01,   2.27209075e-02,\n",
       "          8.07188517e-03,   1.71411265e-04,  -7.31760054e-04,\n",
       "          0.00000000e+00],\n",
       "       [  3.75124831e-09,   1.19048393e-03,  -5.27214500e-03,\n",
       "         -9.36131264e-01,   3.36127467e-01,  -9.85135383e-02,\n",
       "         -2.38950313e-02,   1.74071445e-02,  -6.05657129e-03,\n",
       "          4.79809240e-03,   2.95301428e-03,  -2.27365094e-04,\n",
       "          0.00000000e+00]])"
      ]
     },
     "execution_count": 53,
     "metadata": {},
     "output_type": "execute_result"
    }
   ],
   "source": [
    "v"
   ]
  },
  {
   "cell_type": "markdown",
   "metadata": {},
   "source": [
    "# Ordenação dos autovalores e seus autovetores correspondentes em ordem decrescente."
   ]
  },
  {
   "cell_type": "code",
   "execution_count": 54,
   "metadata": {
    "collapsed": true
   },
   "outputs": [],
   "source": [
    "ind=np.argsort(w)[::-1]\n",
    "w_dec=w[ind]\n",
    "v_dec=v[ind]"
   ]
  },
  {
   "cell_type": "code",
   "execution_count": 55,
   "metadata": {},
   "outputs": [
    {
     "data": {
      "text/plain": [
       "array([  2.35727705e+14,   9.18659163e+07,   3.11884019e+06,\n",
       "         8.35803488e+03,   3.46136034e+03,   1.12597715e+03,\n",
       "         9.76824737e+02,   2.28909151e+02,   7.46882942e+01,\n",
       "         1.08182957e+01,   8.45779199e-01,   7.63077514e-02,\n",
       "         0.00000000e+00])"
      ]
     },
     "execution_count": 55,
     "metadata": {},
     "output_type": "execute_result"
    }
   ],
   "source": [
    "w_dec"
   ]
  },
  {
   "cell_type": "code",
   "execution_count": 56,
   "metadata": {},
   "outputs": [
    {
     "data": {
      "text/plain": [
       "array([[  0.00000000e+00,   0.00000000e+00,   0.00000000e+00,\n",
       "          0.00000000e+00,   0.00000000e+00,   0.00000000e+00,\n",
       "          0.00000000e+00,   0.00000000e+00,   0.00000000e+00,\n",
       "          0.00000000e+00,   0.00000000e+00,   0.00000000e+00,\n",
       "          1.00000000e+00],\n",
       "       [  1.00000000e+00,  -1.69358101e-05,  -7.91469004e-07,\n",
       "          9.29243479e-09,   5.56100454e-08,   1.14176760e-09,\n",
       "         -1.00585874e-07,   5.23023593e-09,   2.36081517e-08,\n",
       "          9.59899794e-10,   2.56567421e-10,  -1.10680109e-09,\n",
       "          0.00000000e+00],\n",
       "       [ -4.64165635e-10,  -3.09003074e-05,   2.38838901e-05,\n",
       "          2.60276990e-03,   7.11809816e-03,  -5.09451097e-04,\n",
       "         -5.07079289e-03,   1.76639650e-03,   4.90562973e-03,\n",
       "          5.50869957e-03,   2.45740757e-02,   9.99627517e-01,\n",
       "          0.00000000e+00],\n",
       "       [ -1.00352971e-07,   5.20077753e-05,  -5.00900816e-04,\n",
       "          3.24596244e-02,   6.48589303e-03,  -3.81635804e-02,\n",
       "         -9.98177488e-01,   2.91944242e-02,  -1.44674991e-02,\n",
       "         -8.70744307e-04,  -8.39741760e-05,  -5.18730058e-03,\n",
       "          0.00000000e+00],\n",
       "       [ -4.74162533e-09,  -2.79777833e-04,   2.87458634e-05,\n",
       "         -3.79546114e-02,   8.55168515e-02,   5.30523078e-01,\n",
       "         -4.17925350e-02,  -8.15250782e-01,  -2.07764974e-01,\n",
       "         -1.54891903e-02,  -6.30680124e-04,   2.10928982e-03,\n",
       "          0.00000000e+00],\n",
       "       [ -2.99449786e-08,  -2.17435310e-04,   4.49794692e-05,\n",
       "         -7.07539336e-03,   3.27573735e-02,   9.17131050e-02,\n",
       "         -2.30611002e-02,  -1.84463955e-01,   9.77684172e-01,\n",
       "         -4.19068289e-03,   5.80778968e-04,  -4.74824823e-03,\n",
       "          0.00000000e+00],\n",
       "       [ -8.51757543e-08,  -2.94561170e-03,   3.74145872e-03,\n",
       "          2.43248404e-01,   6.60358781e-01,  -2.08744811e-02,\n",
       "          1.35057927e-02,   3.24556789e-02,  -8.97384254e-03,\n",
       "          7.09136623e-01,   4.50997737e-03,  -9.30976367e-03,\n",
       "          0.00000000e+00],\n",
       "       [ -8.40007387e-08,  -2.95063506e-03,   3.75306515e-03,\n",
       "          2.38396877e-01,   6.64924037e-01,  -2.42720800e-02,\n",
       "          1.54622321e-02,   5.80004024e-02,  -9.99327810e-03,\n",
       "         -7.04767986e-01,  -5.32506400e-03,  -1.32854806e-03,\n",
       "          0.00000000e+00],\n",
       "       [ -2.40876375e-07,   3.24947820e-02,  -9.99442906e-01,\n",
       "          6.81275364e-03,   3.30552847e-03,   2.58749823e-04,\n",
       "          7.39640759e-04,   1.12431090e-04,   6.00625906e-06,\n",
       "         -1.86428595e-05,  -3.25580814e-06,  -1.25540824e-05,\n",
       "          0.00000000e+00],\n",
       "       [  1.69522417e-05,   9.99462393e-01,   3.25225320e-02,\n",
       "          2.28052045e-03,   3.43734443e-03,   3.83243155e-04,\n",
       "          1.19676881e-04,   1.26959786e-04,   1.12902902e-04,\n",
       "          1.00502112e-06,   6.20094135e-05,  -1.80215617e-06,\n",
       "          0.00000000e+00],\n",
       "       [ -1.14805494e-08,  -2.83573130e-04,  -1.70600331e-04,\n",
       "         -7.10249294e-02,   1.78507681e-02,   8.35432271e-01,\n",
       "         -1.85613428e-02,   5.43841095e-01,   2.27209075e-02,\n",
       "          8.07188517e-03,   1.71411265e-04,  -7.31760054e-04,\n",
       "          0.00000000e+00],\n",
       "       [  1.36389965e-09,   6.70735291e-05,  -1.28059414e-05,\n",
       "         -2.86878496e-03,   5.72948327e-04,  -4.03352938e-04,\n",
       "         -1.23030846e-04,   4.30278102e-04,   8.19648554e-04,\n",
       "          7.11180424e-03,  -9.99668907e-01,   2.45336458e-02,\n",
       "          0.00000000e+00],\n",
       "       [  3.75124831e-09,   1.19048393e-03,  -5.27214500e-03,\n",
       "         -9.36131264e-01,   3.36127467e-01,  -9.85135383e-02,\n",
       "         -2.38950313e-02,   1.74071445e-02,  -6.05657129e-03,\n",
       "          4.79809240e-03,   2.95301428e-03,  -2.27365094e-04,\n",
       "          0.00000000e+00]])"
      ]
     },
     "execution_count": 56,
     "metadata": {},
     "output_type": "execute_result"
    }
   ],
   "source": [
    "v_dec"
   ]
  },
  {
   "cell_type": "code",
   "execution_count": 57,
   "metadata": {},
   "outputs": [
    {
     "data": {
      "text/plain": [
       "1.0"
      ]
     },
     "execution_count": 57,
     "metadata": {},
     "output_type": "execute_result"
    }
   ],
   "source": [
    "la.norm(v[0])"
   ]
  },
  {
   "cell_type": "code",
   "execution_count": 58,
   "metadata": {},
   "outputs": [
    {
     "data": {
      "text/plain": [
       "0.99999999999999989"
      ]
     },
     "execution_count": 58,
     "metadata": {},
     "output_type": "execute_result"
    }
   ],
   "source": [
    "la.norm(v[1])"
   ]
  },
  {
   "cell_type": "code",
   "execution_count": 59,
   "metadata": {},
   "outputs": [
    {
     "data": {
      "text/plain": [
       "0.0"
      ]
     },
     "execution_count": 59,
     "metadata": {},
     "output_type": "execute_result"
    }
   ],
   "source": [
    "np.dot(v[0],v[1])"
   ]
  },
  {
   "cell_type": "markdown",
   "metadata": {},
   "source": [
    "taxa de variância explicada "
   ]
  },
  {
   "cell_type": "code",
   "execution_count": 60,
   "metadata": {},
   "outputs": [
    {
     "data": {
      "text/plain": [
       "array([  9.99999597e-01,   3.89711847e-07,   1.32306847e-08,\n",
       "         3.54562970e-11,   1.46837172e-11,   4.77659891e-12,\n",
       "         4.14386737e-12,   9.71074057e-13,   3.16841265e-13,\n",
       "         4.58931690e-14,   3.23711296e-16,   3.58794847e-15,\n",
       "         0.00000000e+00])"
      ]
     },
     "execution_count": 60,
     "metadata": {},
     "output_type": "execute_result"
    }
   ],
   "source": [
    "EVR=w/np.sum(w)\n",
    "EVR"
   ]
  },
  {
   "cell_type": "code",
   "execution_count": null,
   "metadata": {
    "collapsed": true
   },
   "outputs": [],
   "source": []
  },
  {
   "cell_type": "code",
   "execution_count": null,
   "metadata": {
    "collapsed": true
   },
   "outputs": [],
   "source": []
  }
 ],
 "metadata": {
  "kernelspec": {
   "display_name": "Python 3",
   "language": "python",
   "name": "python3"
  },
  "language_info": {
   "codemirror_mode": {
    "name": "ipython",
    "version": 3
   },
   "file_extension": ".py",
   "mimetype": "text/x-python",
   "name": "python",
   "nbconvert_exporter": "python",
   "pygments_lexer": "ipython3",
   "version": "3.6.1"
  }
 },
 "nbformat": 4,
 "nbformat_minor": 2
}
