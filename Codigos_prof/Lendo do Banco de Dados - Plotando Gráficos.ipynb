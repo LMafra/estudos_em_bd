{
 "cells": [
  {
   "cell_type": "markdown",
   "metadata": {},
   "source": [
    "# Lendo do Banco de dados\n",
    "\n",
    "- Lucas Mafra - 12/0126443\n",
    "- Luíza Aguiar Hansen - 140026711"
   ]
  },
  {
   "cell_type": "code",
   "execution_count": 1,
   "metadata": {
    "collapsed": true
   },
   "outputs": [],
   "source": [
    "from __future__ import print_function\n",
    "from datetime import date, datetime, timedelta\n",
    "import mysql.connector"
   ]
  },
  {
   "cell_type": "code",
   "execution_count": 2,
   "metadata": {
    "collapsed": true
   },
   "outputs": [],
   "source": [
    "cnx = mysql.connector.connect(user='root', database='estudos_em')\n",
    "cursor = cnx.cursor()"
   ]
  },
  {
   "cell_type": "code",
   "execution_count": 3,
   "metadata": {},
   "outputs": [
    {
     "name": "stdout",
     "output_type": "stream",
     "text": [
      "(100066, '2', '1985-03-29 00:00:00.000', '128', '1', '1', '64', 64, 8, '20032', '20032', '4096', '20081', '1024', '274', '282')\n"
     ]
    }
   ],
   "source": [
    "sql = \"SELECT * FROM alunos\"\n",
    "cursor.execute(sql)\n",
    "results = cursor.fetchall()\n",
    "print(results[1])"
   ]
  },
  {
   "cell_type": "code",
   "execution_count": 4,
   "metadata": {
    "collapsed": true
   },
   "outputs": [],
   "source": [
    "cnx.close()"
   ]
  },
  {
   "cell_type": "markdown",
   "metadata": {},
   "source": [
    "# Código"
   ]
  },
  {
   "cell_type": "code",
   "execution_count": 5,
   "metadata": {
    "collapsed": true
   },
   "outputs": [],
   "source": [
    "import pandas as pd\n",
    "from collections import OrderedDict\n",
    "from datetime import date"
   ]
  },
  {
   "cell_type": "code",
   "execution_count": 6,
   "metadata": {
    "collapsed": true
   },
   "outputs": [],
   "source": [
    "import numpy as np\n",
    "import numpy.linalg as la\n",
    "import csv\n",
    "import sqlite3"
   ]
  },
  {
   "cell_type": "markdown",
   "metadata": {},
   "source": [
    "transformando a tupla em matriz"
   ]
  },
  {
   "cell_type": "code",
   "execution_count": 7,
   "metadata": {},
   "outputs": [],
   "source": [
    "lista = []\n",
    "for y in range(0, len(results)):\n",
    "    lista.append([])\n",
    "    for x in range(len(results[y])):\n",
    "        lista[y].append(0)\n",
    "        lista[y][x] = results[y][x]"
   ]
  },
  {
   "cell_type": "markdown",
   "metadata": {},
   "source": [
    "utiliza uma parte da matriz"
   ]
  },
  {
   "cell_type": "code",
   "execution_count": 8,
   "metadata": {},
   "outputs": [
    {
     "name": "stdout",
     "output_type": "stream",
     "text": [
      "[100790, '2', '1983-02-04 00:00:00.000', '128', '1', '1', '1', 2, 2, '20041', '20041', '128', '20091', '2', '180', '110']\n",
      "[100790, '2', '1983-02-04 00:00:00.000', '128', '1', '1', '1', 2, 2, '20041', '20041', '128', '20091', '2', '180', '110']\n"
     ]
    }
   ],
   "source": [
    "matrix_general = lista[0:5000]\n",
    "print(matrix_general[5])\n",
    "\n",
    "matrix_girls = lista[0:5000]\n",
    "print(matrix_girls[5])"
   ]
  },
  {
   "cell_type": "markdown",
   "metadata": {},
   "source": [
    "# Curva de Andrews - Mulheres x Homens\n",
    "\n",
    "Análise das formas de saída do curso"
   ]
  },
  {
   "cell_type": "code",
   "execution_count": 9,
   "metadata": {
    "scrolled": false
   },
   "outputs": [
    {
     "name": "stdout",
     "output_type": "stream",
     "text": [
      "[100060, '1', '1983-12-31 00:00:00.000', '128', '1', '1', '32', 1, 1, '20032', '20032', '4096', '20081', '1024', '240', '240']\n",
      "[1, 1, 1, 32, 1, 1, 20032, 20032, 4096, 20081, 3, 240, 240]\n",
      "5000\n",
      "7681\n",
      "[1, 1, 1, 32, 1, 1, 20032, 20032, 4096, 20081, 3, 240, 240]\n"
     ]
    }
   ],
   "source": [
    "print(matrix_general[0])\n",
    "\n",
    "for y in range(0, len(matrix_general)):\n",
    "    del(matrix_general[y][3]) #deletando UF\n",
    "    del(matrix_general[y][2]) #deletando Data Nascimento\n",
    "    del(matrix_general[y][0]) #deletando ID\n",
    "    \n",
    "    for x in range(0, len(matrix_general[y])):\n",
    "        if(matrix_general[y][x] != ''):\n",
    "            matrix_general[y][x] = int(matrix_general[y][x])\n",
    "        else:\n",
    "            matrix_general[y][x] = 0\n",
    "        if(x == 10):\n",
    "            if(matrix_general[y][10] != 1 and matrix_general[y][10] != 1024): # 1 = Ativo, 1024 = Formatura\n",
    "                matrix_general[y][10] = 2\n",
    "            if(matrix_general[y][10] == 1024):\n",
    "                matrix_general[y][10] = 3  # Pessoas formadas\n",
    "    \n",
    "\n",
    "print(matrix_general[0])\n",
    "print(len(matrix_general))\n",
    "print(len(lista))\n",
    "print(lista[0])\n"
   ]
  },
  {
   "cell_type": "markdown",
   "metadata": {},
   "source": [
    "Pegando apenas as mulheres dos cursos"
   ]
  },
  {
   "cell_type": "code",
   "execution_count": 10,
   "metadata": {
    "collapsed": true
   },
   "outputs": [],
   "source": [
    "import pandas as pd\n",
    "import seaborn as sns\n",
    "from pandas.tools.plotting import andrews_curves\n",
    "import warnings # current version of seaborn generates a bunch of warnings that we'll ignore\n",
    "warnings.filterwarnings(\"ignore\")\n",
    "import seaborn as sns\n",
    "import matplotlib.pyplot as plt"
   ]
  },
  {
   "cell_type": "code",
   "execution_count": 11,
   "metadata": {
    "scrolled": false
   },
   "outputs": [
    {
     "name": "stdout",
     "output_type": "stream",
     "text": [
      "[1, 1, 1, 32, 1, 1, 20032, 20032, 4096, 20081, 3, 240, 240]\n"
     ]
    },
    {
     "data": {
      "image/png": "[encoded data removed]",
      "text/plain": [
       "<matplotlib.figure.Figure at 0x7fc445ee8f60>"
      ]
     },
     "metadata": {},
     "output_type": "display_data"
    }
   ],
   "source": [
    "sns.set(style=\"white\", color_codes=True)\n",
    "\n",
    "\n",
    "bxg = pd.DataFrame(matrix_general)\n",
    "# the iris dataset is now a Pandas DataFrame\n",
    "\n",
    "# Let's see what's in the iris data - Jupyter notebooks print the result of the last thing you do\n",
    "\n",
    "#print(bxg.head())\n",
    "\n",
    "# Let's see how many examples we have of each species\n",
    "\n",
    "print(matrix_general[0])\n",
    "\n",
    "andrews_curves(bxg, 10)\n",
    "\n",
    "plt.legend(loc='best')\n",
    "plt.show()\n"
   ]
  },
  {
   "cell_type": "raw",
   "metadata": {},
   "source": [
    "print(matrix_girls[0])\n",
    "\n",
    "for y in range(0, len(matrix_girls)):\n",
    "    del(matrix_girls[y][1]) #deletando Sexo\n",
    "\n",
    "    \n",
    "    for x in range(0, len(matrix_girls[y])):\n",
    "        if(matrix_girls[y][x] != ''):\n",
    "            matrix_girls[y][x] = int(matrix_girls[y][x])\n",
    "        else:\n",
    "            matrix_girls[y][x] = 0\n",
    "        if(x == 10):\n",
    "            if(matrix_girls[y][9] != 1 and matrix_girls[y][10] != 1024): # 1 = Ativo, 1024 = Formatura\n",
    "                matrix_girls[y][9] = 2\n",
    "            if(matrix_girls[y][9] == 1024): \n",
    "                matrix_girls[y][9] = 3 # Pessoas formadas\n",
    "    \n",
    "\n",
    "print(matrix_girls[0])\n",
    "print(len(matrix_girls))\n",
    "print(len(lista))\n",
    "print(lista[0])"
   ]
  },
  {
   "cell_type": "raw",
   "metadata": {
    "scrolled": false
   },
   "source": [
    "# sns.set(style=\"white\", color_codes=True)\n",
    "\n",
    "# Next, we'll load the Iris flower dataset, which is in the \"../input/\" directory\n",
    "girl = pd.DataFrame(matrix_girls) # the iris dataset is now a Pandas DataFrame\n",
    "\n",
    "# Let's see what's in the iris data - Jupyter notebooks print the result of the last thing you do\n",
    "#print(girls.head())\n",
    "\n",
    "# Let's see how many examples we have of each species\n",
    "\n",
    "print(matrix_girls[0])\n",
    "\n",
    "andrews_curves(girl, 6)\n",
    "\n",
    "plt.legend(loc='best')\n",
    "plt.show()"
   ]
  },
  {
   "cell_type": "markdown",
   "metadata": {},
   "source": [
    "# Coordenadas paralelas"
   ]
  },
  {
   "cell_type": "code",
   "execution_count": 12,
   "metadata": {},
   "outputs": [
    {
     "name": "stdout",
     "output_type": "stream",
     "text": [
      "      0   1   2    3   4   5      6      7     8      9   10   11   12\n",
      "0      1   1   1   32   1   1  20032  20032  4096  20081   3  240  240\n",
      "1      2   1   1   64  64   8  20032  20032  4096  20081   3  274  282\n",
      "2      2   1   1   32   1   1  20032  20032  4096  20081   3  240  232\n",
      "3      2   1   1   32   1   1  20032  20032    16  20042   2  240    6\n",
      "4      1   1   1   32   1   1  20032  20032  2048  20042   2  240    6\n",
      "5      2   1   1    1   2   2  20041  20041   128  20091   2  180  110\n",
      "6      1   1   1   32   2   2  20041  20041   128  20082   3  180  168\n",
      "7      2   1   1   32   2   2  20041  20041   128  20061   2  180   42\n",
      "8      2   1   1   32   2   2  20041  20041   128  20092   3  180  178\n",
      "9      2   1   1   32  64   8  20041  20041   128  20082   3  274  255\n",
      "10     1   1   1    2  64   8  20041  20041   128  20061   2  274   68\n",
      "11     2   1   1   32  64   8  20041  20041   128  20092   3  274  249\n",
      "12     2   1   1   32  16  16  20041  20041   128  20092   2  244  156\n",
      "13     2   1   1   32   1   1  20041  20041   128  20081   3  240  226\n",
      "14     2   1   1   32  16  16  20041  20041   128  20081   3  244  222\n",
      "15     1   1   1   32  64   8  20041  20041   128  20081   2  274  151\n",
      "16     2   1   1   32  16  16  20041  20041   128  20081   3  244  240\n",
      "17     2   1   1  128   1   1  20041  20041   128  20061   2  240   80\n",
      "18     1   1   1   32  16  16  20041  20041   128  20062   2  244  272\n",
      "19     1   1   1   32   1   1  20041  20041   128  20082   3  240  238\n",
      "20     2   1   1    2   1   1  20041  20041   128  20102   2  240  166\n",
      "21     2   1   1   32   1   1  20041  20041   128  20062   2  240   58\n",
      "22     2   1   2   64  16  16  20041  20041   128  20112   3  244  264\n",
      "23     2   1   1    2   1   1  20041  20072   128  20101   3  240  268\n",
      "24     1   1   1   32   1   1  20041  20041   128  20101   3  240  236\n",
      "25     2   1   1   32   1   1  20041  20081   128  20102   2  240  186\n",
      "26     2   1   1   32  16  16  20041  20041   128  20081   3  244  234\n",
      "27     2   1   1    2   2   2  20041  20041   128  20071   2  180   68\n",
      "28     2   1   1   32   2   2  20041  20041   128  20061   2  180   42\n",
      "29     2   1   2    2   2   2  20041  20041   128  20102   3  180  182\n",
      "...   ..  ..  ..  ...  ..  ..    ...    ...   ...    ...  ..  ...  ...\n",
      "4970   2   1   2    2   1   1  20161  20161   128      0   1  214   46\n",
      "4971   2   1   2    2  16  16  20161  20161   128      0   1  250   30\n",
      "4972   1   2   4    2  32  32  20161  20161   128      0   1  240   42\n",
      "4973   1   1   2   64  64   8  20161  20161   128      0   1  274   56\n",
      "4974   2   1   2   64  16  16  20161  20161   128      0   1  250   28\n",
      "4975   2   1   2    2  32  32  20161  20161   128      0   1  240   32\n",
      "4976   2   1   2   64  32  32  20161  20161   128      0   1  240   46\n",
      "4977   2   1   4   64   2   2  20161  20161   128      0   1  180    8\n",
      "4978   2   1   2   64  16  16  20161  20161   128      0   1  250    4\n",
      "4979   2   2   4   64   1   1  20161  20161   128  20162   2  214    6\n",
      "4980   2   2   4    2   4   4  20161  20161   128      0   1  252    6\n",
      "4981   2   1   2    1   2   2  20161  20161   128      0   1  180   26\n",
      "4982   2   1   2    2  64   8  20161  20161   128      0   1  274   56\n",
      "4983   1   1   2    2   1   1  20161  20161   128      0   1  214   22\n",
      "4984   2   2   4   32   2   2  20161  20161   128      0   1  180    0\n",
      "4985   1   2   2  128  64   8  20161  20161   128      0   1  274   12\n",
      "4986   2   2   4   64  16  16  20161  20161   128      0   1  250    6\n",
      "4987   2   2   4   64   1   1  20161  20161   128      0   1  214   14\n",
      "4988   2   2   4   32   2   2  20161  20161   128      0   1  180   16\n",
      "4989   2   1   2    2   4   4  20161  20161   128      0   1  252   48\n",
      "4990   2   2   4   64  64   8  20161  20161   128      0   1  274    2\n",
      "4991   2   2   4    2  64   8  20161  20161   128      0   1  274   22\n",
      "4992   2   1   2    2  16  16  20161  20161   128      0   1  250   12\n",
      "4993   2   1   2    2   2   2  20161  20161   128  20162   2  180    8\n",
      "4994   2   1   2   32  32  32  20161  20161   128      0   1  240   54\n",
      "4995   2   2   4   64   4   4  20161  20161   512      0   1  252   32\n",
      "4996   2   1   2    2   4   4  20161  20161   512      0   1  252   48\n",
      "4997   2   1   2    2  16  16  20161  20161   512      0   1  250   48\n",
      "4998   2   2   4   32   1   1  20161  20161   512  20162   2  214    0\n",
      "4999   2   1   2    2  64   8  20161  20161   512      0   1  274   56\n",
      "\n",
      "[5000 rows x 13 columns]\n"
     ]
    },
    {
     "data": {
      "image/png": "[encoded data removed]",
      "text/plain": [
       "<matplotlib.figure.Figure at 0x7fc43afdba58>"
      ]
     },
     "metadata": {},
     "output_type": "display_data"
    }
   ],
   "source": [
    "import pandas as pd\n",
    "import matplotlib.pyplot as plt\n",
    "from pandas.tools.plotting import parallel_coordinates\n",
    "\n",
    "data = pd.DataFrame(matrix_general)\n",
    "#data = pandas.read_csv(r'C:\\Python27\\Lib\\site-packages\\pandas\\tests\\data\\iris.csv', sep=',')\n",
    "data2 = data[[0,1,2,3,4,5,6,7,8,9,10,11,12]]\n",
    "print(data2)\n",
    "parallel_coordinates(data2, 10,color=['r','g','b'])\n",
    "plt.xlabel(\"Each Component of X is Shown on its Own Vertical Axis\")\n",
    "plt.ylabel(\"Values\")\n",
    "plt.title(\"Finding the Optimal Value of X\")\n",
    "plt.show()"
   ]
  },
  {
   "cell_type": "markdown",
   "metadata": {},
   "source": [
    "# PCA"
   ]
  },
  {
   "cell_type": "code",
   "execution_count": 13,
   "metadata": {},
   "outputs": [
    {
     "data": {
      "image/png": "[encoded data removed]",
      "text/plain": [
       "<matplotlib.figure.Figure at 0x7fc43a653a20>"
      ]
     },
     "metadata": {},
     "output_type": "display_data"
    }
   ],
   "source": [
    "import pandas as pd\n",
    "import seaborn as sns\n",
    "from pandas.tools.plotting import radviz\n",
    "# We'll also import seaborn, a Python graphing library\n",
    "import warnings # current version of seaborn generates a bunch of warnings that we'll ignore\n",
    "warnings.filterwarnings(\"ignore\")\n",
    "import seaborn as sns\n",
    "import matplotlib.pyplot as plt\n",
    "from sklearn.decomposition import PCA as sklearnPCA\n",
    "\n",
    "sns.set(style=\"white\", color_codes=True)\n",
    "\n",
    "# Next, we'll load the Iris flower dataset, which is in the \"../input/\" directory\n",
    "iris = pd.DataFrame(matrix_general)\n",
    "# iris = pd.read_csv(\"iris.csv\") # the iris dataset is now a Pandas DataFrame\n",
    "\n",
    "X_std = iris.ix[:,0:12].values\n",
    "y = iris.ix[:,10].values\n",
    "# Let's see how many examples we have of each species\n",
    "sklearn_pca = sklearnPCA(n_components=2)\n",
    "Y_sklearn = sklearn_pca.fit_transform(X_std)\n",
    "\n",
    "with plt.style.context('seaborn-whitegrid'):\n",
    "    plt.figure(figsize=(6, 4))\n",
    "    for lab, col in zip((1, 2, 3),\n",
    "                        ('blue', 'red', 'green')):\n",
    "        plt.scatter(Y_sklearn[y==lab, 0],\n",
    "                    Y_sklearn[y==lab, 1],\n",
    "                    label=lab,\n",
    "                    c=col)\n",
    "    plt.xlabel('Principal Component 1')\n",
    "    plt.ylabel('Principal Component 2')\n",
    "    plt.legend(loc='lower center')\n",
    "    plt.tight_layout()\n",
    "    plt.show()\n",
    "\n",
    "\n",
    "plt.show()"
   ]
  },
  {
   "cell_type": "markdown",
   "metadata": {},
   "source": [
    "https://xaoquadrado.wordpress.com/2014/06/24/1161/"
   ]
  },
  {
   "cell_type": "markdown",
   "metadata": {
    "collapsed": true
   },
   "source": [
    "# Calculando a matriz de covariância"
   ]
  },
  {
   "cell_type": "code",
   "execution_count": 14,
   "metadata": {
    "collapsed": true
   },
   "outputs": [],
   "source": [
    "data = pd.DataFrame(matrix_general)\n",
    "cov = data.cov()"
   ]
  },
  {
   "cell_type": "code",
   "execution_count": 15,
   "metadata": {},
   "outputs": [
    {
     "data": {
      "text/html": [
       "<div>\n",
       "<style>\n",
       "    .dataframe thead tr:only-child th {\n",
       "        text-align: right;\n",
       "    }\n",
       "\n",
       "    .dataframe thead th {\n",
       "        text-align: left;\n",
       "    }\n",
       "\n",
       "    .dataframe tbody tr th {\n",
       "        vertical-align: top;\n",
       "    }\n",
       "</style>\n",
       "<table border=\"1\" class=\"dataframe\">\n",
       "  <thead>\n",
       "    <tr style=\"text-align: right;\">\n",
       "      <th></th>\n",
       "      <th>0</th>\n",
       "      <th>1</th>\n",
       "      <th>2</th>\n",
       "      <th>3</th>\n",
       "      <th>4</th>\n",
       "      <th>5</th>\n",
       "      <th>6</th>\n",
       "      <th>7</th>\n",
       "      <th>8</th>\n",
       "      <th>9</th>\n",
       "      <th>10</th>\n",
       "      <th>11</th>\n",
       "      <th>12</th>\n",
       "    </tr>\n",
       "  </thead>\n",
       "  <tbody>\n",
       "    <tr>\n",
       "      <th>0</th>\n",
       "      <td>0.106683</td>\n",
       "      <td>-0.000627</td>\n",
       "      <td>-0.011703</td>\n",
       "      <td>-0.185114</td>\n",
       "      <td>-0.111091</td>\n",
       "      <td>-0.154341</td>\n",
       "      <td>-0.232263</td>\n",
       "      <td>-0.243718</td>\n",
       "      <td>2.842752e+01</td>\n",
       "      <td>6.077723e+01</td>\n",
       "      <td>0.001109</td>\n",
       "      <td>-0.236194</td>\n",
       "      <td>-0.419114</td>\n",
       "    </tr>\n",
       "    <tr>\n",
       "      <th>1</th>\n",
       "      <td>-0.000627</td>\n",
       "      <td>0.148269</td>\n",
       "      <td>0.132913</td>\n",
       "      <td>4.942613</td>\n",
       "      <td>0.159094</td>\n",
       "      <td>0.146010</td>\n",
       "      <td>2.246662</td>\n",
       "      <td>2.183092</td>\n",
       "      <td>5.255300e+01</td>\n",
       "      <td>-2.369975e+02</td>\n",
       "      <td>-0.027178</td>\n",
       "      <td>0.276771</td>\n",
       "      <td>-5.706084</td>\n",
       "    </tr>\n",
       "    <tr>\n",
       "      <th>2</th>\n",
       "      <td>-0.011703</td>\n",
       "      <td>0.132913</td>\n",
       "      <td>1.137236</td>\n",
       "      <td>5.679813</td>\n",
       "      <td>0.831925</td>\n",
       "      <td>1.408652</td>\n",
       "      <td>17.444370</td>\n",
       "      <td>17.359735</td>\n",
       "      <td>-7.111933e+01</td>\n",
       "      <td>-2.000166e+03</td>\n",
       "      <td>-0.152393</td>\n",
       "      <td>0.510834</td>\n",
       "      <td>-11.303045</td>\n",
       "    </tr>\n",
       "    <tr>\n",
       "      <th>3</th>\n",
       "      <td>-0.185114</td>\n",
       "      <td>4.942613</td>\n",
       "      <td>5.679813</td>\n",
       "      <td>1033.488640</td>\n",
       "      <td>10.226436</td>\n",
       "      <td>18.287873</td>\n",
       "      <td>34.462191</td>\n",
       "      <td>31.878906</td>\n",
       "      <td>2.391395e+03</td>\n",
       "      <td>7.116073e+03</td>\n",
       "      <td>-0.255894</td>\n",
       "      <td>-26.350980</td>\n",
       "      <td>-201.813881</td>\n",
       "    </tr>\n",
       "    <tr>\n",
       "      <th>4</th>\n",
       "      <td>-0.111091</td>\n",
       "      <td>0.159094</td>\n",
       "      <td>0.831925</td>\n",
       "      <td>10.226436</td>\n",
       "      <td>529.146735</td>\n",
       "      <td>90.096357</td>\n",
       "      <td>31.482086</td>\n",
       "      <td>26.282791</td>\n",
       "      <td>1.962310e+01</td>\n",
       "      <td>-2.237228e+04</td>\n",
       "      <td>-0.587759</td>\n",
       "      <td>457.374180</td>\n",
       "      <td>347.946370</td>\n",
       "    </tr>\n",
       "    <tr>\n",
       "      <th>5</th>\n",
       "      <td>-0.154341</td>\n",
       "      <td>0.146010</td>\n",
       "      <td>1.408652</td>\n",
       "      <td>18.287873</td>\n",
       "      <td>90.096357</td>\n",
       "      <td>102.672136</td>\n",
       "      <td>54.741145</td>\n",
       "      <td>53.517177</td>\n",
       "      <td>-3.403236e+02</td>\n",
       "      <td>-1.990694e+04</td>\n",
       "      <td>-0.966968</td>\n",
       "      <td>81.691112</td>\n",
       "      <td>74.458886</td>\n",
       "    </tr>\n",
       "    <tr>\n",
       "      <th>6</th>\n",
       "      <td>-0.232263</td>\n",
       "      <td>2.246662</td>\n",
       "      <td>17.444370</td>\n",
       "      <td>34.462191</td>\n",
       "      <td>31.482086</td>\n",
       "      <td>54.741145</td>\n",
       "      <td>1249.962683</td>\n",
       "      <td>1235.132056</td>\n",
       "      <td>-1.316993e+04</td>\n",
       "      <td>-1.832652e+05</td>\n",
       "      <td>-15.951939</td>\n",
       "      <td>28.705156</td>\n",
       "      <td>-1163.903181</td>\n",
       "    </tr>\n",
       "    <tr>\n",
       "      <th>7</th>\n",
       "      <td>-0.243718</td>\n",
       "      <td>2.183092</td>\n",
       "      <td>17.359735</td>\n",
       "      <td>31.878906</td>\n",
       "      <td>26.282791</td>\n",
       "      <td>53.517177</td>\n",
       "      <td>1235.132056</td>\n",
       "      <td>1245.789074</td>\n",
       "      <td>-1.324790e+04</td>\n",
       "      <td>-1.839330e+05</td>\n",
       "      <td>-15.977518</td>\n",
       "      <td>32.228917</td>\n",
       "      <td>-1118.535219</td>\n",
       "    </tr>\n",
       "    <tr>\n",
       "      <th>8</th>\n",
       "      <td>28.427517</td>\n",
       "      <td>52.553003</td>\n",
       "      <td>-71.119335</td>\n",
       "      <td>2391.394946</td>\n",
       "      <td>19.623098</td>\n",
       "      <td>-340.323636</td>\n",
       "      <td>-13169.933280</td>\n",
       "      <td>-13247.900062</td>\n",
       "      <td>3.357353e+06</td>\n",
       "      <td>2.791655e+06</td>\n",
       "      <td>222.690862</td>\n",
       "      <td>-396.523346</td>\n",
       "      <td>21283.666629</td>\n",
       "    </tr>\n",
       "    <tr>\n",
       "      <th>9</th>\n",
       "      <td>60.777226</td>\n",
       "      <td>-236.997512</td>\n",
       "      <td>-2000.166487</td>\n",
       "      <td>7116.072772</td>\n",
       "      <td>-22372.280408</td>\n",
       "      <td>-19906.938702</td>\n",
       "      <td>-183265.202924</td>\n",
       "      <td>-183932.994727</td>\n",
       "      <td>2.791655e+06</td>\n",
       "      <td>8.944697e+07</td>\n",
       "      <td>5966.660358</td>\n",
       "      <td>-30933.098571</td>\n",
       "      <td>48661.775402</td>\n",
       "    </tr>\n",
       "    <tr>\n",
       "      <th>10</th>\n",
       "      <td>0.001109</td>\n",
       "      <td>-0.027178</td>\n",
       "      <td>-0.152393</td>\n",
       "      <td>-0.255894</td>\n",
       "      <td>-0.587759</td>\n",
       "      <td>-0.966968</td>\n",
       "      <td>-15.951939</td>\n",
       "      <td>-15.977518</td>\n",
       "      <td>2.226909e+02</td>\n",
       "      <td>5.966660e+03</td>\n",
       "      <td>0.548990</td>\n",
       "      <td>-0.645865</td>\n",
       "      <td>26.902842</td>\n",
       "    </tr>\n",
       "    <tr>\n",
       "      <th>11</th>\n",
       "      <td>-0.236194</td>\n",
       "      <td>0.276771</td>\n",
       "      <td>0.510834</td>\n",
       "      <td>-26.350980</td>\n",
       "      <td>457.374180</td>\n",
       "      <td>81.691112</td>\n",
       "      <td>28.705156</td>\n",
       "      <td>32.228917</td>\n",
       "      <td>-3.965233e+02</td>\n",
       "      <td>-3.093310e+04</td>\n",
       "      <td>-0.645865</td>\n",
       "      <td>932.327601</td>\n",
       "      <td>498.201635</td>\n",
       "    </tr>\n",
       "    <tr>\n",
       "      <th>12</th>\n",
       "      <td>-0.419114</td>\n",
       "      <td>-5.706084</td>\n",
       "      <td>-11.303045</td>\n",
       "      <td>-201.813881</td>\n",
       "      <td>347.946370</td>\n",
       "      <td>74.458886</td>\n",
       "      <td>-1163.903181</td>\n",
       "      <td>-1118.535219</td>\n",
       "      <td>2.128367e+04</td>\n",
       "      <td>4.866178e+04</td>\n",
       "      <td>26.902842</td>\n",
       "      <td>498.201635</td>\n",
       "      <td>7605.166966</td>\n",
       "    </tr>\n",
       "  </tbody>\n",
       "</table>\n",
       "</div>"
      ],
      "text/plain": [
       "           0           1            2            3             4   \\\n",
       "0    0.106683   -0.000627    -0.011703    -0.185114     -0.111091   \n",
       "1   -0.000627    0.148269     0.132913     4.942613      0.159094   \n",
       "2   -0.011703    0.132913     1.137236     5.679813      0.831925   \n",
       "3   -0.185114    4.942613     5.679813  1033.488640     10.226436   \n",
       "4   -0.111091    0.159094     0.831925    10.226436    529.146735   \n",
       "5   -0.154341    0.146010     1.408652    18.287873     90.096357   \n",
       "6   -0.232263    2.246662    17.444370    34.462191     31.482086   \n",
       "7   -0.243718    2.183092    17.359735    31.878906     26.282791   \n",
       "8   28.427517   52.553003   -71.119335  2391.394946     19.623098   \n",
       "9   60.777226 -236.997512 -2000.166487  7116.072772 -22372.280408   \n",
       "10   0.001109   -0.027178    -0.152393    -0.255894     -0.587759   \n",
       "11  -0.236194    0.276771     0.510834   -26.350980    457.374180   \n",
       "12  -0.419114   -5.706084   -11.303045  -201.813881    347.946370   \n",
       "\n",
       "              5              6              7             8             9   \\\n",
       "0      -0.154341      -0.232263      -0.243718  2.842752e+01  6.077723e+01   \n",
       "1       0.146010       2.246662       2.183092  5.255300e+01 -2.369975e+02   \n",
       "2       1.408652      17.444370      17.359735 -7.111933e+01 -2.000166e+03   \n",
       "3      18.287873      34.462191      31.878906  2.391395e+03  7.116073e+03   \n",
       "4      90.096357      31.482086      26.282791  1.962310e+01 -2.237228e+04   \n",
       "5     102.672136      54.741145      53.517177 -3.403236e+02 -1.990694e+04   \n",
       "6      54.741145    1249.962683    1235.132056 -1.316993e+04 -1.832652e+05   \n",
       "7      53.517177    1235.132056    1245.789074 -1.324790e+04 -1.839330e+05   \n",
       "8    -340.323636  -13169.933280  -13247.900062  3.357353e+06  2.791655e+06   \n",
       "9  -19906.938702 -183265.202924 -183932.994727  2.791655e+06  8.944697e+07   \n",
       "10     -0.966968     -15.951939     -15.977518  2.226909e+02  5.966660e+03   \n",
       "11     81.691112      28.705156      32.228917 -3.965233e+02 -3.093310e+04   \n",
       "12     74.458886   -1163.903181   -1118.535219  2.128367e+04  4.866178e+04   \n",
       "\n",
       "             10            11            12  \n",
       "0      0.001109     -0.236194     -0.419114  \n",
       "1     -0.027178      0.276771     -5.706084  \n",
       "2     -0.152393      0.510834    -11.303045  \n",
       "3     -0.255894    -26.350980   -201.813881  \n",
       "4     -0.587759    457.374180    347.946370  \n",
       "5     -0.966968     81.691112     74.458886  \n",
       "6    -15.951939     28.705156  -1163.903181  \n",
       "7    -15.977518     32.228917  -1118.535219  \n",
       "8    222.690862   -396.523346  21283.666629  \n",
       "9   5966.660358 -30933.098571  48661.775402  \n",
       "10     0.548990     -0.645865     26.902842  \n",
       "11    -0.645865    932.327601    498.201635  \n",
       "12    26.902842    498.201635   7605.166966  "
      ]
     },
     "execution_count": 15,
     "metadata": {},
     "output_type": "execute_result"
    }
   ],
   "source": [
    "cov"
   ]
  },
  {
   "cell_type": "code",
   "execution_count": 16,
   "metadata": {
    "collapsed": true
   },
   "outputs": [],
   "source": [
    "# plt.imshow(cov, cmap='hot', interpolation='none')  \n",
    "# plt.colorbar()  \n",
    "# plt.xticks(range(len(cov)), cov.columns)  \n",
    "# plt.yticks(range(len(cov)), cov.columns);  \n",
    "# # plt.savefig(\"correl.png\")  \n",
    "# plt.show()  "
   ]
  },
  {
   "cell_type": "code",
   "execution_count": 17,
   "metadata": {},
   "outputs": [
    {
     "data": {
      "text/html": [
       "<div>\n",
       "<style>\n",
       "    .dataframe thead tr:only-child th {\n",
       "        text-align: right;\n",
       "    }\n",
       "\n",
       "    .dataframe thead th {\n",
       "        text-align: left;\n",
       "    }\n",
       "\n",
       "    .dataframe tbody tr th {\n",
       "        vertical-align: top;\n",
       "    }\n",
       "</style>\n",
       "<table border=\"1\" class=\"dataframe\">\n",
       "  <thead>\n",
       "    <tr style=\"text-align: right;\">\n",
       "      <th></th>\n",
       "      <th>0</th>\n",
       "      <th>1</th>\n",
       "      <th>2</th>\n",
       "      <th>3</th>\n",
       "      <th>4</th>\n",
       "      <th>5</th>\n",
       "      <th>6</th>\n",
       "      <th>7</th>\n",
       "      <th>8</th>\n",
       "      <th>9</th>\n",
       "      <th>10</th>\n",
       "      <th>11</th>\n",
       "      <th>12</th>\n",
       "    </tr>\n",
       "  </thead>\n",
       "  <tbody>\n",
       "    <tr>\n",
       "      <th>0</th>\n",
       "      <td>1.000000</td>\n",
       "      <td>-0.004983</td>\n",
       "      <td>-0.033597</td>\n",
       "      <td>-0.017629</td>\n",
       "      <td>-0.014786</td>\n",
       "      <td>-0.046634</td>\n",
       "      <td>-0.020113</td>\n",
       "      <td>-0.021141</td>\n",
       "      <td>0.047500</td>\n",
       "      <td>0.019675</td>\n",
       "      <td>0.004582</td>\n",
       "      <td>-0.023683</td>\n",
       "      <td>-0.014714</td>\n",
       "    </tr>\n",
       "    <tr>\n",
       "      <th>1</th>\n",
       "      <td>-0.004983</td>\n",
       "      <td>1.000000</td>\n",
       "      <td>0.323681</td>\n",
       "      <td>0.399281</td>\n",
       "      <td>0.017961</td>\n",
       "      <td>0.037422</td>\n",
       "      <td>0.165031</td>\n",
       "      <td>0.160629</td>\n",
       "      <td>0.074486</td>\n",
       "      <td>-0.065078</td>\n",
       "      <td>-0.095259</td>\n",
       "      <td>0.023540</td>\n",
       "      <td>-0.169926</td>\n",
       "    </tr>\n",
       "    <tr>\n",
       "      <th>2</th>\n",
       "      <td>-0.033597</td>\n",
       "      <td>0.323681</td>\n",
       "      <td>1.000000</td>\n",
       "      <td>0.165675</td>\n",
       "      <td>0.033913</td>\n",
       "      <td>0.130362</td>\n",
       "      <td>0.462681</td>\n",
       "      <td>0.461207</td>\n",
       "      <td>-0.036397</td>\n",
       "      <td>-0.198316</td>\n",
       "      <td>-0.192867</td>\n",
       "      <td>0.015688</td>\n",
       "      <td>-0.121539</td>\n",
       "    </tr>\n",
       "    <tr>\n",
       "      <th>3</th>\n",
       "      <td>-0.017629</td>\n",
       "      <td>0.399281</td>\n",
       "      <td>0.165675</td>\n",
       "      <td>1.000000</td>\n",
       "      <td>0.013829</td>\n",
       "      <td>0.056142</td>\n",
       "      <td>0.030321</td>\n",
       "      <td>0.028095</td>\n",
       "      <td>0.040598</td>\n",
       "      <td>0.023405</td>\n",
       "      <td>-0.010743</td>\n",
       "      <td>-0.026845</td>\n",
       "      <td>-0.071985</td>\n",
       "    </tr>\n",
       "    <tr>\n",
       "      <th>4</th>\n",
       "      <td>-0.014786</td>\n",
       "      <td>0.017961</td>\n",
       "      <td>0.033913</td>\n",
       "      <td>0.013829</td>\n",
       "      <td>1.000000</td>\n",
       "      <td>0.386539</td>\n",
       "      <td>0.038710</td>\n",
       "      <td>0.032371</td>\n",
       "      <td>0.000466</td>\n",
       "      <td>-0.102835</td>\n",
       "      <td>-0.034485</td>\n",
       "      <td>0.651177</td>\n",
       "      <td>0.173448</td>\n",
       "    </tr>\n",
       "    <tr>\n",
       "      <th>5</th>\n",
       "      <td>-0.046634</td>\n",
       "      <td>0.037422</td>\n",
       "      <td>0.130362</td>\n",
       "      <td>0.056142</td>\n",
       "      <td>0.386539</td>\n",
       "      <td>1.000000</td>\n",
       "      <td>0.152806</td>\n",
       "      <td>0.149639</td>\n",
       "      <td>-0.018330</td>\n",
       "      <td>-0.207728</td>\n",
       "      <td>-0.128796</td>\n",
       "      <td>0.264037</td>\n",
       "      <td>0.084263</td>\n",
       "    </tr>\n",
       "    <tr>\n",
       "      <th>6</th>\n",
       "      <td>-0.020113</td>\n",
       "      <td>0.165031</td>\n",
       "      <td>0.462681</td>\n",
       "      <td>0.030321</td>\n",
       "      <td>0.038710</td>\n",
       "      <td>0.152806</td>\n",
       "      <td>1.000000</td>\n",
       "      <td>0.989789</td>\n",
       "      <td>-0.203300</td>\n",
       "      <td>-0.548086</td>\n",
       "      <td>-0.608952</td>\n",
       "      <td>0.026591</td>\n",
       "      <td>-0.377497</td>\n",
       "    </tr>\n",
       "    <tr>\n",
       "      <th>7</th>\n",
       "      <td>-0.021141</td>\n",
       "      <td>0.160629</td>\n",
       "      <td>0.461207</td>\n",
       "      <td>0.028095</td>\n",
       "      <td>0.032371</td>\n",
       "      <td>0.149639</td>\n",
       "      <td>0.989789</td>\n",
       "      <td>1.000000</td>\n",
       "      <td>-0.204845</td>\n",
       "      <td>-0.551004</td>\n",
       "      <td>-0.610949</td>\n",
       "      <td>0.029905</td>\n",
       "      <td>-0.363390</td>\n",
       "    </tr>\n",
       "    <tr>\n",
       "      <th>8</th>\n",
       "      <td>0.047500</td>\n",
       "      <td>0.074486</td>\n",
       "      <td>-0.036397</td>\n",
       "      <td>0.040598</td>\n",
       "      <td>0.000466</td>\n",
       "      <td>-0.018330</td>\n",
       "      <td>-0.203300</td>\n",
       "      <td>-0.204845</td>\n",
       "      <td>1.000000</td>\n",
       "      <td>0.161094</td>\n",
       "      <td>0.164029</td>\n",
       "      <td>-0.007087</td>\n",
       "      <td>0.133197</td>\n",
       "    </tr>\n",
       "    <tr>\n",
       "      <th>9</th>\n",
       "      <td>0.019675</td>\n",
       "      <td>-0.065078</td>\n",
       "      <td>-0.198316</td>\n",
       "      <td>0.023405</td>\n",
       "      <td>-0.102835</td>\n",
       "      <td>-0.207728</td>\n",
       "      <td>-0.548086</td>\n",
       "      <td>-0.551004</td>\n",
       "      <td>0.161094</td>\n",
       "      <td>1.000000</td>\n",
       "      <td>0.851464</td>\n",
       "      <td>-0.107116</td>\n",
       "      <td>0.059000</td>\n",
       "    </tr>\n",
       "    <tr>\n",
       "      <th>10</th>\n",
       "      <td>0.004582</td>\n",
       "      <td>-0.095259</td>\n",
       "      <td>-0.192867</td>\n",
       "      <td>-0.010743</td>\n",
       "      <td>-0.034485</td>\n",
       "      <td>-0.128796</td>\n",
       "      <td>-0.608952</td>\n",
       "      <td>-0.610949</td>\n",
       "      <td>0.164029</td>\n",
       "      <td>0.851464</td>\n",
       "      <td>1.000000</td>\n",
       "      <td>-0.028548</td>\n",
       "      <td>0.416353</td>\n",
       "    </tr>\n",
       "    <tr>\n",
       "      <th>11</th>\n",
       "      <td>-0.023683</td>\n",
       "      <td>0.023540</td>\n",
       "      <td>0.015688</td>\n",
       "      <td>-0.026845</td>\n",
       "      <td>0.651177</td>\n",
       "      <td>0.264037</td>\n",
       "      <td>0.026591</td>\n",
       "      <td>0.029905</td>\n",
       "      <td>-0.007087</td>\n",
       "      <td>-0.107116</td>\n",
       "      <td>-0.028548</td>\n",
       "      <td>1.000000</td>\n",
       "      <td>0.187097</td>\n",
       "    </tr>\n",
       "    <tr>\n",
       "      <th>12</th>\n",
       "      <td>-0.014714</td>\n",
       "      <td>-0.169926</td>\n",
       "      <td>-0.121539</td>\n",
       "      <td>-0.071985</td>\n",
       "      <td>0.173448</td>\n",
       "      <td>0.084263</td>\n",
       "      <td>-0.377497</td>\n",
       "      <td>-0.363390</td>\n",
       "      <td>0.133197</td>\n",
       "      <td>0.059000</td>\n",
       "      <td>0.416353</td>\n",
       "      <td>0.187097</td>\n",
       "      <td>1.000000</td>\n",
       "    </tr>\n",
       "  </tbody>\n",
       "</table>\n",
       "</div>"
      ],
      "text/plain": [
       "          0         1         2         3         4         5         6   \\\n",
       "0   1.000000 -0.004983 -0.033597 -0.017629 -0.014786 -0.046634 -0.020113   \n",
       "1  -0.004983  1.000000  0.323681  0.399281  0.017961  0.037422  0.165031   \n",
       "2  -0.033597  0.323681  1.000000  0.165675  0.033913  0.130362  0.462681   \n",
       "3  -0.017629  0.399281  0.165675  1.000000  0.013829  0.056142  0.030321   \n",
       "4  -0.014786  0.017961  0.033913  0.013829  1.000000  0.386539  0.038710   \n",
       "5  -0.046634  0.037422  0.130362  0.056142  0.386539  1.000000  0.152806   \n",
       "6  -0.020113  0.165031  0.462681  0.030321  0.038710  0.152806  1.000000   \n",
       "7  -0.021141  0.160629  0.461207  0.028095  0.032371  0.149639  0.989789   \n",
       "8   0.047500  0.074486 -0.036397  0.040598  0.000466 -0.018330 -0.203300   \n",
       "9   0.019675 -0.065078 -0.198316  0.023405 -0.102835 -0.207728 -0.548086   \n",
       "10  0.004582 -0.095259 -0.192867 -0.010743 -0.034485 -0.128796 -0.608952   \n",
       "11 -0.023683  0.023540  0.015688 -0.026845  0.651177  0.264037  0.026591   \n",
       "12 -0.014714 -0.169926 -0.121539 -0.071985  0.173448  0.084263 -0.377497   \n",
       "\n",
       "          7         8         9         10        11        12  \n",
       "0  -0.021141  0.047500  0.019675  0.004582 -0.023683 -0.014714  \n",
       "1   0.160629  0.074486 -0.065078 -0.095259  0.023540 -0.169926  \n",
       "2   0.461207 -0.036397 -0.198316 -0.192867  0.015688 -0.121539  \n",
       "3   0.028095  0.040598  0.023405 -0.010743 -0.026845 -0.071985  \n",
       "4   0.032371  0.000466 -0.102835 -0.034485  0.651177  0.173448  \n",
       "5   0.149639 -0.018330 -0.207728 -0.128796  0.264037  0.084263  \n",
       "6   0.989789 -0.203300 -0.548086 -0.608952  0.026591 -0.377497  \n",
       "7   1.000000 -0.204845 -0.551004 -0.610949  0.029905 -0.363390  \n",
       "8  -0.204845  1.000000  0.161094  0.164029 -0.007087  0.133197  \n",
       "9  -0.551004  0.161094  1.000000  0.851464 -0.107116  0.059000  \n",
       "10 -0.610949  0.164029  0.851464  1.000000 -0.028548  0.416353  \n",
       "11  0.029905 -0.007087 -0.107116 -0.028548  1.000000  0.187097  \n",
       "12 -0.363390  0.133197  0.059000  0.416353  0.187097  1.000000  "
      ]
     },
     "execution_count": 17,
     "metadata": {},
     "output_type": "execute_result"
    }
   ],
   "source": [
    "corr = data.corr()\n",
    "corr"
   ]
  },
  {
   "cell_type": "code",
   "execution_count": 18,
   "metadata": {},
   "outputs": [
    {
     "data": {
      "image/png": "[encoded data removed]",
      "text/plain": [
       "<matplotlib.figure.Figure at 0x7fc43a697160>"
      ]
     },
     "metadata": {},
     "output_type": "display_data"
    }
   ],
   "source": [
    "plt.imshow(corr, cmap='hot', interpolation='none')  \n",
    "plt.colorbar()  \n",
    "plt.xticks(range(len(corr)), corr.columns)  \n",
    "plt.yticks(range(len(corr)), corr.columns);  \n",
    "# plt.savefig(\"correl.png\")  \n",
    "plt.show()  "
   ]
  },
  {
   "cell_type": "markdown",
   "metadata": {},
   "source": [
    "# Autovalores e Autovetores"
   ]
  },
  {
   "cell_type": "markdown",
   "metadata": {},
   "source": [
    "autovalores da matriz de covariância representam a variância que será observada quando os dados originais forem projetados no eixo dado pelo autovetor correspondente. Um determinado autovalor informa a “variância explicada” (Explained Variance) pelo seu componente principal (autovetor) correspondente."
   ]
  },
  {
   "cell_type": "code",
   "execution_count": 19,
   "metadata": {
    "collapsed": true
   },
   "outputs": [],
   "source": [
    "w,v=la.eig(cov)"
   ]
  },
  {
   "cell_type": "markdown",
   "metadata": {},
   "source": [
    "autovalor"
   ]
  },
  {
   "cell_type": "code",
   "execution_count": 20,
   "metadata": {},
   "outputs": [
    {
     "data": {
      "text/plain": [
       "array([  8.95382021e+07,   3.26707506e+06,   7.85139243e+03,\n",
       "         1.40926294e+03,   1.12878590e+03,   1.02317646e+03,\n",
       "         2.35923132e+02,   8.06453877e+01,   1.24880957e+01,\n",
       "         8.58975171e-01,   7.41797136e-02,   1.06037221e-01,\n",
       "         1.10696111e-01])"
      ]
     },
     "execution_count": 20,
     "metadata": {},
     "output_type": "execute_result"
    }
   ],
   "source": [
    "w"
   ]
  },
  {
   "cell_type": "markdown",
   "metadata": {},
   "source": [
    "autovetor"
   ]
  },
  {
   "cell_type": "code",
   "execution_count": 21,
   "metadata": {},
   "outputs": [
    {
     "data": {
      "text/plain": [
       "array([[  6.88715559e-07,   8.09341030e-06,   7.57353239e-05,\n",
       "         -2.01723536e-04,  -9.29984450e-05,  -2.05673610e-04,\n",
       "          9.72914595e-05,   1.43210350e-03,  -4.02793828e-04,\n",
       "         -9.37109951e-03,  -3.66380594e-02,  -9.94817792e-01,\n",
       "          9.43667078e-02],\n",
       "       [ -2.62661884e-06,   1.84137774e-05,   8.27307329e-04,\n",
       "          1.25430342e-03,   2.55356586e-04,   4.49048630e-03,\n",
       "         -7.35878217e-04,   2.37111516e-04,  -1.60175823e-03,\n",
       "          1.05119313e-01,   1.52088865e-01,   8.62701764e-02,\n",
       "          9.78953887e-01],\n",
       "       [ -2.23534698e-05,  -1.97110463e-06,   1.81189748e-03,\n",
       "          1.12107324e-02,  -4.01884139e-03,   4.22296508e-03,\n",
       "          8.43513104e-04,  -5.95490703e-03,  -3.88487763e-03,\n",
       "          9.93934936e-01,   1.05078999e-02,  -1.98757177e-02,\n",
       "         -1.06647412e-01],\n",
       "       [  8.02961540e-05,   6.60811500e-04,   3.37089208e-02,\n",
       "          6.79024864e-02,  -1.49514873e-03,   9.96372420e-01,\n",
       "         -3.40128383e-02,   1.70271835e-02,   2.70662697e-04,\n",
       "         -5.36132144e-03,  -8.34183870e-04,  -4.90976989e-04,\n",
       "         -3.96618555e-03],\n",
       "       [ -2.49726390e-04,   2.28464420e-04,  -5.25180567e-02,\n",
       "          2.05058883e-01,   5.00964037e-01,   1.26258840e-02,\n",
       "          8.11563912e-01,   2.12408592e-01,   1.77184753e-02,\n",
       "          4.45309454e-04,  -7.24469137e-04,   3.25990200e-04,\n",
       "          2.16654794e-04],\n",
       "       [ -2.22337331e-04,   9.33199651e-05,  -1.11178098e-02,\n",
       "          5.61618989e-02,   7.76304632e-02,   1.98804412e-02,\n",
       "          1.92246027e-01,  -9.76343186e-01,   7.13643230e-03,\n",
       "         -6.32957412e-03,   1.58960813e-03,  -1.33913533e-03,\n",
       "          7.69376514e-04],\n",
       "       [ -2.05052669e-03,  -2.21591843e-03,   1.60604306e-01,\n",
       "          6.43537231e-01,  -2.35304154e-01,  -4.94960459e-02,\n",
       "          6.24983506e-03,   1.16027279e-02,  -7.08463614e-01,\n",
       "         -1.11800276e-02,   4.24615158e-03,   4.44673563e-05,\n",
       "         -1.29220394e-03],\n",
       "       [ -2.05800874e-03,  -2.23306355e-03,   1.54754613e-01,\n",
       "          6.45797606e-01,  -2.40860011e-01,  -5.08860291e-02,\n",
       "         -2.32290991e-02,   1.58069876e-02,   7.05362341e-01,\n",
       "         -5.19621867e-03,  -5.32854272e-03,   6.94680423e-05,\n",
       "          1.85055520e-03],\n",
       "       [  3.23766315e-02,   9.99451865e-01,   6.60113926e-03,\n",
       "          1.73383779e-03,  -3.31391214e-04,  -1.01115245e-03,\n",
       "         -7.61220681e-05,   5.11661268e-05,   3.28664494e-05,\n",
       "         -2.70373168e-05,  -1.22626337e-05,   7.62781497e-06,\n",
       "         -1.76676216e-05],\n",
       "       [  9.99471244e-01,  -3.23883915e-02,   9.24322630e-04,\n",
       "          2.65716277e-03,  -4.65382990e-04,  -2.69034515e-04,\n",
       "          2.92206697e-05,  -1.24896962e-04,   3.85718680e-06,\n",
       "         -1.22945986e-05,   6.31846413e-05,  -3.06166000e-06,\n",
       "         -7.70708946e-06],\n",
       "       [  6.66843460e-05,   9.04521332e-06,  -3.06395876e-03,\n",
       "          2.17044077e-05,  -5.37585171e-04,   5.31647063e-05,\n",
       "         -1.92714673e-04,  -1.83260428e-03,  -7.14185238e-03,\n",
       "          2.70820013e-02,  -9.87601293e-01,   4.99770597e-02,\n",
       "          1.46111119e-01],\n",
       "       [ -3.45437893e-04,   1.86316930e-04,  -7.66762206e-02,\n",
       "          2.95907133e-01,   7.75741218e-01,  -3.46819577e-02,\n",
       "         -5.50114752e-01,  -2.95200640e-02,  -9.15824821e-03,\n",
       "          2.52730324e-04,  -7.31933383e-05,  -2.96368862e-04,\n",
       "         -7.68609246e-04],\n",
       "       [  5.50979656e-04,   6.04424869e-03,  -9.69691802e-01,\n",
       "          1.76897821e-01,  -1.66833574e-01,   2.01527386e-02,\n",
       "         -6.51232505e-03,   7.05582007e-03,  -5.06249593e-03,\n",
       "         -9.78477334e-04,   3.11772969e-03,  -1.76581487e-04,\n",
       "          1.65166740e-04]])"
      ]
     },
     "execution_count": 21,
     "metadata": {},
     "output_type": "execute_result"
    }
   ],
   "source": [
    "v"
   ]
  },
  {
   "cell_type": "markdown",
   "metadata": {},
   "source": [
    "# Ordenação dos autovalores e seus autovetores correspondentes em ordem decrescente."
   ]
  },
  {
   "cell_type": "code",
   "execution_count": 22,
   "metadata": {
    "collapsed": true
   },
   "outputs": [],
   "source": [
    "ind=np.argsort(w)[::-1]\n",
    "w_dec=w[ind]\n",
    "v_dec=v[ind]"
   ]
  },
  {
   "cell_type": "code",
   "execution_count": 23,
   "metadata": {},
   "outputs": [
    {
     "data": {
      "text/plain": [
       "array([  8.95382021e+07,   3.26707506e+06,   7.85139243e+03,\n",
       "         1.40926294e+03,   1.12878590e+03,   1.02317646e+03,\n",
       "         2.35923132e+02,   8.06453877e+01,   1.24880957e+01,\n",
       "         8.58975171e-01,   1.10696111e-01,   1.06037221e-01,\n",
       "         7.41797136e-02])"
      ]
     },
     "execution_count": 23,
     "metadata": {},
     "output_type": "execute_result"
    }
   ],
   "source": [
    "w_dec"
   ]
  },
  {
   "cell_type": "code",
   "execution_count": 24,
   "metadata": {},
   "outputs": [
    {
     "data": {
      "text/plain": [
       "array([[  6.88715559e-07,   8.09341030e-06,   7.57353239e-05,\n",
       "         -2.01723536e-04,  -9.29984450e-05,  -2.05673610e-04,\n",
       "          9.72914595e-05,   1.43210350e-03,  -4.02793828e-04,\n",
       "         -9.37109951e-03,  -3.66380594e-02,  -9.94817792e-01,\n",
       "          9.43667078e-02],\n",
       "       [ -2.62661884e-06,   1.84137774e-05,   8.27307329e-04,\n",
       "          1.25430342e-03,   2.55356586e-04,   4.49048630e-03,\n",
       "         -7.35878217e-04,   2.37111516e-04,  -1.60175823e-03,\n",
       "          1.05119313e-01,   1.52088865e-01,   8.62701764e-02,\n",
       "          9.78953887e-01],\n",
       "       [ -2.23534698e-05,  -1.97110463e-06,   1.81189748e-03,\n",
       "          1.12107324e-02,  -4.01884139e-03,   4.22296508e-03,\n",
       "          8.43513104e-04,  -5.95490703e-03,  -3.88487763e-03,\n",
       "          9.93934936e-01,   1.05078999e-02,  -1.98757177e-02,\n",
       "         -1.06647412e-01],\n",
       "       [  8.02961540e-05,   6.60811500e-04,   3.37089208e-02,\n",
       "          6.79024864e-02,  -1.49514873e-03,   9.96372420e-01,\n",
       "         -3.40128383e-02,   1.70271835e-02,   2.70662697e-04,\n",
       "         -5.36132144e-03,  -8.34183870e-04,  -4.90976989e-04,\n",
       "         -3.96618555e-03],\n",
       "       [ -2.49726390e-04,   2.28464420e-04,  -5.25180567e-02,\n",
       "          2.05058883e-01,   5.00964037e-01,   1.26258840e-02,\n",
       "          8.11563912e-01,   2.12408592e-01,   1.77184753e-02,\n",
       "          4.45309454e-04,  -7.24469137e-04,   3.25990200e-04,\n",
       "          2.16654794e-04],\n",
       "       [ -2.22337331e-04,   9.33199651e-05,  -1.11178098e-02,\n",
       "          5.61618989e-02,   7.76304632e-02,   1.98804412e-02,\n",
       "          1.92246027e-01,  -9.76343186e-01,   7.13643230e-03,\n",
       "         -6.32957412e-03,   1.58960813e-03,  -1.33913533e-03,\n",
       "          7.69376514e-04],\n",
       "       [ -2.05052669e-03,  -2.21591843e-03,   1.60604306e-01,\n",
       "          6.43537231e-01,  -2.35304154e-01,  -4.94960459e-02,\n",
       "          6.24983506e-03,   1.16027279e-02,  -7.08463614e-01,\n",
       "         -1.11800276e-02,   4.24615158e-03,   4.44673563e-05,\n",
       "         -1.29220394e-03],\n",
       "       [ -2.05800874e-03,  -2.23306355e-03,   1.54754613e-01,\n",
       "          6.45797606e-01,  -2.40860011e-01,  -5.08860291e-02,\n",
       "         -2.32290991e-02,   1.58069876e-02,   7.05362341e-01,\n",
       "         -5.19621867e-03,  -5.32854272e-03,   6.94680423e-05,\n",
       "          1.85055520e-03],\n",
       "       [  3.23766315e-02,   9.99451865e-01,   6.60113926e-03,\n",
       "          1.73383779e-03,  -3.31391214e-04,  -1.01115245e-03,\n",
       "         -7.61220681e-05,   5.11661268e-05,   3.28664494e-05,\n",
       "         -2.70373168e-05,  -1.22626337e-05,   7.62781497e-06,\n",
       "         -1.76676216e-05],\n",
       "       [  9.99471244e-01,  -3.23883915e-02,   9.24322630e-04,\n",
       "          2.65716277e-03,  -4.65382990e-04,  -2.69034515e-04,\n",
       "          2.92206697e-05,  -1.24896962e-04,   3.85718680e-06,\n",
       "         -1.22945986e-05,   6.31846413e-05,  -3.06166000e-06,\n",
       "         -7.70708946e-06],\n",
       "       [  5.50979656e-04,   6.04424869e-03,  -9.69691802e-01,\n",
       "          1.76897821e-01,  -1.66833574e-01,   2.01527386e-02,\n",
       "         -6.51232505e-03,   7.05582007e-03,  -5.06249593e-03,\n",
       "         -9.78477334e-04,   3.11772969e-03,  -1.76581487e-04,\n",
       "          1.65166740e-04],\n",
       "       [ -3.45437893e-04,   1.86316930e-04,  -7.66762206e-02,\n",
       "          2.95907133e-01,   7.75741218e-01,  -3.46819577e-02,\n",
       "         -5.50114752e-01,  -2.95200640e-02,  -9.15824821e-03,\n",
       "          2.52730324e-04,  -7.31933383e-05,  -2.96368862e-04,\n",
       "         -7.68609246e-04],\n",
       "       [  6.66843460e-05,   9.04521332e-06,  -3.06395876e-03,\n",
       "          2.17044077e-05,  -5.37585171e-04,   5.31647063e-05,\n",
       "         -1.92714673e-04,  -1.83260428e-03,  -7.14185238e-03,\n",
       "          2.70820013e-02,  -9.87601293e-01,   4.99770597e-02,\n",
       "          1.46111119e-01]])"
      ]
     },
     "execution_count": 24,
     "metadata": {},
     "output_type": "execute_result"
    }
   ],
   "source": [
    "v_dec"
   ]
  },
  {
   "cell_type": "code",
   "execution_count": 25,
   "metadata": {},
   "outputs": [
    {
     "data": {
      "text/plain": [
       "1.0000000000200691"
      ]
     },
     "execution_count": 25,
     "metadata": {},
     "output_type": "execute_result"
    }
   ],
   "source": [
    "la.norm(v[0])"
   ]
  },
  {
   "cell_type": "code",
   "execution_count": 26,
   "metadata": {},
   "outputs": [
    {
     "data": {
      "text/plain": [
       "0.99999999997723232"
      ]
     },
     "execution_count": 26,
     "metadata": {},
     "output_type": "execute_result"
    }
   ],
   "source": [
    "la.norm(v[1])"
   ]
  },
  {
   "cell_type": "code",
   "execution_count": 27,
   "metadata": {},
   "outputs": [
    {
     "data": {
      "text/plain": [
       "2.0404657130601578e-10"
      ]
     },
     "execution_count": 27,
     "metadata": {},
     "output_type": "execute_result"
    }
   ],
   "source": [
    "np.dot(v[0],v[1])"
   ]
  },
  {
   "cell_type": "markdown",
   "metadata": {},
   "source": [
    "taxa de variância explicada "
   ]
  },
  {
   "cell_type": "code",
   "execution_count": 28,
   "metadata": {},
   "outputs": [
    {
     "data": {
      "text/plain": [
       "array([  9.64674390e-01,   3.51990945e-02,   8.45900077e-05,\n",
       "         1.51832384e-05,   1.21614107e-05,   1.10235866e-05,\n",
       "         2.54180895e-06,   8.68864220e-07,   1.34545320e-07,\n",
       "         9.25450065e-09,   7.99203785e-10,   1.14243294e-09,\n",
       "         1.19262729e-09])"
      ]
     },
     "execution_count": 28,
     "metadata": {},
     "output_type": "execute_result"
    }
   ],
   "source": [
    "EVR=w/np.sum(w)\n",
    "EVR"
   ]
  }
 ],
 "metadata": {
  "kernelspec": {
   "display_name": "Python 3",
   "language": "python",
   "name": "python3"
  },
  "language_info": {
   "codemirror_mode": {
    "name": "ipython",
    "version": 3
   },
   "file_extension": ".py",
   "mimetype": "text/x-python",
   "name": "python",
   "nbconvert_exporter": "python",
   "pygments_lexer": "ipython3",
   "version": "3.6.3"
  }
 },
 "nbformat": 4,
 "nbformat_minor": 2
}
