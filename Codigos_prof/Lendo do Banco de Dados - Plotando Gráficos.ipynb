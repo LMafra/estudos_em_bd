{
 "cells": [
  {
   "cell_type": "markdown",
   "metadata": {},
   "source": [
    "# Lendo do Banco de dados\n",
    "\n",
    "- Lucas Mafra - 12/0126443\n",
    "- Luíza Aguiar Hansen - 140026711"
   ]
  },
  {
   "cell_type": "code",
   "execution_count": 1,
   "metadata": {
    "scrolled": true
   },
   "outputs": [],
   "source": [
    "from __future__ import print_function\n",
    "from datetime import date, datetime, timedelta\n",
    "import mysql.connector"
   ]
  },
  {
   "cell_type": "code",
   "execution_count": 2,
   "metadata": {
    "scrolled": true
   },
   "outputs": [],
   "source": [
    "cnx = mysql.connector.connect(user='root', database='estudos_em')\n",
    "cursor = cnx.cursor()"
   ]
  },
  {
   "cell_type": "code",
   "execution_count": 3,
   "metadata": {
    "scrolled": true
   },
   "outputs": [
    {
     "name": "stdout",
     "output_type": "stream",
     "text": [
      "(100068, '2', '1986-06-15 00:00:00.000', '128', '1', '1', '32', 1, 1, '20032', '20032', '4096', '20081', '1024', '240', '232')\n"
     ]
    }
   ],
   "source": [
    "sql = \"SELECT * FROM alunos where sexo = 2\"\n",
    "cursor.execute(sql)\n",
    "results = cursor.fetchall()\n",
    "print(results[1])"
   ]
  },
  {
   "cell_type": "code",
   "execution_count": 4,
   "metadata": {},
   "outputs": [],
   "source": [
    "cnx.close()"
   ]
  },
  {
   "cell_type": "markdown",
   "metadata": {},
   "source": [
    "# Código"
   ]
  },
  {
   "cell_type": "code",
   "execution_count": 5,
   "metadata": {},
   "outputs": [],
   "source": [
    "import pandas as pd\n",
    "from collections import OrderedDict\n",
    "from datetime import date"
   ]
  },
  {
   "cell_type": "code",
   "execution_count": 6,
   "metadata": {},
   "outputs": [],
   "source": [
    "import numpy as np\n",
    "import numpy.linalg as la\n",
    "import csv\n",
    "import sqlite3"
   ]
  },
  {
   "cell_type": "markdown",
   "metadata": {},
   "source": [
    "transformando a tupla em matriz"
   ]
  },
  {
   "cell_type": "code",
   "execution_count": 7,
   "metadata": {},
   "outputs": [],
   "source": [
    "lista = []\n",
    "for y in range(0, len(results)):\n",
    "    lista.append([])\n",
    "    for x in range(len(results[y])):\n",
    "        lista[y].append(0)\n",
    "        lista[y][x] = results[y][x]"
   ]
  },
  {
   "cell_type": "markdown",
   "metadata": {},
   "source": [
    "utiliza uma parte da matriz"
   ]
  },
  {
   "cell_type": "code",
   "execution_count": 8,
   "metadata": {},
   "outputs": [
    {
     "name": "stdout",
     "output_type": "stream",
     "text": [
      "[101528, '2', '1985-02-24 00:00:00.000', '128', '1', '1', '32', 2, 2, '20041', '20041', '128', '20092', '1024', '180', '178']\n"
     ]
    }
   ],
   "source": [
    "matrix_general = lista[0:6778]\n",
    "print(matrix_general[5])\n"
   ]
  },
  {
   "cell_type": "markdown",
   "metadata": {},
   "source": [
    "# Curva de Andrews - Mulheres \n",
    "Análise das formas de saída do curso"
   ]
  },
  {
   "cell_type": "code",
   "execution_count": 9,
   "metadata": {
    "scrolled": false
   },
   "outputs": [
    {
     "name": "stdout",
     "output_type": "stream",
     "text": [
      "[100066, '2', '1985-03-29 00:00:00.000', '128', '1', '1', '64', 64, 8, '20032', '20032', '4096', '20081', '1024', '274', '282']\n",
      "6778\n",
      "6778\n"
     ]
    }
   ],
   "source": [
    "print(matrix_general[0])\n",
    "\n",
    "for y in range(0, len(matrix_general)):\n",
    "    del(matrix_general[y][3]) #deletando UF\n",
    "    del(matrix_general[y][2]) #deletando Data Nascimento\n",
    "    del(matrix_general[y][1]) #deletando Sexo\n",
    "    del(matrix_general[y][0]) #deletando ID\n",
    "    \n",
    "    for x in range(0, len(matrix_general[y])):\n",
    "        if(matrix_general[y][x] != ''):\n",
    "            matrix_general[y][x] = int(matrix_general[y][x])\n",
    "        else:\n",
    "            matrix_general[y][x] = 0\n",
    "        if(x == 9): \n",
    "            if(matrix_general[y][9] == 2 or matrix_general[y][9] == 4 or matrix_general[y][9] == 32 or matrix_general[y][9] == 128 or matrix_general[y][9] == 32768):\n",
    "                matrix_general[y][9] = 2 # Pessoas que foram desligadas \n",
    "            if(matrix_general[y][9] == 1024):\n",
    "                matrix_general[y][9] = 3  # Pessoas Formadas\n",
    "            if(matrix_general[y][9] == 2048 or matrix_general[y][9] == 4096 or matrix_general[y][9] == 65536 or matrix_general[y][9] == 131072): \n",
    "                matrix_general[y][9] = 4 # Pessoas que mudaram de curso\n",
    "            if(matrix_general[y][9] == 8 or matrix_general[y][9] == 16 or matrix_general[y][9] == 64 or matrix_general[y][9] == 256 or matrix_general[y][9] == 16384 or matrix_general[y][9] == 512 ):\n",
    "                matrix_general[y][9] = 5  # Outros (desligadas judicialmente, por convênio, intercâmbio, por documentação. Alunos que faleceram e outros)\n",
    "            if(matrix_general[y][9] == 8192):\n",
    "                matrix_general[y][9] = 6  # Pessoas que refizeram vestibular para entrar no curso\n",
    "    \n",
    "print(matrix_general[0])\n",
    "print(len(matrix_general))\n",
    "print(len(lista))\n",
    "print(lista[0])\n"
   ]
  },
  {
   "cell_type": "code",
   "execution_count": 10,
   "metadata": {},
   "outputs": [],
   "source": [
    "import pandas as pd\n",
    "import seaborn as sns\n",
    "from pandas.tools.plotting import andrews_curves\n",
    "import warnings # current version of seaborn generates a bunch of warnings that we'll ignore\n",
    "warnings.filterwarnings(\"ignore\")\n",
    "import seaborn as sns\n",
    "import matplotlib.pyplot as plt"
   ]
  },
  {
   "cell_type": "code",
   "execution_count": 11,
   "metadata": {
    "scrolled": false
   },
   "outputs": [
    {
     "data": {
      "image/png": "[encoded data removed]",
      "text/plain": [
       "<Figure size 432x288 with 1 Axes>"
      ]
     },
     "metadata": {},
     "output_type": "display_data"
    }
   ],
   "source": [
    "sns.set(style=\"white\", color_codes=True)\n",
    "\n",
    "\n",
    "bxg = pd.DataFrame(matrix_general)\n",
    "# the iris dataset is now a Pandas DataFrame\n",
    "\n",
    "# Let's see what's in the iris data - Jupyter notebooks print the result of the last thing you do\n",
    "\n",
    "#print(bxg.head())\n",
    "\n",
    "# Let's see how many examples we have of each species\n",
    "\n",
    "andrews_curves(bxg, 9)\n",
    "\n",
    "\n",
    "plt.title(\"Curva de Andrews analisando o status das Mulheres nos cursos de Tecnologia\")\n",
    "plt.legend(loc = 'best')\n",
    "plt.show()\n"
   ]
  },
  {
   "cell_type": "raw",
   "metadata": {},
   "source": [
    "print(matrix_girls[0])\n",
    "\n",
    "for y in range(0, len(matrix_girls)):\n",
    "    del(matrix_girls[y][1]) #deletando Sexo\n",
    "\n",
    "    \n",
    "    for x in range(0, len(matrix_girls[y])):\n",
    "        if(matrix_girls[y][x] != ''):\n",
    "            matrix_girls[y][x] = int(matrix_girls[y][x])\n",
    "        else:\n",
    "            matrix_girls[y][x] = 0\n",
    "        if(x == 10):\n",
    "            if(matrix_girls[y][9] != 1 and matrix_girls[y][10] != 1024): # 1 = Ativo, 1024 = Formatura\n",
    "                matrix_girls[y][9] = 2\n",
    "            if(matrix_girls[y][9] == 1024): \n",
    "                matrix_girls[y][9] = 3 # Pessoas formadas\n",
    "    \n",
    "\n",
    "print(matrix_girls[0])\n",
    "print(len(matrix_girls))\n",
    "print(len(lista))\n",
    "print(lista[0])"
   ]
  },
  {
   "cell_type": "raw",
   "metadata": {
    "scrolled": false
   },
   "source": [
    "# sns.set(style=\"white\", color_codes=True)\n",
    "\n",
    "# Next, we'll load the Iris flower dataset, which is in the \"../input/\" directory\n",
    "girl = pd.DataFrame(matrix_girls) # the iris dataset is now a Pandas DataFrame\n",
    "\n",
    "# Let's see what's in the iris data - Jupyter notebooks print the result of the last thing you do\n",
    "#print(girls.head())\n",
    "\n",
    "# Let's see how many examples we have of each species\n",
    "\n",
    "print(matrix_girls[0])\n",
    "\n",
    "andrews_curves(girl, 6)\n",
    "\n",
    "plt.legend(loc='best')\n",
    "plt.show()"
   ]
  },
  {
   "cell_type": "markdown",
   "metadata": {},
   "source": [
    "# Coordenadas paralelas"
   ]
  },
  {
   "cell_type": "code",
   "execution_count": 43,
   "metadata": {
    "scrolled": false
   },
   "outputs": [
    {
     "name": "stdout",
     "output_type": "stream",
     "text": [
      "      0   1    2   3   4      5      6     7      8   9    10   11\n",
      "0      1   1   64  64   8  20032  20032  4096  20081   3  274  282\n",
      "1      1   1   32   1   1  20032  20032  4096  20081   3  240  232\n",
      "2      1   1   32   1   1  20032  20032    16  20042   2  240    6\n",
      "3      1   1    1   2   2  20041  20041   128  20091   2  180  110\n",
      "4      1   1   32   2   2  20041  20041   128  20061   2  180   42\n",
      "5      1   1   32   2   2  20041  20041   128  20092   3  180  178\n",
      "6      1   1   32  64   8  20041  20041   128  20082   3  274  255\n",
      "7      1   1   32  64   8  20041  20041   128  20092   3  274  249\n",
      "8      1   1   32  16  16  20041  20041   128  20092   2  244  156\n",
      "9      1   1   32   1   1  20041  20041   128  20081   3  240  226\n",
      "10     1   1   32  16  16  20041  20041   128  20081   3  244  222\n",
      "11     1   1   32  16  16  20041  20041   128  20081   3  244  240\n",
      "12     1   1  128   1   1  20041  20041   128  20061   2  240   80\n",
      "13     1   1    2   1   1  20041  20041   128  20102   2  240  166\n",
      "14     1   1   32   1   1  20041  20041   128  20062   2  240   58\n",
      "15     1   2   64  16  16  20041  20041   128  20112   3  244  264\n",
      "16     1   1    2   1   1  20041  20072   128  20101   3  240  268\n",
      "17     1   1   32   1   1  20041  20081   128  20102   2  240  186\n",
      "18     1   1   32  16  16  20041  20041   128  20081   3  244  234\n",
      "19     1   1    2   2   2  20041  20041   128  20071   2  180   68\n",
      "20     1   1   32   2   2  20041  20041   128  20061   2  180   42\n",
      "21     1   2    2   2   2  20041  20041   128  20102   3  180  182\n",
      "22     1   1   32   1   1  20041  20041   128  20052   2  240   14\n",
      "23     1   1   32   2   2  20041  20041   128  20072   2  180   32\n",
      "24     1   1   32   2   2  20041  20041   128  20062   2  180   44\n",
      "25     1   1   32   1   1  20041  20041   128  20082   2  240  116\n",
      "26     1   1   32  64   8  20041  20041   128  20091   3  274  271\n",
      "27     1   1   32  64   8  20041  20041   128  20082   3  274  261\n",
      "28     1   1   32   1   1  20041  20041   128  20082   3  240  228\n",
      "29     1   1   32  64   8  20041  20041   128  20082   3  274  245\n",
      "...   ..  ..  ...  ..  ..    ...    ...   ...    ...  ..  ...  ...\n",
      "4970   1   1   32   1   1  19961  19961  4096  19971   2  242   10\n",
      "4971   1   1   32   1   1  19961  19961  4096  20022   2  242  154\n",
      "4972   1   1   32   1   1  19961  19961  4096  19981   2  242   26\n",
      "4973   1   1   32   1   1  19961  19961  4096  19971   2  242    0\n",
      "4974   1   1   32   1   1  19962  19962  4096  20012   3  240  242\n",
      "4975   1   1   32   1   1  19962  19962  4096  20031   2  242  176\n",
      "4976   1   1   32   1   1  19962  19962  4096  20011   3  242  244\n",
      "4977   1   1   32   1   1  19962  19962  4096  20021   3  242  242\n",
      "4978   1   1   32   1   1  19962  19962  4096  20022   3  242  226\n",
      "4979   1   1   32   1   1  19962  19962  4096  20021   3  242  238\n",
      "4980   1   1   32   1   1  19962  19962  4096  20012   3  240  246\n",
      "4981   1   1   32   1   1  19962  19962  4096  20022   3  242  232\n",
      "4982   1   1   32   1   1  19962  19962  4096  20002   3  242  216\n",
      "4983   1   1   32   1   1  19962  19962  4096  20022   2  242  214\n",
      "4984   1   1   32   1   1  19962  19962  4096  20032   3  242  240\n",
      "4985   1   1   32   1   1  19962  19962  4096  20021   3  242  228\n",
      "4986   1   1   32   1   1  19962  19962  4096  20012   3  242  242\n",
      "4987   1   1   32   1   1  19962  19962  4096  20021   3  242  300\n",
      "4988   1   1   32   1   1  19962  19962  4096  20042   3  242  234\n",
      "4989   1   1   32   1   1  19962  19962  4096  19971   2  242    8\n",
      "4990   1   1   32   1   1  19962  19962  4096  19972   2  242   12\n",
      "4991   1   1   32   1   1  19962  19962  4096  20011   3  242  238\n",
      "4992   1   1   32   1   1  19962  19962  4096  20022   3  242  230\n",
      "4993   1   1   32   1   1  19962  19962  4096  20011   3  242  230\n",
      "4994   1   1   32   1   1  19962  19962  4096  20032   3  240  238\n",
      "4995   1   1   32   1   1  19962  19962  4096  20002   4  242   76\n",
      "4996   1   1   32   1   1  19962  19962  4096  19972   2  242   32\n",
      "4997   1   1   32   1   1  19961  19961  2048  20012   3  242  226\n",
      "4998   1   1   32   1   1  19961  19961  2048  19971   2  242   16\n",
      "4999   1   1   32   1   1  19961  19961  2048  20002   3  242  224\n",
      "\n",
      "[5000 rows x 12 columns]\n"
     ]
    },
    {
     "data": {
      "image/png": "[encoded data removed]",
      "text/plain": [
       "<Figure size 432x288 with 1 Axes>"
      ]
     },
     "metadata": {},
     "output_type": "display_data"
    }
   ],
   "source": [
    "import pandas as pd\n",
    "import matplotlib.pyplot as plt\n",
    "from pandas.tools.plotting import parallel_coordinates\n",
    "\n",
    "data = pd.DataFrame(matrix_general)\n",
    "#data = pandas.read_csv(r'C:\\Python27\\Lib\\site-packages\\pandas\\tests\\data\\iris.csv', sep=',')\n",
    "data2 = data[[0,1,2,3,4,5,6,7,8,9,10,11]]\n",
    "print(data2)\n",
    "parallel_coordinates(data2, 9,color=['r','g','b'])\n",
    "plt.xlabel(\"Each Component of X is Shown on its Own Vertical Axis\")\n",
    "plt.ylabel(\"Values\")\n",
    "plt.title(\"Finding the Optimal Value of X\")\n",
    "plt.show()"
   ]
  },
  {
   "cell_type": "markdown",
   "metadata": {},
   "source": [
    "# PCA"
   ]
  },
  {
   "cell_type": "code",
   "execution_count": 44,
   "metadata": {},
   "outputs": [
    {
     "data": {
      "image/png": "[encoded data removed]",
      "text/plain": [
       "<Figure size 432x288 with 1 Axes>"
      ]
     },
     "metadata": {},
     "output_type": "display_data"
    }
   ],
   "source": [
    "import pandas as pd\n",
    "import seaborn as sns\n",
    "from pandas.tools.plotting import radviz\n",
    "# We'll also import seaborn, a Python graphing library\n",
    "import warnings # current version of seaborn generates a bunch of warnings that we'll ignore\n",
    "warnings.filterwarnings(\"ignore\")\n",
    "import seaborn as sns\n",
    "import matplotlib.pyplot as plt\n",
    "from sklearn.decomposition import PCA as sklearnPCA\n",
    "\n",
    "sns.set(style=\"white\", color_codes=True)\n",
    "\n",
    "# Next, we'll load the Iris flower dataset, which is in the \"../input/\" directory\n",
    "iris = pd.DataFrame(matrix_general)\n",
    "# iris = pd.read_csv(\"iris.csv\") # the iris dataset is now a Pandas DataFrame\n",
    "\n",
    "X_std = iris.ix[:,0:11].values\n",
    "y = iris.ix[:,9].values\n",
    "# Let's see how many examples we have of each species\n",
    "sklearn_pca = sklearnPCA(n_components=2)\n",
    "Y_sklearn = sklearn_pca.fit_transform(X_std)\n",
    "\n",
    "with plt.style.context('seaborn-whitegrid'):\n",
    "    plt.figure(figsize=(6, 4))\n",
    "    for lab, col in zip((1, 2, 3),\n",
    "                        ('blue', 'red', 'green')):\n",
    "        plt.scatter(Y_sklearn[y==lab, 0],\n",
    "                    Y_sklearn[y==lab, 1],\n",
    "                    label=lab,\n",
    "                    c=col)\n",
    "    plt.xlabel('Principal Component 1')\n",
    "    plt.ylabel('Principal Component 2')\n",
    "    plt.legend(loc='best')\n",
    "    plt.tight_layout()\n",
    "    plt.show()\n",
    "\n",
    "\n",
    "plt.show()"
   ]
  },
  {
   "cell_type": "markdown",
   "metadata": {},
   "source": [
    "https://xaoquadrado.wordpress.com/2014/06/24/1161/"
   ]
  },
  {
   "cell_type": "markdown",
   "metadata": {
    "collapsed": true
   },
   "source": [
    "# Calculando a matriz de covariância"
   ]
  },
  {
   "cell_type": "code",
   "execution_count": 14,
   "metadata": {
    "collapsed": true
   },
   "outputs": [],
   "source": [
    "data = pd.DataFrame(matrix_general)\n",
    "cov = data.cov()"
   ]
  },
  {
   "cell_type": "code",
   "execution_count": 15,
   "metadata": {},
   "outputs": [
    {
     "data": {
      "text/html": [
       "<div>\n",
       "<style>\n",
       "    .dataframe thead tr:only-child th {\n",
       "        text-align: right;\n",
       "    }\n",
       "\n",
       "    .dataframe thead th {\n",
       "        text-align: left;\n",
       "    }\n",
       "\n",
       "    .dataframe tbody tr th {\n",
       "        vertical-align: top;\n",
       "    }\n",
       "</style>\n",
       "<table border=\"1\" class=\"dataframe\">\n",
       "  <thead>\n",
       "    <tr style=\"text-align: right;\">\n",
       "      <th></th>\n",
       "      <th>0</th>\n",
       "      <th>1</th>\n",
       "      <th>2</th>\n",
       "      <th>3</th>\n",
       "      <th>4</th>\n",
       "      <th>5</th>\n",
       "      <th>6</th>\n",
       "      <th>7</th>\n",
       "      <th>8</th>\n",
       "      <th>9</th>\n",
       "      <th>10</th>\n",
       "      <th>11</th>\n",
       "    </tr>\n",
       "  </thead>\n",
       "  <tbody>\n",
       "    <tr>\n",
       "      <th>0</th>\n",
       "      <td>0.152187</td>\n",
       "      <td>0.161875</td>\n",
       "      <td>4.798436</td>\n",
       "      <td>0.275143</td>\n",
       "      <td>0.208665</td>\n",
       "      <td>4.626031</td>\n",
       "      <td>4.569586</td>\n",
       "      <td>2.952335e+01</td>\n",
       "      <td>-4.884566e+02</td>\n",
       "      <td>-0.043832</td>\n",
       "      <td>0.196789</td>\n",
       "      <td>-6.836487</td>\n",
       "    </tr>\n",
       "    <tr>\n",
       "      <th>1</th>\n",
       "      <td>0.161875</td>\n",
       "      <td>1.194989</td>\n",
       "      <td>5.660171</td>\n",
       "      <td>1.575964</td>\n",
       "      <td>1.618010</td>\n",
       "      <td>30.200754</td>\n",
       "      <td>30.147371</td>\n",
       "      <td>-1.664388e+02</td>\n",
       "      <td>-2.836458e+03</td>\n",
       "      <td>-0.219188</td>\n",
       "      <td>-0.470948</td>\n",
       "      <td>-15.675782</td>\n",
       "    </tr>\n",
       "    <tr>\n",
       "      <th>2</th>\n",
       "      <td>4.798436</td>\n",
       "      <td>5.660171</td>\n",
       "      <td>987.474948</td>\n",
       "      <td>3.082097</td>\n",
       "      <td>14.670555</td>\n",
       "      <td>50.862769</td>\n",
       "      <td>48.002600</td>\n",
       "      <td>1.723500e+03</td>\n",
       "      <td>4.323907e+03</td>\n",
       "      <td>-0.318119</td>\n",
       "      <td>-33.876655</td>\n",
       "      <td>-204.934913</td>\n",
       "    </tr>\n",
       "    <tr>\n",
       "      <th>3</th>\n",
       "      <td>0.275143</td>\n",
       "      <td>1.575964</td>\n",
       "      <td>3.082097</td>\n",
       "      <td>518.537436</td>\n",
       "      <td>92.547500</td>\n",
       "      <td>175.386148</td>\n",
       "      <td>171.781548</td>\n",
       "      <td>-9.255964e+02</td>\n",
       "      <td>-2.570377e+04</td>\n",
       "      <td>-0.976991</td>\n",
       "      <td>433.065096</td>\n",
       "      <td>304.358137</td>\n",
       "    </tr>\n",
       "    <tr>\n",
       "      <th>4</th>\n",
       "      <td>0.208665</td>\n",
       "      <td>1.618010</td>\n",
       "      <td>14.670555</td>\n",
       "      <td>92.547500</td>\n",
       "      <td>97.865275</td>\n",
       "      <td>115.936654</td>\n",
       "      <td>115.350920</td>\n",
       "      <td>-7.876075e+02</td>\n",
       "      <td>-2.007896e+04</td>\n",
       "      <td>-1.114261</td>\n",
       "      <td>77.331010</td>\n",
       "      <td>58.112979</td>\n",
       "    </tr>\n",
       "    <tr>\n",
       "      <th>5</th>\n",
       "      <td>4.626031</td>\n",
       "      <td>30.200754</td>\n",
       "      <td>50.862769</td>\n",
       "      <td>175.386148</td>\n",
       "      <td>115.936654</td>\n",
       "      <td>2852.763424</td>\n",
       "      <td>2844.255130</td>\n",
       "      <td>-2.042939e+04</td>\n",
       "      <td>-2.704042e+05</td>\n",
       "      <td>-22.785331</td>\n",
       "      <td>-44.415943</td>\n",
       "      <td>-1516.500718</td>\n",
       "    </tr>\n",
       "    <tr>\n",
       "      <th>6</th>\n",
       "      <td>4.569586</td>\n",
       "      <td>30.147371</td>\n",
       "      <td>48.002600</td>\n",
       "      <td>171.781548</td>\n",
       "      <td>115.350920</td>\n",
       "      <td>2844.255130</td>\n",
       "      <td>2857.812151</td>\n",
       "      <td>-2.048086e+04</td>\n",
       "      <td>-2.708596e+05</td>\n",
       "      <td>-22.795094</td>\n",
       "      <td>-41.309005</td>\n",
       "      <td>-1473.608947</td>\n",
       "    </tr>\n",
       "    <tr>\n",
       "      <th>7</th>\n",
       "      <td>29.523353</td>\n",
       "      <td>-166.438808</td>\n",
       "      <td>1723.500078</td>\n",
       "      <td>-925.596418</td>\n",
       "      <td>-787.607473</td>\n",
       "      <td>-20429.394742</td>\n",
       "      <td>-20480.858083</td>\n",
       "      <td>3.212383e+06</td>\n",
       "      <td>2.881220e+06</td>\n",
       "      <td>239.908410</td>\n",
       "      <td>-317.677372</td>\n",
       "      <td>19937.888396</td>\n",
       "    </tr>\n",
       "    <tr>\n",
       "      <th>8</th>\n",
       "      <td>-488.456647</td>\n",
       "      <td>-2836.457876</td>\n",
       "      <td>4323.907339</td>\n",
       "      <td>-25703.769037</td>\n",
       "      <td>-20078.961879</td>\n",
       "      <td>-270404.220242</td>\n",
       "      <td>-270859.613310</td>\n",
       "      <td>2.881220e+06</td>\n",
       "      <td>9.183821e+07</td>\n",
       "      <td>6162.561918</td>\n",
       "      <td>-26100.649448</td>\n",
       "      <td>108772.433833</td>\n",
       "    </tr>\n",
       "    <tr>\n",
       "      <th>9</th>\n",
       "      <td>-0.043832</td>\n",
       "      <td>-0.219188</td>\n",
       "      <td>-0.318119</td>\n",
       "      <td>-0.976991</td>\n",
       "      <td>-1.114261</td>\n",
       "      <td>-22.785331</td>\n",
       "      <td>-22.795094</td>\n",
       "      <td>2.399084e+02</td>\n",
       "      <td>6.162562e+03</td>\n",
       "      <td>0.561768</td>\n",
       "      <td>-0.327441</td>\n",
       "      <td>30.708959</td>\n",
       "    </tr>\n",
       "    <tr>\n",
       "      <th>10</th>\n",
       "      <td>0.196789</td>\n",
       "      <td>-0.470948</td>\n",
       "      <td>-33.876655</td>\n",
       "      <td>433.065096</td>\n",
       "      <td>77.331010</td>\n",
       "      <td>-44.415943</td>\n",
       "      <td>-41.309005</td>\n",
       "      <td>-3.176774e+02</td>\n",
       "      <td>-2.610065e+04</td>\n",
       "      <td>-0.327441</td>\n",
       "      <td>904.725686</td>\n",
       "      <td>458.186139</td>\n",
       "    </tr>\n",
       "    <tr>\n",
       "      <th>11</th>\n",
       "      <td>-6.836487</td>\n",
       "      <td>-15.675782</td>\n",
       "      <td>-204.934913</td>\n",
       "      <td>304.358137</td>\n",
       "      <td>58.112979</td>\n",
       "      <td>-1516.500718</td>\n",
       "      <td>-1473.608947</td>\n",
       "      <td>1.993789e+04</td>\n",
       "      <td>1.087724e+05</td>\n",
       "      <td>30.708959</td>\n",
       "      <td>458.186139</td>\n",
       "      <td>7944.012949</td>\n",
       "    </tr>\n",
       "  </tbody>\n",
       "</table>\n",
       "</div>"
      ],
      "text/plain": [
       "            0            1            2             3             4   \\\n",
       "0     0.152187     0.161875     4.798436      0.275143      0.208665   \n",
       "1     0.161875     1.194989     5.660171      1.575964      1.618010   \n",
       "2     4.798436     5.660171   987.474948      3.082097     14.670555   \n",
       "3     0.275143     1.575964     3.082097    518.537436     92.547500   \n",
       "4     0.208665     1.618010    14.670555     92.547500     97.865275   \n",
       "5     4.626031    30.200754    50.862769    175.386148    115.936654   \n",
       "6     4.569586    30.147371    48.002600    171.781548    115.350920   \n",
       "7    29.523353  -166.438808  1723.500078   -925.596418   -787.607473   \n",
       "8  -488.456647 -2836.457876  4323.907339 -25703.769037 -20078.961879   \n",
       "9    -0.043832    -0.219188    -0.318119     -0.976991     -1.114261   \n",
       "10    0.196789    -0.470948   -33.876655    433.065096     77.331010   \n",
       "11   -6.836487   -15.675782  -204.934913    304.358137     58.112979   \n",
       "\n",
       "               5              6             7             8            9   \\\n",
       "0        4.626031       4.569586  2.952335e+01 -4.884566e+02    -0.043832   \n",
       "1       30.200754      30.147371 -1.664388e+02 -2.836458e+03    -0.219188   \n",
       "2       50.862769      48.002600  1.723500e+03  4.323907e+03    -0.318119   \n",
       "3      175.386148     171.781548 -9.255964e+02 -2.570377e+04    -0.976991   \n",
       "4      115.936654     115.350920 -7.876075e+02 -2.007896e+04    -1.114261   \n",
       "5     2852.763424    2844.255130 -2.042939e+04 -2.704042e+05   -22.785331   \n",
       "6     2844.255130    2857.812151 -2.048086e+04 -2.708596e+05   -22.795094   \n",
       "7   -20429.394742  -20480.858083  3.212383e+06  2.881220e+06   239.908410   \n",
       "8  -270404.220242 -270859.613310  2.881220e+06  9.183821e+07  6162.561918   \n",
       "9      -22.785331     -22.795094  2.399084e+02  6.162562e+03     0.561768   \n",
       "10     -44.415943     -41.309005 -3.176774e+02 -2.610065e+04    -0.327441   \n",
       "11   -1516.500718   -1473.608947  1.993789e+04  1.087724e+05    30.708959   \n",
       "\n",
       "              10             11  \n",
       "0       0.196789      -6.836487  \n",
       "1      -0.470948     -15.675782  \n",
       "2     -33.876655    -204.934913  \n",
       "3     433.065096     304.358137  \n",
       "4      77.331010      58.112979  \n",
       "5     -44.415943   -1516.500718  \n",
       "6     -41.309005   -1473.608947  \n",
       "7    -317.677372   19937.888396  \n",
       "8  -26100.649448  108772.433833  \n",
       "9      -0.327441      30.708959  \n",
       "10    904.725686     458.186139  \n",
       "11    458.186139    7944.012949  "
      ]
     },
     "execution_count": 15,
     "metadata": {},
     "output_type": "execute_result"
    }
   ],
   "source": [
    "cov"
   ]
  },
  {
   "cell_type": "code",
   "execution_count": 16,
   "metadata": {
    "collapsed": true
   },
   "outputs": [],
   "source": [
    "# plt.imshow(cov, cmap='hot', interpolation='none')  \n",
    "# plt.colorbar()  \n",
    "# plt.xticks(range(len(cov)), cov.columns)  \n",
    "# plt.yticks(range(len(cov)), cov.columns);  \n",
    "# # plt.savefig(\"correl.png\")  \n",
    "# plt.show()  "
   ]
  },
  {
   "cell_type": "code",
   "execution_count": 17,
   "metadata": {},
   "outputs": [
    {
     "data": {
      "text/html": [
       "<div>\n",
       "<style>\n",
       "    .dataframe thead tr:only-child th {\n",
       "        text-align: right;\n",
       "    }\n",
       "\n",
       "    .dataframe thead th {\n",
       "        text-align: left;\n",
       "    }\n",
       "\n",
       "    .dataframe tbody tr th {\n",
       "        vertical-align: top;\n",
       "    }\n",
       "</style>\n",
       "<table border=\"1\" class=\"dataframe\">\n",
       "  <thead>\n",
       "    <tr style=\"text-align: right;\">\n",
       "      <th></th>\n",
       "      <th>0</th>\n",
       "      <th>1</th>\n",
       "      <th>2</th>\n",
       "      <th>3</th>\n",
       "      <th>4</th>\n",
       "      <th>5</th>\n",
       "      <th>6</th>\n",
       "      <th>7</th>\n",
       "      <th>8</th>\n",
       "      <th>9</th>\n",
       "      <th>10</th>\n",
       "      <th>11</th>\n",
       "    </tr>\n",
       "  </thead>\n",
       "  <tbody>\n",
       "    <tr>\n",
       "      <th>0</th>\n",
       "      <td>1.000000</td>\n",
       "      <td>0.379585</td>\n",
       "      <td>0.391425</td>\n",
       "      <td>0.030973</td>\n",
       "      <td>0.054069</td>\n",
       "      <td>0.222018</td>\n",
       "      <td>0.219115</td>\n",
       "      <td>0.042224</td>\n",
       "      <td>-0.130655</td>\n",
       "      <td>-0.149909</td>\n",
       "      <td>0.016771</td>\n",
       "      <td>-0.196619</td>\n",
       "    </tr>\n",
       "    <tr>\n",
       "      <th>1</th>\n",
       "      <td>0.379585</td>\n",
       "      <td>1.000000</td>\n",
       "      <td>0.164772</td>\n",
       "      <td>0.063310</td>\n",
       "      <td>0.149618</td>\n",
       "      <td>0.517253</td>\n",
       "      <td>0.515882</td>\n",
       "      <td>-0.084949</td>\n",
       "      <td>-0.270759</td>\n",
       "      <td>-0.267520</td>\n",
       "      <td>-0.014323</td>\n",
       "      <td>-0.160889</td>\n",
       "    </tr>\n",
       "    <tr>\n",
       "      <th>2</th>\n",
       "      <td>0.391425</td>\n",
       "      <td>0.164772</td>\n",
       "      <td>1.000000</td>\n",
       "      <td>0.004307</td>\n",
       "      <td>0.047192</td>\n",
       "      <td>0.030304</td>\n",
       "      <td>0.028575</td>\n",
       "      <td>0.030601</td>\n",
       "      <td>0.014358</td>\n",
       "      <td>-0.013507</td>\n",
       "      <td>-0.035841</td>\n",
       "      <td>-0.073170</td>\n",
       "    </tr>\n",
       "    <tr>\n",
       "      <th>3</th>\n",
       "      <td>0.030973</td>\n",
       "      <td>0.063310</td>\n",
       "      <td>0.004307</td>\n",
       "      <td>1.000000</td>\n",
       "      <td>0.410828</td>\n",
       "      <td>0.144202</td>\n",
       "      <td>0.141114</td>\n",
       "      <td>-0.022679</td>\n",
       "      <td>-0.117786</td>\n",
       "      <td>-0.057243</td>\n",
       "      <td>0.632273</td>\n",
       "      <td>0.149960</td>\n",
       "    </tr>\n",
       "    <tr>\n",
       "      <th>4</th>\n",
       "      <td>0.054069</td>\n",
       "      <td>0.149618</td>\n",
       "      <td>0.047192</td>\n",
       "      <td>0.410828</td>\n",
       "      <td>1.000000</td>\n",
       "      <td>0.219419</td>\n",
       "      <td>0.218117</td>\n",
       "      <td>-0.044420</td>\n",
       "      <td>-0.211795</td>\n",
       "      <td>-0.150278</td>\n",
       "      <td>0.259885</td>\n",
       "      <td>0.065908</td>\n",
       "    </tr>\n",
       "    <tr>\n",
       "      <th>5</th>\n",
       "      <td>0.222018</td>\n",
       "      <td>0.517253</td>\n",
       "      <td>0.030304</td>\n",
       "      <td>0.144202</td>\n",
       "      <td>0.219419</td>\n",
       "      <td>1.000000</td>\n",
       "      <td>0.996136</td>\n",
       "      <td>-0.213407</td>\n",
       "      <td>-0.528286</td>\n",
       "      <td>-0.569173</td>\n",
       "      <td>-0.027647</td>\n",
       "      <td>-0.318559</td>\n",
       "    </tr>\n",
       "    <tr>\n",
       "      <th>6</th>\n",
       "      <td>0.219115</td>\n",
       "      <td>0.515882</td>\n",
       "      <td>0.028575</td>\n",
       "      <td>0.141114</td>\n",
       "      <td>0.218117</td>\n",
       "      <td>0.996136</td>\n",
       "      <td>1.000000</td>\n",
       "      <td>-0.213756</td>\n",
       "      <td>-0.528708</td>\n",
       "      <td>-0.568913</td>\n",
       "      <td>-0.025690</td>\n",
       "      <td>-0.309275</td>\n",
       "    </tr>\n",
       "    <tr>\n",
       "      <th>7</th>\n",
       "      <td>0.042224</td>\n",
       "      <td>-0.084949</td>\n",
       "      <td>0.030601</td>\n",
       "      <td>-0.022679</td>\n",
       "      <td>-0.044420</td>\n",
       "      <td>-0.213407</td>\n",
       "      <td>-0.213756</td>\n",
       "      <td>1.000000</td>\n",
       "      <td>0.167746</td>\n",
       "      <td>0.178588</td>\n",
       "      <td>-0.005893</td>\n",
       "      <td>0.124809</td>\n",
       "    </tr>\n",
       "    <tr>\n",
       "      <th>8</th>\n",
       "      <td>-0.130655</td>\n",
       "      <td>-0.270759</td>\n",
       "      <td>0.014358</td>\n",
       "      <td>-0.117786</td>\n",
       "      <td>-0.211795</td>\n",
       "      <td>-0.528286</td>\n",
       "      <td>-0.528708</td>\n",
       "      <td>0.167746</td>\n",
       "      <td>1.000000</td>\n",
       "      <td>0.857968</td>\n",
       "      <td>-0.090548</td>\n",
       "      <td>0.127347</td>\n",
       "    </tr>\n",
       "    <tr>\n",
       "      <th>9</th>\n",
       "      <td>-0.149909</td>\n",
       "      <td>-0.267520</td>\n",
       "      <td>-0.013507</td>\n",
       "      <td>-0.057243</td>\n",
       "      <td>-0.150278</td>\n",
       "      <td>-0.569173</td>\n",
       "      <td>-0.568913</td>\n",
       "      <td>0.178588</td>\n",
       "      <td>0.857968</td>\n",
       "      <td>1.000000</td>\n",
       "      <td>-0.014524</td>\n",
       "      <td>0.459692</td>\n",
       "    </tr>\n",
       "    <tr>\n",
       "      <th>10</th>\n",
       "      <td>0.016771</td>\n",
       "      <td>-0.014323</td>\n",
       "      <td>-0.035841</td>\n",
       "      <td>0.632273</td>\n",
       "      <td>0.259885</td>\n",
       "      <td>-0.027647</td>\n",
       "      <td>-0.025690</td>\n",
       "      <td>-0.005893</td>\n",
       "      <td>-0.090548</td>\n",
       "      <td>-0.014524</td>\n",
       "      <td>1.000000</td>\n",
       "      <td>0.170908</td>\n",
       "    </tr>\n",
       "    <tr>\n",
       "      <th>11</th>\n",
       "      <td>-0.196619</td>\n",
       "      <td>-0.160889</td>\n",
       "      <td>-0.073170</td>\n",
       "      <td>0.149960</td>\n",
       "      <td>0.065908</td>\n",
       "      <td>-0.318559</td>\n",
       "      <td>-0.309275</td>\n",
       "      <td>0.124809</td>\n",
       "      <td>0.127347</td>\n",
       "      <td>0.459692</td>\n",
       "      <td>0.170908</td>\n",
       "      <td>1.000000</td>\n",
       "    </tr>\n",
       "  </tbody>\n",
       "</table>\n",
       "</div>"
      ],
      "text/plain": [
       "          0         1         2         3         4         5         6   \\\n",
       "0   1.000000  0.379585  0.391425  0.030973  0.054069  0.222018  0.219115   \n",
       "1   0.379585  1.000000  0.164772  0.063310  0.149618  0.517253  0.515882   \n",
       "2   0.391425  0.164772  1.000000  0.004307  0.047192  0.030304  0.028575   \n",
       "3   0.030973  0.063310  0.004307  1.000000  0.410828  0.144202  0.141114   \n",
       "4   0.054069  0.149618  0.047192  0.410828  1.000000  0.219419  0.218117   \n",
       "5   0.222018  0.517253  0.030304  0.144202  0.219419  1.000000  0.996136   \n",
       "6   0.219115  0.515882  0.028575  0.141114  0.218117  0.996136  1.000000   \n",
       "7   0.042224 -0.084949  0.030601 -0.022679 -0.044420 -0.213407 -0.213756   \n",
       "8  -0.130655 -0.270759  0.014358 -0.117786 -0.211795 -0.528286 -0.528708   \n",
       "9  -0.149909 -0.267520 -0.013507 -0.057243 -0.150278 -0.569173 -0.568913   \n",
       "10  0.016771 -0.014323 -0.035841  0.632273  0.259885 -0.027647 -0.025690   \n",
       "11 -0.196619 -0.160889 -0.073170  0.149960  0.065908 -0.318559 -0.309275   \n",
       "\n",
       "          7         8         9         10        11  \n",
       "0   0.042224 -0.130655 -0.149909  0.016771 -0.196619  \n",
       "1  -0.084949 -0.270759 -0.267520 -0.014323 -0.160889  \n",
       "2   0.030601  0.014358 -0.013507 -0.035841 -0.073170  \n",
       "3  -0.022679 -0.117786 -0.057243  0.632273  0.149960  \n",
       "4  -0.044420 -0.211795 -0.150278  0.259885  0.065908  \n",
       "5  -0.213407 -0.528286 -0.569173 -0.027647 -0.318559  \n",
       "6  -0.213756 -0.528708 -0.568913 -0.025690 -0.309275  \n",
       "7   1.000000  0.167746  0.178588 -0.005893  0.124809  \n",
       "8   0.167746  1.000000  0.857968 -0.090548  0.127347  \n",
       "9   0.178588  0.857968  1.000000 -0.014524  0.459692  \n",
       "10 -0.005893 -0.090548 -0.014524  1.000000  0.170908  \n",
       "11  0.124809  0.127347  0.459692  0.170908  1.000000  "
      ]
     },
     "execution_count": 17,
     "metadata": {},
     "output_type": "execute_result"
    }
   ],
   "source": [
    "corr = data.corr()\n",
    "corr"
   ]
  },
  {
   "cell_type": "code",
   "execution_count": 18,
   "metadata": {},
   "outputs": [
    {
     "data": {
      "image/png": "[encoded data removed]",
      "text/plain": [
       "<matplotlib.figure.Figure at 0x7f8f6d06aeb8>"
      ]
     },
     "metadata": {},
     "output_type": "display_data"
    }
   ],
   "source": [
    "plt.imshow(corr, cmap='hot', interpolation='none')  \n",
    "plt.colorbar()  \n",
    "plt.xticks(range(len(corr)), corr.columns)  \n",
    "plt.yticks(range(len(corr)), corr.columns);  \n",
    "# plt.savefig(\"correl.png\")  \n",
    "plt.show()  "
   ]
  },
  {
   "cell_type": "markdown",
   "metadata": {},
   "source": [
    "# Autovalores e Autovetores"
   ]
  },
  {
   "cell_type": "markdown",
   "metadata": {},
   "source": [
    "autovalores da matriz de covariância representam a variância que será observada quando os dados originais forem projetados no eixo dado pelo autovetor correspondente. Um determinado autovalor informa a “variância explicada” (Explained Variance) pelo seu componente principal (autovetor) correspondente."
   ]
  },
  {
   "cell_type": "code",
   "execution_count": 19,
   "metadata": {
    "collapsed": true
   },
   "outputs": [],
   "source": [
    "w,v=la.eig(cov)"
   ]
  },
  {
   "cell_type": "markdown",
   "metadata": {},
   "source": [
    "autovalor"
   ]
  },
  {
   "cell_type": "code",
   "execution_count": 20,
   "metadata": {},
   "outputs": [
    {
     "data": {
      "text/plain": [
       "array([  9.19335282e+07,   3.11898774e+06,   8.35806256e+03,\n",
       "         3.46209099e+03,   1.12597763e+03,   9.79228620e+02,\n",
       "         2.28915791e+02,   7.48192005e+01,   1.08185450e+01,\n",
       "         8.56649948e-01,   1.09327031e-01,   7.49821313e-02])"
      ]
     },
     "execution_count": 20,
     "metadata": {},
     "output_type": "execute_result"
    }
   ],
   "source": [
    "w"
   ]
  },
  {
   "cell_type": "markdown",
   "metadata": {},
   "source": [
    "autovetor"
   ]
  },
  {
   "cell_type": "code",
   "execution_count": 21,
   "metadata": {},
   "outputs": [
    {
     "data": {
      "text/plain": [
       "array([[ -5.30025911e-06,  -1.45263070e-05,   9.37085026e-04,\n",
       "         -6.58865132e-04,   3.85149949e-04,  -4.64374152e-03,\n",
       "         -9.66392535e-04,   2.91484180e-04,   1.76263310e-03,\n",
       "         -1.18899798e-01,   9.73303007e-01,   1.96257341e-01],\n",
       "       [ -3.08977134e-05,   2.38873666e-05,   2.60285919e-03,\n",
       "         -7.11707815e-03,  -5.08711383e-04,  -5.04417808e-03,\n",
       "         -1.76076783e-03,  -4.81915647e-03,   5.49883752e-03,\n",
       "         -9.92504243e-01,  -1.21625697e-01,   1.68022825e-03],\n",
       "       [  4.76110098e-05,  -5.06931927e-04,   3.24900753e-02,\n",
       "         -7.01501774e-03,  -3.79678376e-02,  -9.98165346e-01,\n",
       "         -2.90207692e-02,   1.50888956e-02,  -9.01417837e-04,\n",
       "          5.68256485e-03,  -3.94097783e-03,  -8.92231327e-04],\n",
       "       [ -2.79777952e-04,   2.87539301e-05,  -3.79534167e-02,\n",
       "         -8.55071168e-02,   5.30528012e-01,  -4.13779973e-02,\n",
       "          8.15299529e-01,   2.07649758e-01,  -1.54683202e-02,\n",
       "         -2.11485318e-03,   2.08096323e-04,  -5.94186005e-04],\n",
       "       [ -2.18575721e-04,   4.34151172e-05,  -7.06798744e-03,\n",
       "         -3.28558307e-02,   9.17230882e-02,  -2.35990933e-02,\n",
       "          1.84284927e-01,  -9.77700913e-01,  -4.27100255e-03,\n",
       "          4.59766235e-03,   7.36322968e-04,   7.16711462e-04],\n",
       "       [ -2.94713971e-03,   3.73927439e-03,   2.43264764e-01,\n",
       "         -6.60347420e-01,  -2.08816905e-02,   1.38463919e-02,\n",
       "         -3.24453062e-02,   8.97314725e-03,   7.09132956e-01,\n",
       "          9.46334577e-03,  -1.62856934e-03,   4.25823751e-03],\n",
       "       [ -2.95210833e-03,   3.75095576e-03,   2.38412961e-01,\n",
       "         -6.64906983e-01,  -2.42800083e-02,   1.58343864e-02,\n",
       "         -5.79822560e-02,   1.01148507e-02,  -7.04769614e-01,\n",
       "          1.24577642e-03,   1.79559321e-03,  -5.06906674e-03],\n",
       "       [  3.24592175e-02,  -9.99444071e-01,   6.81225483e-03,\n",
       "         -3.30170170e-03,   2.58503601e-04,   7.47601391e-04,\n",
       "         -1.12151986e-04,  -4.72953668e-06,  -1.87305708e-05,\n",
       "          1.47317151e-05,  -1.69794159e-05,  -6.77374367e-06],\n",
       "       [  9.99463540e-01,   3.24869620e-02,   2.28103089e-03,\n",
       "         -3.43976408e-03,   3.83249999e-04,   1.16991113e-04,\n",
       "         -1.27162520e-04,  -1.13691878e-04,   1.03115970e-06,\n",
       "          1.68725308e-06,  -1.04113815e-05,   6.11626267e-05],\n",
       "       [  6.70834127e-05,  -1.27940945e-05,  -2.86883139e-03,\n",
       "         -5.72122870e-04,  -4.03388874e-04,  -1.16828110e-04,\n",
       "         -4.28958954e-04,  -7.98953127e-04,   7.10721912e-03,\n",
       "         -2.54646042e-02,   1.94591353e-01,  -9.80523169e-01],\n",
       "       [ -2.83863331e-04,  -1.70981362e-04,  -7.10226222e-02,\n",
       "         -1.78815980e-02,   8.35436827e-01,  -1.84934426e-02,\n",
       "         -5.43840047e-01,  -2.26019311e-02,   8.06479373e-03,\n",
       "          8.26418539e-04,  -8.11242023e-04,   9.05258605e-06],\n",
       "       [  1.18976491e-03,  -5.27291860e-03,  -9.36121672e-01,\n",
       "         -3.36163513e-01,  -9.85104416e-02,  -2.37662522e-02,\n",
       "         -1.73969909e-02,   6.09850197e-03,   4.79798006e-03,\n",
       "          1.61517355e-04,  -1.54951500e-05,   3.00872666e-03]])"
      ]
     },
     "execution_count": 21,
     "metadata": {},
     "output_type": "execute_result"
    }
   ],
   "source": [
    "v"
   ]
  },
  {
   "cell_type": "markdown",
   "metadata": {},
   "source": [
    "# Ordenação dos autovalores e seus autovetores correspondentes em ordem decrescente."
   ]
  },
  {
   "cell_type": "code",
   "execution_count": 22,
   "metadata": {
    "collapsed": true
   },
   "outputs": [],
   "source": [
    "ind=np.argsort(w)[::-1]\n",
    "w_dec=w[ind]\n",
    "v_dec=v[ind]"
   ]
  },
  {
   "cell_type": "code",
   "execution_count": 23,
   "metadata": {},
   "outputs": [
    {
     "data": {
      "text/plain": [
       "array([  9.19335282e+07,   3.11898774e+06,   8.35806256e+03,\n",
       "         3.46209099e+03,   1.12597763e+03,   9.79228620e+02,\n",
       "         2.28915791e+02,   7.48192005e+01,   1.08185450e+01,\n",
       "         8.56649948e-01,   1.09327031e-01,   7.49821313e-02])"
      ]
     },
     "execution_count": 23,
     "metadata": {},
     "output_type": "execute_result"
    }
   ],
   "source": [
    "w_dec"
   ]
  },
  {
   "cell_type": "code",
   "execution_count": 24,
   "metadata": {},
   "outputs": [
    {
     "data": {
      "text/plain": [
       "array([[ -5.30025911e-06,  -1.45263070e-05,   9.37085026e-04,\n",
       "         -6.58865132e-04,   3.85149949e-04,  -4.64374152e-03,\n",
       "         -9.66392535e-04,   2.91484180e-04,   1.76263310e-03,\n",
       "         -1.18899798e-01,   9.73303007e-01,   1.96257341e-01],\n",
       "       [ -3.08977134e-05,   2.38873666e-05,   2.60285919e-03,\n",
       "         -7.11707815e-03,  -5.08711383e-04,  -5.04417808e-03,\n",
       "         -1.76076783e-03,  -4.81915647e-03,   5.49883752e-03,\n",
       "         -9.92504243e-01,  -1.21625697e-01,   1.68022825e-03],\n",
       "       [  4.76110098e-05,  -5.06931927e-04,   3.24900753e-02,\n",
       "         -7.01501774e-03,  -3.79678376e-02,  -9.98165346e-01,\n",
       "         -2.90207692e-02,   1.50888956e-02,  -9.01417837e-04,\n",
       "          5.68256485e-03,  -3.94097783e-03,  -8.92231327e-04],\n",
       "       [ -2.79777952e-04,   2.87539301e-05,  -3.79534167e-02,\n",
       "         -8.55071168e-02,   5.30528012e-01,  -4.13779973e-02,\n",
       "          8.15299529e-01,   2.07649758e-01,  -1.54683202e-02,\n",
       "         -2.11485318e-03,   2.08096323e-04,  -5.94186005e-04],\n",
       "       [ -2.18575721e-04,   4.34151172e-05,  -7.06798744e-03,\n",
       "         -3.28558307e-02,   9.17230882e-02,  -2.35990933e-02,\n",
       "          1.84284927e-01,  -9.77700913e-01,  -4.27100255e-03,\n",
       "          4.59766235e-03,   7.36322968e-04,   7.16711462e-04],\n",
       "       [ -2.94713971e-03,   3.73927439e-03,   2.43264764e-01,\n",
       "         -6.60347420e-01,  -2.08816905e-02,   1.38463919e-02,\n",
       "         -3.24453062e-02,   8.97314725e-03,   7.09132956e-01,\n",
       "          9.46334577e-03,  -1.62856934e-03,   4.25823751e-03],\n",
       "       [ -2.95210833e-03,   3.75095576e-03,   2.38412961e-01,\n",
       "         -6.64906983e-01,  -2.42800083e-02,   1.58343864e-02,\n",
       "         -5.79822560e-02,   1.01148507e-02,  -7.04769614e-01,\n",
       "          1.24577642e-03,   1.79559321e-03,  -5.06906674e-03],\n",
       "       [  3.24592175e-02,  -9.99444071e-01,   6.81225483e-03,\n",
       "         -3.30170170e-03,   2.58503601e-04,   7.47601391e-04,\n",
       "         -1.12151986e-04,  -4.72953668e-06,  -1.87305708e-05,\n",
       "          1.47317151e-05,  -1.69794159e-05,  -6.77374367e-06],\n",
       "       [  9.99463540e-01,   3.24869620e-02,   2.28103089e-03,\n",
       "         -3.43976408e-03,   3.83249999e-04,   1.16991113e-04,\n",
       "         -1.27162520e-04,  -1.13691878e-04,   1.03115970e-06,\n",
       "          1.68725308e-06,  -1.04113815e-05,   6.11626267e-05],\n",
       "       [  6.70834127e-05,  -1.27940945e-05,  -2.86883139e-03,\n",
       "         -5.72122870e-04,  -4.03388874e-04,  -1.16828110e-04,\n",
       "         -4.28958954e-04,  -7.98953127e-04,   7.10721912e-03,\n",
       "         -2.54646042e-02,   1.94591353e-01,  -9.80523169e-01],\n",
       "       [ -2.83863331e-04,  -1.70981362e-04,  -7.10226222e-02,\n",
       "         -1.78815980e-02,   8.35436827e-01,  -1.84934426e-02,\n",
       "         -5.43840047e-01,  -2.26019311e-02,   8.06479373e-03,\n",
       "          8.26418539e-04,  -8.11242023e-04,   9.05258605e-06],\n",
       "       [  1.18976491e-03,  -5.27291860e-03,  -9.36121672e-01,\n",
       "         -3.36163513e-01,  -9.85104416e-02,  -2.37662522e-02,\n",
       "         -1.73969909e-02,   6.09850197e-03,   4.79798006e-03,\n",
       "          1.61517355e-04,  -1.54951500e-05,   3.00872666e-03]])"
      ]
     },
     "execution_count": 24,
     "metadata": {},
     "output_type": "execute_result"
    }
   ],
   "source": [
    "v_dec"
   ]
  },
  {
   "cell_type": "code",
   "execution_count": 25,
   "metadata": {},
   "outputs": [
    {
     "data": {
      "text/plain": [
       "0.99999999999999944"
      ]
     },
     "execution_count": 25,
     "metadata": {},
     "output_type": "execute_result"
    }
   ],
   "source": [
    "la.norm(v[0])"
   ]
  },
  {
   "cell_type": "code",
   "execution_count": 26,
   "metadata": {},
   "outputs": [
    {
     "data": {
      "text/plain": [
       "1.0000000000000488"
      ]
     },
     "execution_count": 26,
     "metadata": {},
     "output_type": "execute_result"
    }
   ],
   "source": [
    "la.norm(v[1])"
   ]
  },
  {
   "cell_type": "code",
   "execution_count": 27,
   "metadata": {},
   "outputs": [
    {
     "data": {
      "text/plain": [
       "-3.556599459386689e-13"
      ]
     },
     "execution_count": 27,
     "metadata": {},
     "output_type": "execute_result"
    }
   ],
   "source": [
    "np.dot(v[0],v[1])"
   ]
  },
  {
   "cell_type": "markdown",
   "metadata": {},
   "source": [
    "taxa de variância explicada "
   ]
  },
  {
   "cell_type": "code",
   "execution_count": 28,
   "metadata": {},
   "outputs": [
    {
     "data": {
      "text/plain": [
       "array([  9.67041805e-01,   3.28083953e-02,   8.79178257e-05,\n",
       "         3.64174723e-05,   1.18440732e-05,   1.03004315e-05,\n",
       "         2.40794783e-06,   7.87017491e-07,   1.13799454e-07,\n",
       "         9.01103578e-09,   1.15000275e-09,   7.88731347e-10])"
      ]
     },
     "execution_count": 28,
     "metadata": {},
     "output_type": "execute_result"
    }
   ],
   "source": [
    "EVR=w/np.sum(w)\n",
    "EVR"
   ]
  }
 ],
 "metadata": {
  "kernelspec": {
   "display_name": "Python 3",
   "language": "python",
   "name": "python3"
  },
  "language_info": {
   "codemirror_mode": {
    "name": "ipython",
    "version": 3
   },
   "file_extension": ".py",
   "mimetype": "text/x-python",
   "name": "python",
   "nbconvert_exporter": "python",
   "pygments_lexer": "ipython3",
   "version": "3.6.5"
  }
 },
 "nbformat": 4,
 "nbformat_minor": 2
}
